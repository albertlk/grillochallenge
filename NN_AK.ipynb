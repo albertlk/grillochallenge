{
 "cells": [
  {
   "cell_type": "code",
   "execution_count": 1,
   "id": "a77e8cf1-e351-4be3-9e2a-68740b40c67a",
   "metadata": {},
   "outputs": [
    {
     "data": {
      "text/plain": [
       "'/Users/albertkong/grillochallenge'"
      ]
     },
     "execution_count": 1,
     "metadata": {},
     "output_type": "execute_result"
    }
   ],
   "source": [
    "import os\n",
    "import obspy\n",
    "from tensorflow.keras.models import Sequential\n",
    "from tensorflow.keras.layers import LSTM, Dense, ConvLSTM2D\n",
    "%matplotlib inline\n",
    "%run helperfunctions.ipynb\n",
    "os.getcwd()"
   ]
  },
  {
   "cell_type": "code",
   "execution_count": 2,
   "id": "4189c97c-e78c-4d7a-8ae6-8ca982b23ed3",
   "metadata": {},
   "outputs": [],
   "source": [
    "import warnings\n",
    "warnings.filterwarnings(\"ignore\")"
   ]
  },
  {
   "cell_type": "code",
   "execution_count": 3,
   "id": "0e5f2bd4-d9b1-4495-90fc-379b1f70244c",
   "metadata": {},
   "outputs": [],
   "source": [
    "os.chdir('lse_challenge/data')"
   ]
  },
  {
   "cell_type": "code",
   "execution_count": 4,
   "id": "10ab226d-6746-49f7-ba18-391e63105b2b",
   "metadata": {},
   "outputs": [],
   "source": [
    "# Signal List\n",
    "os.chdir('signal')\n",
    "signals = []\n",
    "signal_files = os.listdir()\n",
    "for sigfile in signal_files[0:200]: #Need to remove index for actual dataset\n",
    "    tmp_trace = obspy.read(sigfile)\n",
    "    cutlength = np.random.randint(900)\n",
    "    trace_mat = [tmp_trace[0].data[cutlength:1000+cutlength], tmp_trace[1].data[cutlength:1000+cutlength], tmp_trace[2].data[cutlength:1000+cutlength]]\n",
    "    mag = np.sqrt(trace_mat[0]**2 + trace_mat[1]**2 + trace_mat[2]**2)\n",
    "    signals.append([trace_mat[0], trace_mat[1], trace_mat[2], mag, cutlength, 1])\n",
    "    \n",
    "    # Negative Transformations\n",
    "    neg_mat = rot_xyz(trace_mat, 0, -np.pi, 0)\n",
    "    signals.append([neg_mat[0], neg_mat[1], neg_mat[2], mag, cutlength, 1])\n",
    "    \n",
    "    # X, Y, and Z Rotations by Theta\n",
    "    theta = np.random.uniform()*2*np.pi\n",
    "    x_mat = rot_x(trace_mat, theta)\n",
    "    signals.append([x_mat[0], x_mat[1], x_mat[2], mag, cutlength, 1])\n",
    "    y_mat = rot_y(trace_mat, theta)\n",
    "    signals.append([y_mat[0], y_mat[1], y_mat[2], mag, cutlength, 1])\n",
    "    z_mat = rot_z(trace_mat, theta)\n",
    "    signals.append([z_mat[0], z_mat[1], z_mat[2], mag, cutlength, 1])\n",
    "    \n",
    "    # General Rotation by alpha, beta, gamma\n",
    "    alpha = np.random.uniform()*2*np.pi\n",
    "    beta = np.random.uniform()*2*np.pi\n",
    "    gamma = np.random.uniform()*2*np.pi\n",
    "    rot_mat = rot_xyz(trace_mat, alpha, beta, gamma)\n",
    "    signals.append([rot_mat[0], rot_mat[1], rot_mat[2], mag, cutlength, 1])\n",
    "    \n",
    "\n",
    "# Noise List\n",
    "os.chdir('../noise')\n",
    "noise_files = os.listdir()\n",
    "for noisefile in noise_files[0:200]: #Need to remove index for actual dataset\n",
    "    tmp_trace = obspy.read(noisefile)\n",
    "    cutlength = np.random.randint(900)\n",
    "    trace_mat = [tmp_trace[0].data[cutlength:1000+cutlength], tmp_trace[1].data[cutlength:1000+cutlength], tmp_trace[2].data[cutlength:1000+cutlength]]\n",
    "    mag = np.sqrt(trace_mat[0]**2 + trace_mat[1]**2 + trace_mat[2]**2)\n",
    "    signals.append([trace_mat[0], trace_mat[1], trace_mat[2], mag, cutlength, 0])\n",
    "    \n",
    "    # Negative Transformations\n",
    "    neg_mat = rot_xyz(trace_mat, 0, -np.pi, 0)\n",
    "    signals.append([neg_mat[0], neg_mat[1], neg_mat[2], mag, cutlength, 0])\n",
    "    \n",
    "    # X, Y, and Z Rotations by Theta\n",
    "    theta = np.random.uniform()*2*np.pi\n",
    "    x_mat = rot_x(trace_mat, theta)\n",
    "    signals.append([x_mat[0], x_mat[1], x_mat[2], mag, cutlength, 0])\n",
    "    y_mat = rot_y(trace_mat, theta)\n",
    "    signals.append([y_mat[0], y_mat[1], y_mat[2], mag, cutlength, 0])\n",
    "    z_mat = rot_z(trace_mat, theta)\n",
    "    signals.append([z_mat[0], z_mat[1], z_mat[2], mag, cutlength, 0])\n",
    "    \n",
    "    # General Rotation by alpha, beta, gamma\n",
    "    alpha = np.random.uniform()*2*np.pi\n",
    "    beta = np.random.uniform()*2*np.pi\n",
    "    gamma = np.random.uniform()*2*np.pi\n",
    "    rot_mat = rot_xyz(trace_mat, alpha, beta, gamma)\n",
    "    signals.append([rot_mat[0], rot_mat[1], rot_mat[2], mag, cutlength, 0])\n",
    "    \n",
    "os.chdir('../')\n",
    "\n",
    "sig_df = pd.DataFrame(signals, columns = [\"tr_x\", \"tr_y\", \"tr_z\", \"magnitude\", \"cutlength\", \"signal\"])\n",
    "sig_df['p_arrival'] = 1000 - sig_df['cutlength']"
   ]
  },
  {
   "cell_type": "code",
   "execution_count": 5,
   "id": "49c18c4a-ad91-4257-be22-9fb520697af3",
   "metadata": {},
   "outputs": [],
   "source": [
    "#sig_df.head()"
   ]
  },
  {
   "cell_type": "code",
   "execution_count": 6,
   "id": "95c53f9a-a758-49e8-a7ff-9e18aa76a5f3",
   "metadata": {},
   "outputs": [],
   "source": [
    "features = []\n",
    "targets = []\n",
    "\n",
    "for index, slice_df in sig_df.iterrows():\n",
    "    x = slice_df[\"tr_x\"]\n",
    "    y = slice_df[\"tr_y\"]\n",
    "    z = slice_df[\"tr_z\"]\n",
    "    mag = slice_df[\"magnitude\"]\n",
    "    signal = slice_df[\"signal\"]\n",
    "    p_arrival = slice_df[\"p_arrival\"]\n",
    "    d = {\"x\": x, \"y\":y, \"z\":z, \"magnitude\":mag}\n",
    "    \n",
    "    temp_df = pd.DataFrame(data = d)\n",
    "    temp_df[\"STA\"] = temp_df[\"magnitude\"].rolling(25).mean()\n",
    "    temp_df[\"LTA\"] = temp_df[\"magnitude\"].rolling(50).mean()\n",
    "    temp_df[\"STV\"] = temp_df[\"magnitude\"].rolling(25).var()\n",
    "    temp_df[\"LTV\"] = temp_df[\"magnitude\"].rolling(50).var()\n",
    "    temp_df[\"pwave\"] = 0\n",
    "    temp_df[\"pwave\"].loc[p_arrival:(p_arrival + 25)] = 1\n",
    "    \n",
    "    temp_df.dropna(inplace = True)\n",
    "    \n",
    "    features.append(temp_df.drop(columns = [\"pwave\"]).values)\n",
    "    targets.append(signal)"
   ]
  },
  {
   "cell_type": "code",
   "execution_count": 7,
   "id": "0b5e490b-72fc-4814-a7a4-5ae9cc8deabd",
   "metadata": {},
   "outputs": [],
   "source": [
    "X_train, X_test, y_train, y_test = train_test_split(features, targets, test_size = 0.3)"
   ]
  },
  {
   "cell_type": "code",
   "execution_count": 8,
   "id": "faced1bc-accf-45a2-abf5-5f7be4afa25a",
   "metadata": {},
   "outputs": [],
   "source": [
    "X_train = np.array(X_train)\n",
    "X_test = np.array(X_test)\n",
    "y_train = np.array(y_train)\n",
    "y_test = np.array(y_test)\n",
    "feature_shape = X_train[0].shape"
   ]
  },
  {
   "cell_type": "code",
   "execution_count": 19,
   "id": "9ed06870-7602-490e-9379-b8c2fced4e69",
   "metadata": {},
   "outputs": [
    {
     "ename": "ValueError",
     "evalue": "Input 0 of layer \"lstm_2\" is incompatible with the layer: expected ndim=3, found ndim=2. Full shape received: (None, 32)",
     "output_type": "error",
     "traceback": [
      "\u001b[0;31m---------------------------------------------------------------------------\u001b[0m",
      "\u001b[0;31mValueError\u001b[0m                                Traceback (most recent call last)",
      "Input \u001b[0;32mIn [19]\u001b[0m, in \u001b[0;36m<module>\u001b[0;34m\u001b[0m\n\u001b[1;32m      1\u001b[0m model \u001b[38;5;241m=\u001b[39m Sequential()\n\u001b[1;32m      2\u001b[0m model\u001b[38;5;241m.\u001b[39madd(LSTM(\u001b[38;5;241m32\u001b[39m, input_shape \u001b[38;5;241m=\u001b[39m feature_shape))\n\u001b[0;32m----> 3\u001b[0m \u001b[43mmodel\u001b[49m\u001b[38;5;241;43m.\u001b[39;49m\u001b[43madd\u001b[49m\u001b[43m(\u001b[49m\u001b[43mLSTM\u001b[49m\u001b[43m(\u001b[49m\u001b[38;5;241;43m32\u001b[39;49m\u001b[43m,\u001b[49m\u001b[43m \u001b[49m\u001b[43minput_shape\u001b[49m\u001b[43m \u001b[49m\u001b[38;5;241;43m=\u001b[39;49m\u001b[43m \u001b[49m\u001b[43mfeature_shape\u001b[49m\u001b[43m)\u001b[49m\u001b[43m)\u001b[49m\n\u001b[1;32m      4\u001b[0m model\u001b[38;5;241m.\u001b[39madd(Dense(\u001b[38;5;241m1\u001b[39m, activation \u001b[38;5;241m=\u001b[39m \u001b[38;5;124m'\u001b[39m\u001b[38;5;124msigmoid\u001b[39m\u001b[38;5;124m'\u001b[39m))\n\u001b[1;32m      5\u001b[0m model\u001b[38;5;241m.\u001b[39msummary()\n",
      "File \u001b[0;32m~/miniforge3/envs/mlenv/lib/python3.8/site-packages/tensorflow/python/training/tracking/base.py:629\u001b[0m, in \u001b[0;36mno_automatic_dependency_tracking.<locals>._method_wrapper\u001b[0;34m(self, *args, **kwargs)\u001b[0m\n\u001b[1;32m    627\u001b[0m \u001b[38;5;28mself\u001b[39m\u001b[38;5;241m.\u001b[39m_self_setattr_tracking \u001b[38;5;241m=\u001b[39m \u001b[38;5;28;01mFalse\u001b[39;00m  \u001b[38;5;66;03m# pylint: disable=protected-access\u001b[39;00m\n\u001b[1;32m    628\u001b[0m \u001b[38;5;28;01mtry\u001b[39;00m:\n\u001b[0;32m--> 629\u001b[0m   result \u001b[38;5;241m=\u001b[39m \u001b[43mmethod\u001b[49m\u001b[43m(\u001b[49m\u001b[38;5;28;43mself\u001b[39;49m\u001b[43m,\u001b[49m\u001b[43m \u001b[49m\u001b[38;5;241;43m*\u001b[39;49m\u001b[43margs\u001b[49m\u001b[43m,\u001b[49m\u001b[43m \u001b[49m\u001b[38;5;241;43m*\u001b[39;49m\u001b[38;5;241;43m*\u001b[39;49m\u001b[43mkwargs\u001b[49m\u001b[43m)\u001b[49m\n\u001b[1;32m    630\u001b[0m \u001b[38;5;28;01mfinally\u001b[39;00m:\n\u001b[1;32m    631\u001b[0m   \u001b[38;5;28mself\u001b[39m\u001b[38;5;241m.\u001b[39m_self_setattr_tracking \u001b[38;5;241m=\u001b[39m previous_value  \u001b[38;5;66;03m# pylint: disable=protected-access\u001b[39;00m\n",
      "File \u001b[0;32m~/miniforge3/envs/mlenv/lib/python3.8/site-packages/keras/utils/traceback_utils.py:67\u001b[0m, in \u001b[0;36mfilter_traceback.<locals>.error_handler\u001b[0;34m(*args, **kwargs)\u001b[0m\n\u001b[1;32m     65\u001b[0m \u001b[38;5;28;01mexcept\u001b[39;00m \u001b[38;5;167;01mException\u001b[39;00m \u001b[38;5;28;01mas\u001b[39;00m e:  \u001b[38;5;66;03m# pylint: disable=broad-except\u001b[39;00m\n\u001b[1;32m     66\u001b[0m   filtered_tb \u001b[38;5;241m=\u001b[39m _process_traceback_frames(e\u001b[38;5;241m.\u001b[39m__traceback__)\n\u001b[0;32m---> 67\u001b[0m   \u001b[38;5;28;01mraise\u001b[39;00m e\u001b[38;5;241m.\u001b[39mwith_traceback(filtered_tb) \u001b[38;5;28;01mfrom\u001b[39;00m \u001b[38;5;28mNone\u001b[39m\n\u001b[1;32m     68\u001b[0m \u001b[38;5;28;01mfinally\u001b[39;00m:\n\u001b[1;32m     69\u001b[0m   \u001b[38;5;28;01mdel\u001b[39;00m filtered_tb\n",
      "File \u001b[0;32m~/miniforge3/envs/mlenv/lib/python3.8/site-packages/keras/engine/input_spec.py:214\u001b[0m, in \u001b[0;36massert_input_compatibility\u001b[0;34m(input_spec, inputs, layer_name)\u001b[0m\n\u001b[1;32m    212\u001b[0m   ndim \u001b[38;5;241m=\u001b[39m shape\u001b[38;5;241m.\u001b[39mrank\n\u001b[1;32m    213\u001b[0m   \u001b[38;5;28;01mif\u001b[39;00m ndim \u001b[38;5;241m!=\u001b[39m spec\u001b[38;5;241m.\u001b[39mndim:\n\u001b[0;32m--> 214\u001b[0m     \u001b[38;5;28;01mraise\u001b[39;00m \u001b[38;5;167;01mValueError\u001b[39;00m(\u001b[38;5;124mf\u001b[39m\u001b[38;5;124m'\u001b[39m\u001b[38;5;124mInput \u001b[39m\u001b[38;5;132;01m{\u001b[39;00minput_index\u001b[38;5;132;01m}\u001b[39;00m\u001b[38;5;124m of layer \u001b[39m\u001b[38;5;124m\"\u001b[39m\u001b[38;5;132;01m{\u001b[39;00mlayer_name\u001b[38;5;132;01m}\u001b[39;00m\u001b[38;5;124m\"\u001b[39m\u001b[38;5;124m \u001b[39m\u001b[38;5;124m'\u001b[39m\n\u001b[1;32m    215\u001b[0m                      \u001b[38;5;124m'\u001b[39m\u001b[38;5;124mis incompatible with the layer: \u001b[39m\u001b[38;5;124m'\u001b[39m\n\u001b[1;32m    216\u001b[0m                      \u001b[38;5;124mf\u001b[39m\u001b[38;5;124m'\u001b[39m\u001b[38;5;124mexpected ndim=\u001b[39m\u001b[38;5;132;01m{\u001b[39;00mspec\u001b[38;5;241m.\u001b[39mndim\u001b[38;5;132;01m}\u001b[39;00m\u001b[38;5;124m, found ndim=\u001b[39m\u001b[38;5;132;01m{\u001b[39;00mndim\u001b[38;5;132;01m}\u001b[39;00m\u001b[38;5;124m. \u001b[39m\u001b[38;5;124m'\u001b[39m\n\u001b[1;32m    217\u001b[0m                      \u001b[38;5;124mf\u001b[39m\u001b[38;5;124m'\u001b[39m\u001b[38;5;124mFull shape received: \u001b[39m\u001b[38;5;132;01m{\u001b[39;00m\u001b[38;5;28mtuple\u001b[39m(shape)\u001b[38;5;132;01m}\u001b[39;00m\u001b[38;5;124m'\u001b[39m)\n\u001b[1;32m    218\u001b[0m \u001b[38;5;28;01mif\u001b[39;00m spec\u001b[38;5;241m.\u001b[39mmax_ndim \u001b[38;5;129;01mis\u001b[39;00m \u001b[38;5;129;01mnot\u001b[39;00m \u001b[38;5;28;01mNone\u001b[39;00m:\n\u001b[1;32m    219\u001b[0m   ndim \u001b[38;5;241m=\u001b[39m x\u001b[38;5;241m.\u001b[39mshape\u001b[38;5;241m.\u001b[39mrank\n",
      "\u001b[0;31mValueError\u001b[0m: Input 0 of layer \"lstm_2\" is incompatible with the layer: expected ndim=3, found ndim=2. Full shape received: (None, 32)"
     ]
    }
   ],
   "source": [
    "model = Sequential()\n",
    "model.add(LSTM(32, input_shape = feature_shape))\n",
    "model.add(LSTM(32, input_shape = feature_shape))\n",
    "model.add(Dense(1, activation = 'sigmoid'))\n",
    "model.summary()"
   ]
  },
  {
   "cell_type": "code",
   "execution_count": 10,
   "id": "12ddc60a-9e49-496f-a55b-05bbc707eb08",
   "metadata": {},
   "outputs": [
    {
     "name": "stdout",
     "output_type": "stream",
     "text": [
      "Epoch 1/30\n"
     ]
    },
    {
     "name": "stderr",
     "output_type": "stream",
     "text": [
      "2022-03-02 17:41:29.436140: W tensorflow/core/platform/profile_utils/cpu_utils.cc:128] Failed to get CPU frequency: 0 Hz\n",
      "2022-03-02 17:41:30.194344: I tensorflow/core/grappler/optimizers/custom_graph_optimizer_registry.cc:113] Plugin optimizer for device_type GPU is enabled.\n",
      "2022-03-02 17:41:30.359990: I tensorflow/core/grappler/optimizers/custom_graph_optimizer_registry.cc:113] Plugin optimizer for device_type GPU is enabled.\n",
      "2022-03-02 17:41:33.395560: I tensorflow/core/grappler/optimizers/custom_graph_optimizer_registry.cc:113] Plugin optimizer for device_type GPU is enabled.\n"
     ]
    },
    {
     "name": "stdout",
     "output_type": "stream",
     "text": [
      "53/53 [==============================] - 39s 460ms/step - loss: 0.4949 - accuracy: 0.7018\n",
      "Epoch 2/30\n",
      "53/53 [==============================] - 11s 207ms/step - loss: 0.6082 - accuracy: 0.7911\n",
      "Epoch 3/30\n",
      "53/53 [==============================] - 11s 205ms/step - loss: 0.5506 - accuracy: 0.6988\n",
      "Epoch 4/30\n",
      "53/53 [==============================] - 11s 208ms/step - loss: 0.6508 - accuracy: 0.6393\n",
      "Epoch 5/30\n",
      "53/53 [==============================] - 11s 203ms/step - loss: 0.5850 - accuracy: 0.7851\n",
      "Epoch 6/30\n",
      "53/53 [==============================] - 11s 207ms/step - loss: 0.5997 - accuracy: 0.6768\n",
      "Epoch 7/30\n",
      "53/53 [==============================] - 11s 204ms/step - loss: 0.5509 - accuracy: 0.7351\n",
      "Epoch 8/30\n",
      "53/53 [==============================] - 11s 202ms/step - loss: 0.5190 - accuracy: 0.7417\n",
      "Epoch 9/30\n",
      "53/53 [==============================] - 11s 208ms/step - loss: 0.4652 - accuracy: 0.8202\n",
      "Epoch 10/30\n",
      "53/53 [==============================] - 11s 205ms/step - loss: 0.4225 - accuracy: 0.8363\n",
      "Epoch 11/30\n",
      "53/53 [==============================] - 11s 204ms/step - loss: 0.5009 - accuracy: 0.7411\n",
      "Epoch 12/30\n",
      "53/53 [==============================] - 11s 205ms/step - loss: 0.5097 - accuracy: 0.7244\n",
      "Epoch 13/30\n",
      "53/53 [==============================] - 11s 210ms/step - loss: 0.4366 - accuracy: 0.7917\n",
      "Epoch 14/30\n",
      "53/53 [==============================] - 11s 208ms/step - loss: 0.4360 - accuracy: 0.8018\n",
      "Epoch 15/30\n",
      "53/53 [==============================] - 11s 217ms/step - loss: 0.4719 - accuracy: 0.8018\n",
      "Epoch 16/30\n",
      "53/53 [==============================] - 11s 209ms/step - loss: 0.4944 - accuracy: 0.7827\n",
      "Epoch 17/30\n",
      "53/53 [==============================] - 11s 211ms/step - loss: 0.3765 - accuracy: 0.8470\n",
      "Epoch 18/30\n",
      "53/53 [==============================] - 11s 214ms/step - loss: 0.5364 - accuracy: 0.7429\n",
      "Epoch 19/30\n",
      "53/53 [==============================] - 11s 210ms/step - loss: 0.4697 - accuracy: 0.7714\n",
      "Epoch 20/30\n",
      "53/53 [==============================] - 11s 215ms/step - loss: 0.4538 - accuracy: 0.7845\n",
      "Epoch 21/30\n",
      "53/53 [==============================] - 12s 218ms/step - loss: 0.3960 - accuracy: 0.8292\n",
      "Epoch 22/30\n",
      "53/53 [==============================] - 11s 214ms/step - loss: 0.3814 - accuracy: 0.8357\n",
      "Epoch 23/30\n",
      "53/53 [==============================] - 11s 209ms/step - loss: 0.4372 - accuracy: 0.8393\n",
      "Epoch 24/30\n",
      "53/53 [==============================] - 11s 207ms/step - loss: 0.6500 - accuracy: 0.6560\n",
      "Epoch 25/30\n",
      "53/53 [==============================] - 14s 259ms/step - loss: 0.4300 - accuracy: 0.8018\n",
      "Epoch 26/30\n",
      "53/53 [==============================] - 11s 209ms/step - loss: 0.4360 - accuracy: 0.7452\n",
      "Epoch 27/30\n",
      "53/53 [==============================] - 11s 208ms/step - loss: 0.4367 - accuracy: 0.7601\n",
      "Epoch 28/30\n",
      "53/53 [==============================] - 11s 214ms/step - loss: 0.4504 - accuracy: 0.7542\n",
      "Epoch 29/30\n",
      "53/53 [==============================] - 11s 207ms/step - loss: 0.4841 - accuracy: 0.8006\n",
      "Epoch 30/30\n",
      "53/53 [==============================] - 11s 211ms/step - loss: 0.3603 - accuracy: 0.8607\n"
     ]
    },
    {
     "data": {
      "text/plain": [
       "<keras.callbacks.History at 0x16c3fab50>"
      ]
     },
     "execution_count": 10,
     "metadata": {},
     "output_type": "execute_result"
    }
   ],
   "source": [
    "model.compile(loss = 'binary_crossentropy', optimizer = \"adam\", metrics = ['accuracy'])\n",
    "model.fit(X_train, y_train, epochs = 30)"
   ]
  },
  {
   "cell_type": "code",
   "execution_count": 11,
   "id": "c11df07e-d09f-45cc-b16b-e78fad661b12",
   "metadata": {},
   "outputs": [
    {
     "name": "stderr",
     "output_type": "stream",
     "text": [
      "2022-03-02 17:47:33.334879: I tensorflow/core/grappler/optimizers/custom_graph_optimizer_registry.cc:113] Plugin optimizer for device_type GPU is enabled.\n",
      "2022-03-02 17:47:33.467899: I tensorflow/core/grappler/optimizers/custom_graph_optimizer_registry.cc:113] Plugin optimizer for device_type GPU is enabled.\n"
     ]
    },
    {
     "name": "stdout",
     "output_type": "stream",
     "text": [
      "Loss: 0.9183517098426819, Accuracy: 0.5888888835906982\n"
     ]
    }
   ],
   "source": [
    "model_loss, model_accuracy = model.evaluate(X_test, y_test, verbose = 0)\n",
    "print(f\"Loss: {model_loss}, Accuracy: {model_accuracy}\")"
   ]
  },
  {
   "cell_type": "code",
   "execution_count": 12,
   "id": "3cee6a12-5168-416c-abc1-42e0fae4a0ba",
   "metadata": {},
   "outputs": [
    {
     "name": "stderr",
     "output_type": "stream",
     "text": [
      "2022-03-02 17:47:42.682272: I tensorflow/core/grappler/optimizers/custom_graph_optimizer_registry.cc:113] Plugin optimizer for device_type GPU is enabled.\n",
      "2022-03-02 17:47:42.721195: I tensorflow/core/grappler/optimizers/custom_graph_optimizer_registry.cc:113] Plugin optimizer for device_type GPU is enabled.\n"
     ]
    },
    {
     "name": "stdout",
     "output_type": "stream",
     "text": [
      "F1 Score: 0.7034068136272545\n"
     ]
    }
   ],
   "source": [
    "predictions = model.predict(X_test)\n",
    "predictions = predictions > 0.5\n",
    "f1_score = sklearn.metrics.f1_score(y_test, predictions)\n",
    "print(f\"F1 Score: {f1_score}\")"
   ]
  },
  {
   "cell_type": "code",
   "execution_count": 13,
   "id": "28053b06-a0a5-4bdf-84df-602db3ac7897",
   "metadata": {},
   "outputs": [
    {
     "name": "stdout",
     "output_type": "stream",
     "text": [
      "F1 Score: 0.7150696496411988\n"
     ]
    }
   ],
   "source": [
    "predictions = model.predict(X_train)\n",
    "predictions = predictions > 0.5\n",
    "f1_score = sklearn.metrics.f1_score(y_train, predictions)\n",
    "print(f\"F1 Score: {f1_score}\")"
   ]
  },
  {
   "cell_type": "code",
   "execution_count": null,
   "id": "55ff0a0d-c66a-4c60-b0ca-81f72123be1f",
   "metadata": {},
   "outputs": [],
   "source": []
  },
  {
   "cell_type": "code",
   "execution_count": null,
   "id": "f02f7a9d-14b8-4a0f-8392-9b6a1245a43f",
   "metadata": {},
   "outputs": [],
   "source": []
  },
  {
   "cell_type": "code",
   "execution_count": null,
   "id": "68166b58-379b-46d2-b9f7-f4063147b6cb",
   "metadata": {},
   "outputs": [],
   "source": []
  },
  {
   "cell_type": "code",
   "execution_count": null,
   "id": "f4f15ce4-958a-477c-b071-8ec709305665",
   "metadata": {},
   "outputs": [],
   "source": []
  },
  {
   "cell_type": "code",
   "execution_count": null,
   "id": "4af9ffb0-4f73-4376-9ede-beee58aac06f",
   "metadata": {},
   "outputs": [],
   "source": []
  }
 ],
 "metadata": {
  "kernelspec": {
   "display_name": "Python 3 (ipykernel)",
   "language": "python",
   "name": "python3"
  },
  "language_info": {
   "codemirror_mode": {
    "name": "ipython",
    "version": 3
   },
   "file_extension": ".py",
   "mimetype": "text/x-python",
   "name": "python",
   "nbconvert_exporter": "python",
   "pygments_lexer": "ipython3",
   "version": "3.8.12"
  }
 },
 "nbformat": 4,
 "nbformat_minor": 5
}
