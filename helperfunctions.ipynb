{
 "cells": [
  {
   "cell_type": "code",
   "execution_count": null,
   "id": "035a210f-08cf-4389-821a-b027e1b98576",
   "metadata": {},
   "outputs": [],
   "source": [
    "import pandas as pd\n",
    "import numpy as np\n",
    "import math"
   ]
  },
  {
   "cell_type": "code",
   "execution_count": 2,
   "id": "c21fda6e-059f-4c54-ab58-5e3813440854",
   "metadata": {},
   "outputs": [],
   "source": [
    "## Functions for generating rotation matrices\n",
    "\n",
    "# Rotates matrix theta radians about the X axis\n",
    "def rot_x (mat, theta):\n",
    "    sint = math.sin(theta)\n",
    "    cost = math.cos(theta)\n",
    "    \n",
    "    Rx = [[1, 0, 0],\n",
    "      [0, cost, -sint],\n",
    "      [0, sint, cost]]\n",
    "    \n",
    "    rot_mat = np.matmul(Rx, mat)\n",
    "    \n",
    "    return rot_mat\n",
    "\n",
    "# Rotates matrix theta radians about the Y axis\n",
    "def rot_y (mat, theta):\n",
    "    sint = math.sin(theta)\n",
    "    cost = math.cos(theta)\n",
    "    \n",
    "    Ry = [[cost, 0, sint],\n",
    "      [0, 1, 0],\n",
    "      [-sint, 0, cost]]\n",
    "    \n",
    "    rot_mat = np.matmul(Ry, mat)\n",
    "    \n",
    "    return rot_mat\n",
    "\n",
    "# Rotates matrix theta radians about the Z axis \n",
    "def rot_z (mat, theta):\n",
    "    sint = math.sin(theta)\n",
    "    cost = math.cos(theta)\n",
    "    \n",
    "    Rz = [[cost, -sint, 0],\n",
    "      [sint, cost, 0],\n",
    "      [0, 0, 1]]\n",
    "    \n",
    "    rot_mat = np.matmul(Rz, mat)\n",
    "    \n",
    "    return rot_mat\n",
    "\n",
    "# General rotation with yaw of a radians, pitch of b radians, and roll of c radians\n",
    "def rot_xyz(mat, a, b, c):\n",
    "    rz = rot_z(np.identity(3), a)\n",
    "    ry = rot_y(np.identity(3), b)\n",
    "    rx = rot_x(np.identity(3), c)\n",
    "    \n",
    "    rot_mat = np.matmul(rx, mat)\n",
    "    rot_mat = np.matmul(ry, rot_mat)\n",
    "    rot_mat = np.matmul(rz, rot_mat)\n",
    "    \n",
    "    return rot_mat"
   ]
  },
  {
   "cell_type": "code",
   "execution_count": null,
   "id": "2bb825d7-a279-4284-8f9c-9b98f9109266",
   "metadata": {},
   "outputs": [],
   "source": [
    "# Plots all three channels from a given sample from the signals df\n",
    "def plot_sig (df, index):\n",
    "    x_channel = df['trmatrix_cut'][index][0]\n",
    "    y_channel = df['trmatrix_cut'][index][1]\n",
    "    z_channel = df['trmatrix_cut'][index][2]\n",
    "    \n",
    "    fig, axs = plt.subplots(3)\n",
    "    \n",
    "    axs[0].plot(x_channel)\n",
    "    axs[1].plot(y_channel)\n",
    "    axs[2].plot(z_channel)\n",
    "    \n",
    "    return None"
   ]
  }
 ],
 "metadata": {
  "kernelspec": {
   "display_name": "Python 3 (ipykernel)",
   "language": "python",
   "name": "python3"
  },
  "language_info": {
   "codemirror_mode": {
    "name": "ipython",
    "version": 3
   },
   "file_extension": ".py",
   "mimetype": "text/x-python",
   "name": "python",
   "nbconvert_exporter": "python",
   "pygments_lexer": "ipython3",
   "version": "3.7.11"
  }
 },
 "nbformat": 4,
 "nbformat_minor": 5
}
