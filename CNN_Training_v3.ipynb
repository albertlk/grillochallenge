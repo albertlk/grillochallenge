{
 "cells": [
  {
   "cell_type": "code",
   "execution_count": 1,
   "id": "d335c9dd-4e13-4d1f-ab8f-a5361d3f2223",
   "metadata": {},
   "outputs": [],
   "source": [
    "import os\n",
    "import obspy\n",
    "from tensorflow.keras.models import Sequential, load_model\n",
    "from tensorflow.keras.layers import Flatten, LSTM, Dense, Dropout, Conv1D\n",
    "from tensorflow.keras.layers import TimeDistributed, ConvLSTM2D, MaxPooling1D\n",
    "from tensorflow.keras.utils import to_categorical\n",
    "from pathlib import Path\n",
    "%run helperfunctions.ipynb\n",
    "#os.getcwd()"
   ]
  },
  {
   "cell_type": "code",
   "execution_count": 2,
   "id": "6d3c2183-4573-43e4-8d6d-b48af94a6f34",
   "metadata": {},
   "outputs": [],
   "source": [
    "import warnings\n",
    "warnings.filterwarnings(\"ignore\")"
   ]
  },
  {
   "cell_type": "code",
   "execution_count": 3,
   "id": "25124d71-a1a2-4db0-821b-7627ae7601dc",
   "metadata": {},
   "outputs": [],
   "source": [
    "os.chdir('lse_challenge/data')"
   ]
  },
  {
   "cell_type": "code",
   "execution_count": 4,
   "id": "1a74936c-a917-4a94-9b87-ca860b8bf4fe",
   "metadata": {
    "tags": []
   },
   "outputs": [],
   "source": [
    "# Signal List\n",
    "os.chdir('signal')\n",
    "signals = []\n",
    "signal_files = os.listdir()\n",
    "for sigfile in signal_files: \n",
    "    stream = obspy.read(sigfile)\n",
    "    cutlength = np.random.randint(16, 95) # Aligning with the [0.5 sec, 3 sec] range\n",
    "    \n",
    "    for tr in stream:\n",
    "        tr.data = tr.data[cutlength:1000+cutlength]\n",
    "        tr.normalize()\n",
    "    \n",
    "    trace_mat = [stream[0].data, stream[1].data, stream[2].data]\n",
    "    signals.append([trace_mat[0], cutlength, 1])\n",
    "    signals.append([trace_mat[1], cutlength, 1])\n",
    "    signals.append([trace_mat[2], cutlength, 1])\n",
    "\n",
    "\n",
    "# Noise List\n",
    "os.chdir('../noise')\n",
    "noise_files = os.listdir()\n",
    "noise_files = random.sample(noise_files, 2000) #Need to expand for final model\n",
    "for noisefile in noise_files: \n",
    "    stream = obspy.read(noisefile)\n",
    "    cutlength = np.random.randint(16, 95) # Aligning with the [0.5 sec, 3 sec] range\n",
    "    \n",
    "    for tr in stream:\n",
    "        tr.data = tr.data[cutlength:1000+cutlength]\n",
    "        tr.normalize()\n",
    "    \n",
    "    trace_mat = [stream[0].data, stream[1].data, stream[2].data]\n",
    "    signals.append([trace_mat[0], cutlength, 0])\n",
    "    signals.append([trace_mat[1], cutlength, 0])\n",
    "    signals.append([trace_mat[2], cutlength, 0])\n",
    "    \n",
    "os.chdir('../')\n",
    "\n",
    "sig_df = pd.DataFrame(signals, columns = [\"trace\", \"cutlength\", \"signal\"])\n",
    "sig_df['p_arrival'] = 1000 - sig_df['cutlength']"
   ]
  },
  {
   "cell_type": "markdown",
   "id": "86e79aee-267e-4998-af86-852de69ff2bf",
   "metadata": {},
   "source": [
    "## Training Neural Network for dectecting whether or not the trace has a signal"
   ]
  },
  {
   "cell_type": "code",
   "execution_count": 5,
   "id": "342199a9-ff4b-463a-9865-2318d29a3c51",
   "metadata": {},
   "outputs": [],
   "source": [
    "# For rolling averages\n",
    "roll_short = 25\n",
    "roll_long = 50\n",
    "\n",
    "# For location segments\n",
    "window_step = 20\n",
    "window_size = 20\n",
    "\n",
    "# Step size for CNN\n",
    "n_steps_sig = 3\n",
    "n_steps_loc = 2"
   ]
  },
  {
   "cell_type": "code",
   "execution_count": 6,
   "id": "62e21ba2-1958-47c3-9cf7-2dc6b99cd37d",
   "metadata": {
    "tags": []
   },
   "outputs": [],
   "source": [
    "# Features and Targets for Identifying the Entire Trace\n",
    "\n",
    "sigfeatures = []\n",
    "sigtargets = []\n",
    "\n",
    "for index, slice_df in sig_df.iterrows():\n",
    "    tr = slice_df[\"trace\"]\n",
    "    mag = abs(tr)\n",
    "    signal = slice_df[\"signal\"]\n",
    "    p_arrival = slice_df[\"p_arrival\"]\n",
    "    d = {\"trace\": tr, \"magnitude\":mag}\n",
    "    \n",
    "    temp_df = pd.DataFrame(data = d)\n",
    "    temp_df[\"STA\"] = temp_df[\"magnitude\"].rolling(roll_short).mean()\n",
    "    temp_df[\"LTA\"] = temp_df[\"magnitude\"].rolling(roll_long).mean()\n",
    "    temp_df[\"RAV\"] = temp_df[\"STA\"]/temp_df[\"LTA\"]\n",
    "    temp_df[\"STV\"] = temp_df[\"magnitude\"].rolling(roll_short).var()\n",
    "    temp_df[\"LTV\"] = temp_df[\"magnitude\"].rolling(roll_long).var()\n",
    "    \n",
    "    temp_df.dropna(inplace = True)\n",
    "    \n",
    "    sigfeatures.append(temp_df.values)\n",
    "    sigtargets.append(signal)"
   ]
  },
  {
   "cell_type": "code",
   "execution_count": 7,
   "id": "49e4ecba-b7d9-418d-84cb-ee51f13a392a",
   "metadata": {},
   "outputs": [],
   "source": [
    "X_train_sig, X_test_sig, y_train_sig, y_test_sig = train_test_split(sigfeatures, sigtargets, test_size = 0.3)"
   ]
  },
  {
   "cell_type": "code",
   "execution_count": 8,
   "id": "17ca959b-c802-47e6-96a8-48180078ce32",
   "metadata": {},
   "outputs": [],
   "source": [
    "X_train_sig = np.array(X_train_sig)\n",
    "X_test_sig = np.array(X_test_sig)\n",
    "y_train_sig = np.array(y_train_sig)\n",
    "y_test_sig = np.array(y_test_sig)"
   ]
  },
  {
   "cell_type": "code",
   "execution_count": 9,
   "id": "7440e18e-238e-4b63-8e45-46774f30fac9",
   "metadata": {},
   "outputs": [],
   "source": [
    "n_timesteps, n_features, n_outputs = X_train_sig.shape[1], X_train_sig.shape[2], 2\n",
    "n_length = int(n_timesteps/n_steps_sig)"
   ]
  },
  {
   "cell_type": "code",
   "execution_count": 10,
   "id": "c2efd4fe-e0bb-4669-be29-6eeb5655032d",
   "metadata": {},
   "outputs": [
    {
     "name": "stdout",
     "output_type": "stream",
     "text": [
      "Metal device set to: Apple M1\n"
     ]
    },
    {
     "name": "stderr",
     "output_type": "stream",
     "text": [
      "2022-03-14 09:39:08.696888: I tensorflow/core/common_runtime/pluggable_device/pluggable_device_factory.cc:305] Could not identify NUMA node of platform GPU ID 0, defaulting to 0. Your kernel may not have been built with NUMA support.\n",
      "2022-03-14 09:39:08.697139: I tensorflow/core/common_runtime/pluggable_device/pluggable_device_factory.cc:271] Created TensorFlow device (/job:localhost/replica:0/task:0/device:GPU:0 with 0 MB memory) -> physical PluggableDevice (device: 0, name: METAL, pci bus id: <undefined>)\n"
     ]
    },
    {
     "name": "stdout",
     "output_type": "stream",
     "text": [
      "Model: \"sequential\"\n",
      "_________________________________________________________________\n",
      " Layer (type)                Output Shape              Param #   \n",
      "=================================================================\n",
      " time_distributed (TimeDistr  (None, 3, 315, 64)       1408      \n",
      " ibuted)                                                         \n",
      "                                                                 \n",
      " time_distributed_1 (TimeDis  (None, 3, 313, 64)       12352     \n",
      " tributed)                                                       \n",
      "                                                                 \n",
      " time_distributed_2 (TimeDis  (None, 3, 313, 64)       0         \n",
      " tributed)                                                       \n",
      "                                                                 \n",
      " time_distributed_3 (TimeDis  (None, 3, 156, 64)       0         \n",
      " tributed)                                                       \n",
      "                                                                 \n",
      " time_distributed_4 (TimeDis  (None, 3, 9984)          0         \n",
      " tributed)                                                       \n",
      "                                                                 \n",
      " lstm (LSTM)                 (None, 100)               4034000   \n",
      "                                                                 \n",
      " dropout_1 (Dropout)         (None, 100)               0         \n",
      "                                                                 \n",
      " dense (Dense)               (None, 100)               10100     \n",
      "                                                                 \n",
      " dense_1 (Dense)             (None, 2)                 202       \n",
      "                                                                 \n",
      "=================================================================\n",
      "Total params: 4,058,062\n",
      "Trainable params: 4,058,062\n",
      "Non-trainable params: 0\n",
      "_________________________________________________________________\n"
     ]
    }
   ],
   "source": [
    "signalmodel = Sequential()\n",
    "signalmodel.add(TimeDistributed(Conv1D(filters=64, kernel_size=3, activation='relu'), input_shape=(n_steps_sig, n_length, n_features)))\n",
    "signalmodel.add(TimeDistributed(Conv1D(filters=64, kernel_size=3, activation='relu')))\n",
    "signalmodel.add(TimeDistributed(Dropout(0.5)))\n",
    "signalmodel.add(TimeDistributed(MaxPooling1D(pool_size=2)))\n",
    "signalmodel.add(TimeDistributed(Flatten()))\n",
    "signalmodel.add(LSTM(100))\n",
    "signalmodel.add(Dropout(0.5))\n",
    "signalmodel.add(Dense(100, activation='relu'))\n",
    "signalmodel.add(Dense(n_outputs, activation='softmax'))\n",
    "signalmodel.compile(loss='categorical_crossentropy', optimizer='adam', metrics=['accuracy'])\n",
    "\n",
    "signalmodel.summary()"
   ]
  },
  {
   "cell_type": "code",
   "execution_count": 11,
   "id": "4dd43679-5d48-4749-930c-d8a7268b6bb9",
   "metadata": {},
   "outputs": [],
   "source": [
    "X_train_sig1 = X_train_sig.reshape((X_train_sig.shape[0], n_steps_sig, n_length, n_features))\n",
    "X_test_sig1 = X_test_sig.reshape((X_test_sig.shape[0], n_steps_sig, n_length, n_features))\n",
    "y_train_sig1 = to_categorical(y_train_sig)\n",
    "y_test_sig1 = to_categorical(y_test_sig)"
   ]
  },
  {
   "cell_type": "code",
   "execution_count": 12,
   "id": "05762fe9-a946-4d1f-aa84-af74c96f34fa",
   "metadata": {},
   "outputs": [
    {
     "name": "stdout",
     "output_type": "stream",
     "text": [
      "Epoch 1/25\n"
     ]
    },
    {
     "name": "stderr",
     "output_type": "stream",
     "text": [
      "2022-03-14 09:39:09.530723: W tensorflow/core/platform/profile_utils/cpu_utils.cc:128] Failed to get CPU frequency: 0 Hz\n",
      "2022-03-14 09:39:10.306562: I tensorflow/core/grappler/optimizers/custom_graph_optimizer_registry.cc:113] Plugin optimizer for device_type GPU is enabled.\n",
      "2022-03-14 09:39:10.474843: I tensorflow/core/grappler/optimizers/custom_graph_optimizer_registry.cc:113] Plugin optimizer for device_type GPU is enabled.\n"
     ]
    },
    {
     "name": "stdout",
     "output_type": "stream",
     "text": [
      "  1/212 [..............................] - ETA: 4:13 - loss: 0.7160 - accuracy: 0.3750"
     ]
    },
    {
     "name": "stderr",
     "output_type": "stream",
     "text": [
      "2022-03-14 09:39:10.621782: I tensorflow/core/grappler/optimizers/custom_graph_optimizer_registry.cc:113] Plugin optimizer for device_type GPU is enabled.\n"
     ]
    },
    {
     "name": "stdout",
     "output_type": "stream",
     "text": [
      "212/212 [==============================] - 7s 26ms/step - loss: 0.2123 - accuracy: 0.9214\n",
      "Epoch 2/25\n",
      "212/212 [==============================] - 5s 25ms/step - loss: 0.0942 - accuracy: 0.9722\n",
      "Epoch 3/25\n",
      "212/212 [==============================] - 5s 25ms/step - loss: 0.0757 - accuracy: 0.9787\n",
      "Epoch 4/25\n",
      "212/212 [==============================] - 5s 24ms/step - loss: 0.0635 - accuracy: 0.9802\n",
      "Epoch 5/25\n",
      "212/212 [==============================] - 5s 24ms/step - loss: 0.0591 - accuracy: 0.9833\n",
      "Epoch 6/25\n",
      "212/212 [==============================] - 5s 25ms/step - loss: 0.0513 - accuracy: 0.9843\n",
      "Epoch 7/25\n",
      "212/212 [==============================] - 5s 24ms/step - loss: 0.0427 - accuracy: 0.9863\n",
      "Epoch 8/25\n",
      "212/212 [==============================] - 5s 25ms/step - loss: 0.0294 - accuracy: 0.9897\n",
      "Epoch 9/25\n",
      "212/212 [==============================] - 5s 24ms/step - loss: 0.0243 - accuracy: 0.9920\n",
      "Epoch 10/25\n",
      "212/212 [==============================] - 5s 25ms/step - loss: 0.0167 - accuracy: 0.9928\n",
      "Epoch 11/25\n",
      "212/212 [==============================] - 5s 24ms/step - loss: 0.0122 - accuracy: 0.9959\n",
      "Epoch 12/25\n",
      "212/212 [==============================] - 5s 24ms/step - loss: 0.0109 - accuracy: 0.9959\n",
      "Epoch 13/25\n",
      "212/212 [==============================] - 5s 24ms/step - loss: 0.0055 - accuracy: 0.9978\n",
      "Epoch 14/25\n",
      "212/212 [==============================] - 5s 25ms/step - loss: 0.0069 - accuracy: 0.9976\n",
      "Epoch 15/25\n",
      "212/212 [==============================] - 5s 24ms/step - loss: 0.0077 - accuracy: 0.9970\n",
      "Epoch 16/25\n",
      "212/212 [==============================] - 5s 25ms/step - loss: 0.0057 - accuracy: 0.9982\n",
      "Epoch 17/25\n",
      "212/212 [==============================] - 5s 25ms/step - loss: 0.0022 - accuracy: 0.9993\n",
      "Epoch 18/25\n",
      "212/212 [==============================] - 5s 25ms/step - loss: 0.0061 - accuracy: 0.9978\n",
      "Epoch 19/25\n",
      "212/212 [==============================] - 5s 25ms/step - loss: 0.0041 - accuracy: 0.9984\n",
      "Epoch 20/25\n",
      "212/212 [==============================] - 5s 25ms/step - loss: 0.0057 - accuracy: 0.9979\n",
      "Epoch 21/25\n",
      "212/212 [==============================] - 5s 25ms/step - loss: 0.0053 - accuracy: 0.9984\n",
      "Epoch 22/25\n",
      "212/212 [==============================] - 5s 25ms/step - loss: 0.0037 - accuracy: 0.9990\n",
      "Epoch 23/25\n",
      "212/212 [==============================] - 5s 25ms/step - loss: 0.0034 - accuracy: 0.9990\n",
      "Epoch 24/25\n",
      "212/212 [==============================] - 5s 25ms/step - loss: 0.0037 - accuracy: 0.9984\n",
      "Epoch 25/25\n",
      "212/212 [==============================] - 5s 25ms/step - loss: 0.0056 - accuracy: 0.9987\n"
     ]
    },
    {
     "data": {
      "text/plain": [
       "<keras.callbacks.History at 0x16e6f4d00>"
      ]
     },
     "execution_count": 12,
     "metadata": {},
     "output_type": "execute_result"
    }
   ],
   "source": [
    "signalmodel.fit(X_train_sig1, y_train_sig1, epochs = 25)"
   ]
  },
  {
   "cell_type": "code",
   "execution_count": 13,
   "id": "df3c632a-1ede-42ba-ab39-f141d39aef2c",
   "metadata": {
    "tags": []
   },
   "outputs": [
    {
     "name": "stderr",
     "output_type": "stream",
     "text": [
      "2022-03-14 09:41:22.551670: I tensorflow/core/grappler/optimizers/custom_graph_optimizer_registry.cc:113] Plugin optimizer for device_type GPU is enabled.\n",
      "2022-03-14 09:41:22.624658: I tensorflow/core/grappler/optimizers/custom_graph_optimizer_registry.cc:113] Plugin optimizer for device_type GPU is enabled.\n"
     ]
    },
    {
     "name": "stdout",
     "output_type": "stream",
     "text": [
      "Loss: 0.11442726105451584, Accuracy: 0.9813857674598694\n"
     ]
    },
    {
     "name": "stderr",
     "output_type": "stream",
     "text": [
      "2022-03-14 09:41:23.807684: I tensorflow/core/grappler/optimizers/custom_graph_optimizer_registry.cc:113] Plugin optimizer for device_type GPU is enabled.\n",
      "2022-03-14 09:41:23.857491: I tensorflow/core/grappler/optimizers/custom_graph_optimizer_registry.cc:113] Plugin optimizer for device_type GPU is enabled.\n"
     ]
    }
   ],
   "source": [
    "model_loss_sig, model_accuracy_sig = signalmodel.evaluate(X_test_sig1, y_test_sig1, verbose = 0)\n",
    "print(f\"Loss: {model_loss_sig}, Accuracy: {model_accuracy_sig}\")\n",
    "\n",
    "predictions_test_sig = signalmodel.predict(X_test_sig1)\n",
    "predictions_train_sig = signalmodel.predict(X_train_sig1)"
   ]
  },
  {
   "cell_type": "code",
   "execution_count": 14,
   "id": "4c1935b9-f790-4d36-b250-ef487fbfa5c0",
   "metadata": {},
   "outputs": [
    {
     "name": "stdout",
     "output_type": "stream",
     "text": [
      "Test F1 Score: 0.9797459663577068\n",
      "Train F1 Score: 1.0\n"
     ]
    }
   ],
   "source": [
    "class_test_sig = predictions_test_sig > 0.2\n",
    "f1_score_test_sig = sklearn.metrics.f1_score(y_test_sig1, class_test_sig, average = 'micro')\n",
    "print(f\"Test F1 Score: {f1_score_test_sig}\")\n",
    "\n",
    "class_train_sig = predictions_train_sig > 0.2\n",
    "f1_score_train_sig = sklearn.metrics.f1_score(y_train_sig1, class_train_sig, average = 'micro')\n",
    "print(f\"Train F1 Score: {f1_score_train_sig}\")"
   ]
  },
  {
   "cell_type": "code",
   "execution_count": 15,
   "id": "34ece8ed-fefd-46c6-9a10-bda10f14acde",
   "metadata": {},
   "outputs": [],
   "source": [
    "# ##@ TODO: Make compatible\n",
    "# tn, fp, fn, tp = sklearn.metrics.confusion_matrix(y_test_sig1, class_test_sig).ravel()\n",
    "# (tn, fp, fn, tp)"
   ]
  },
  {
   "cell_type": "code",
   "execution_count": 16,
   "id": "4ba8a993-2566-47d5-9e6c-991892586906",
   "metadata": {},
   "outputs": [
    {
     "data": {
      "text/plain": [
       "'/Users/albertkong/grillochallenge/lse_challenge/data'"
      ]
     },
     "execution_count": 16,
     "metadata": {},
     "output_type": "execute_result"
    }
   ],
   "source": [
    "# Exporting Model\n",
    "os.getcwd()"
   ]
  },
  {
   "cell_type": "code",
   "execution_count": 17,
   "id": "fc684822-d383-41db-9f34-3091d4019dd7",
   "metadata": {},
   "outputs": [],
   "source": [
    "# Only run if we need to get to root directory\n",
    "os.chdir('../../')"
   ]
  },
  {
   "cell_type": "code",
   "execution_count": 18,
   "id": "facea7d3-142a-4bd6-b52d-8e054c9e9e25",
   "metadata": {},
   "outputs": [
    {
     "name": "stderr",
     "output_type": "stream",
     "text": [
      "2022-03-14 09:41:28.352137: W tensorflow/python/util/util.cc:368] Sets are not currently considered sequences, but this may change in the future, so consider avoiding using them.\n",
      "WARNING:absl:Found untraced functions such as lstm_cell_layer_call_fn, lstm_cell_layer_call_and_return_conditional_losses while saving (showing 2 of 2). These functions will not be directly callable after loading.\n"
     ]
    },
    {
     "name": "stdout",
     "output_type": "stream",
     "text": [
      "INFO:tensorflow:Assets written to: signalmodelCNN_v3/assets\n"
     ]
    },
    {
     "name": "stderr",
     "output_type": "stream",
     "text": [
      "INFO:tensorflow:Assets written to: signalmodelCNN_v3/assets\n",
      "WARNING:absl:<keras.layers.recurrent.LSTMCell object at 0x16cf47760> has the same name 'LSTMCell' as a built-in Keras object. Consider renaming <class 'keras.layers.recurrent.LSTMCell'> to avoid naming conflicts when loading with `tf.keras.models.load_model`. If renaming is not possible, pass the object in the `custom_objects` parameter of the load function.\n"
     ]
    }
   ],
   "source": [
    "# Exporting signal model\n",
    "signalmodel.save('signalmodelCNN_v3')"
   ]
  },
  {
   "cell_type": "markdown",
   "id": "d4e749d3-4a62-4f33-af0e-26e1c4c03738",
   "metadata": {},
   "source": [
    "## Training Neural Network for dectecting where in the trace the p-wave starts"
   ]
  },
  {
   "cell_type": "code",
   "execution_count": 53,
   "id": "126a58b3-0726-406a-930d-fc4f4376b580",
   "metadata": {
    "tags": []
   },
   "outputs": [],
   "source": [
    "# Features and Targets for Identifying Windows of Trace\n",
    "locfeatures = []\n",
    "loctargets = []\n",
    "\n",
    "for index, slice_df in sig_df.iterrows():\n",
    "    \n",
    "    signal = slice_df[\"signal\"]\n",
    "    \n",
    "    if signal == 1:\n",
    "        tr = slice_df[\"trace\"]\n",
    "        mag = abs(tr)\n",
    "\n",
    "        p_arrival = slice_df[\"p_arrival\"]\n",
    "        d = {\"trace\":tr, \"magnitude\":mag}\n",
    "\n",
    "        temp_df = pd.DataFrame(data = d)\n",
    "        temp_df[\"STA\"] = temp_df[\"magnitude\"].rolling(roll_short).mean()\n",
    "        temp_df[\"LTA\"] = temp_df[\"magnitude\"].rolling(roll_long).mean()\n",
    "        temp_df[\"RAV\"] = temp_df[\"STA\"]/temp_df[\"LTA\"]\n",
    "        temp_df[\"STV\"] = temp_df[\"magnitude\"].rolling(roll_short).var()\n",
    "        temp_df[\"LTV\"] = temp_df[\"magnitude\"].rolling(roll_long).var()\n",
    "\n",
    "        temp_df.dropna(inplace = True)\n",
    "\n",
    "        start_ind = 0\n",
    "        end_ind = start_ind + window_size\n",
    "\n",
    "        while end_ind < (1000 - roll_long):\n",
    "            trwindow = temp_df[\"trace\"].iloc[start_ind:end_ind]\n",
    "            magwindow = temp_df[\"magnitude\"].iloc[start_ind:end_ind]\n",
    "            ravwindow = temp_df[\"RAV\"].iloc[start_ind:end_ind]\n",
    "            stvwindow = temp_df[\"STV\"].iloc[start_ind:end_ind]\n",
    "            ltvwindow = temp_df[\"LTV\"].iloc[start_ind:end_ind]\n",
    "\n",
    "            window_data = {\"trace\": trwindow, \"magnitude\": magwindow,\n",
    "                        \"RAV\": ravwindow, \"STV\": stvwindow, \"LTV\": ltvwindow}\n",
    "            window_df = pd.DataFrame(data = window_data)\n",
    "\n",
    "            locfeatures.append(window_df.values)\n",
    "\n",
    "            if ((p_arrival - roll_long + 1) >= start_ind) and ((p_arrival - roll_long + 1) <= end_ind):\n",
    "                loctargets.append(1)\n",
    "            else:\n",
    "                loctargets.append(0)\n",
    "\n",
    "            start_ind += window_step\n",
    "            end_ind = start_ind + window_size"
   ]
  },
  {
   "cell_type": "code",
   "execution_count": 54,
   "id": "43074cb1-5bcc-4099-9a7a-b4f52452cbde",
   "metadata": {},
   "outputs": [],
   "source": [
    "# For Windows of Trace\n",
    "X_train_loc, X_test_loc, y_train_loc, y_test_loc = train_test_split(locfeatures, loctargets, test_size = 0.3)"
   ]
  },
  {
   "cell_type": "code",
   "execution_count": 55,
   "id": "d10b4369-3395-4d92-aaa1-2d77eaa0b983",
   "metadata": {},
   "outputs": [],
   "source": [
    "X_train_loc = np.array(X_train_loc)\n",
    "X_test_loc = np.array(X_test_loc)\n",
    "y_train_loc = np.array(y_train_loc)\n",
    "y_test_loc = np.array(y_test_loc)"
   ]
  },
  {
   "cell_type": "code",
   "execution_count": 56,
   "id": "67438b3b-65eb-408f-91d2-eea68306bf82",
   "metadata": {},
   "outputs": [],
   "source": [
    "n_timesteps, n_features, n_outputs = X_train_loc.shape[1], X_train_loc.shape[2], 2\n",
    "n_length = int(n_timesteps/n_steps_loc)"
   ]
  },
  {
   "cell_type": "code",
   "execution_count": 57,
   "id": "e5553198-9c6f-435a-929f-d878490b1741",
   "metadata": {},
   "outputs": [
    {
     "name": "stdout",
     "output_type": "stream",
     "text": [
      "Model: \"sequential_3\"\n",
      "_________________________________________________________________\n",
      " Layer (type)                Output Shape              Param #   \n",
      "=================================================================\n",
      " time_distributed_15 (TimeDi  (None, None, 8, 64)      1024      \n",
      " stributed)                                                      \n",
      "                                                                 \n",
      " time_distributed_16 (TimeDi  (None, None, 6, 64)      12352     \n",
      " stributed)                                                      \n",
      "                                                                 \n",
      " time_distributed_17 (TimeDi  (None, None, 6, 64)      0         \n",
      " stributed)                                                      \n",
      "                                                                 \n",
      " time_distributed_18 (TimeDi  (None, None, 3, 64)      0         \n",
      " stributed)                                                      \n",
      "                                                                 \n",
      " time_distributed_19 (TimeDi  (None, None, 192)        0         \n",
      " stributed)                                                      \n",
      "                                                                 \n",
      " lstm_3 (LSTM)               (None, 100)               117200    \n",
      "                                                                 \n",
      " dropout_7 (Dropout)         (None, 100)               0         \n",
      "                                                                 \n",
      " dense_6 (Dense)             (None, 100)               10100     \n",
      "                                                                 \n",
      " dense_7 (Dense)             (None, 2)                 202       \n",
      "                                                                 \n",
      "=================================================================\n",
      "Total params: 140,878\n",
      "Trainable params: 140,878\n",
      "Non-trainable params: 0\n",
      "_________________________________________________________________\n"
     ]
    }
   ],
   "source": [
    "locmodelcl = Sequential()\n",
    "locmodelcl.add(TimeDistributed(Conv1D(filters=64, kernel_size=3, activation='relu'), input_shape=(None, n_length, n_features)))\n",
    "locmodelcl.add(TimeDistributed(Conv1D(filters=64, kernel_size=3, activation='relu')))\n",
    "locmodelcl.add(TimeDistributed(Dropout(0.5)))\n",
    "locmodelcl.add(TimeDistributed(MaxPooling1D(pool_size=2)))\n",
    "locmodelcl.add(TimeDistributed(Flatten()))\n",
    "locmodelcl.add(LSTM(100))\n",
    "locmodelcl.add(Dropout(0.5))\n",
    "locmodelcl.add(Dense(100, activation='relu'))\n",
    "locmodelcl.add(Dense(n_outputs, activation='softmax'))\n",
    "locmodelcl.compile(loss='categorical_crossentropy', optimizer='adam', metrics=['accuracy'])\n",
    "\n",
    "locmodelcl.summary()"
   ]
  },
  {
   "cell_type": "code",
   "execution_count": 58,
   "id": "43088aa7-f5a6-49f9-a4bb-7659ad673f04",
   "metadata": {},
   "outputs": [],
   "source": [
    "X_train_loc1 = X_train_loc.reshape((X_train_loc.shape[0], n_steps_loc, n_length, n_features))\n",
    "X_test_loc1 = X_test_loc.reshape((X_test_loc.shape[0], n_steps_loc, n_length, n_features))\n",
    "y_train_loc1 = to_categorical(y_train_loc)\n",
    "y_test_loc1 = to_categorical(y_test_loc)"
   ]
  },
  {
   "cell_type": "code",
   "execution_count": 59,
   "id": "904e5139-cb7d-40c1-8af9-0d1b262bbc0f",
   "metadata": {},
   "outputs": [
    {
     "name": "stdout",
     "output_type": "stream",
     "text": [
      "Epoch 1/10\n"
     ]
    },
    {
     "name": "stderr",
     "output_type": "stream",
     "text": [
      "2022-03-14 10:14:36.850907: I tensorflow/core/grappler/optimizers/custom_graph_optimizer_registry.cc:113] Plugin optimizer for device_type GPU is enabled.\n",
      "2022-03-14 10:14:37.489345: I tensorflow/core/grappler/optimizers/custom_graph_optimizer_registry.cc:113] Plugin optimizer for device_type GPU is enabled.\n",
      "2022-03-14 10:14:37.633015: I tensorflow/core/grappler/optimizers/custom_graph_optimizer_registry.cc:113] Plugin optimizer for device_type GPU is enabled.\n"
     ]
    },
    {
     "name": "stdout",
     "output_type": "stream",
     "text": [
      "1208/1208 [==============================] - 17s 12ms/step - loss: 0.0884 - accuracy: 0.9791\n",
      "Epoch 2/10\n",
      "1208/1208 [==============================] - 14s 12ms/step - loss: 0.0729 - accuracy: 0.9828\n",
      "Epoch 3/10\n",
      "1208/1208 [==============================] - 15s 12ms/step - loss: 0.0704 - accuracy: 0.9836\n",
      "Epoch 4/10\n",
      "1208/1208 [==============================] - 15s 13ms/step - loss: 0.0687 - accuracy: 0.9837\n",
      "Epoch 5/10\n",
      "1208/1208 [==============================] - 14s 12ms/step - loss: 0.0676 - accuracy: 0.9840\n",
      "Epoch 6/10\n",
      "1208/1208 [==============================] - 14s 12ms/step - loss: 0.0672 - accuracy: 0.9842\n",
      "Epoch 7/10\n",
      "1208/1208 [==============================] - 15s 12ms/step - loss: 0.0672 - accuracy: 0.9841\n",
      "Epoch 8/10\n",
      "1208/1208 [==============================] - 15s 12ms/step - loss: 0.0663 - accuracy: 0.9842\n",
      "Epoch 9/10\n",
      "1208/1208 [==============================] - 15s 13ms/step - loss: 0.0664 - accuracy: 0.9841\n",
      "Epoch 10/10\n",
      "1208/1208 [==============================] - 15s 13ms/step - loss: 0.0655 - accuracy: 0.9844\n"
     ]
    },
    {
     "data": {
      "text/plain": [
       "<keras.callbacks.History at 0x2ee174b80>"
      ]
     },
     "execution_count": 59,
     "metadata": {},
     "output_type": "execute_result"
    }
   ],
   "source": [
    "locmodelcl.fit(X_train_loc1, y_train_loc1, epochs = 10)"
   ]
  },
  {
   "cell_type": "code",
   "execution_count": 60,
   "id": "5320da96-ae95-457b-95af-5e0444165d54",
   "metadata": {},
   "outputs": [
    {
     "name": "stderr",
     "output_type": "stream",
     "text": [
      "2022-03-14 10:17:06.380678: I tensorflow/core/grappler/optimizers/custom_graph_optimizer_registry.cc:113] Plugin optimizer for device_type GPU is enabled.\n",
      "2022-03-14 10:17:06.489447: I tensorflow/core/grappler/optimizers/custom_graph_optimizer_registry.cc:113] Plugin optimizer for device_type GPU is enabled.\n"
     ]
    },
    {
     "name": "stdout",
     "output_type": "stream",
     "text": [
      "Loss: 0.06387130171060562, Accuracy: 0.9847679734230042\n"
     ]
    },
    {
     "name": "stderr",
     "output_type": "stream",
     "text": [
      "2022-03-14 10:17:16.193223: I tensorflow/core/grappler/optimizers/custom_graph_optimizer_registry.cc:113] Plugin optimizer for device_type GPU is enabled.\n",
      "2022-03-14 10:17:16.258494: I tensorflow/core/grappler/optimizers/custom_graph_optimizer_registry.cc:113] Plugin optimizer for device_type GPU is enabled.\n"
     ]
    }
   ],
   "source": [
    "model_loss_loc, model_accuracy_loc = locmodelcl.evaluate(X_test_loc1, y_test_loc1, verbose = 0)\n",
    "print(f\"Loss: {model_loss_loc}, Accuracy: {model_accuracy_loc}\")\n",
    "\n",
    "predictions_test_loc = locmodelcl.predict(X_test_loc1)\n",
    "predictions_train_loc = locmodelcl.predict(X_train_loc1)"
   ]
  },
  {
   "cell_type": "code",
   "execution_count": 61,
   "id": "32ce1bc8-2bd1-4fcc-8325-a3fae030ac8f",
   "metadata": {},
   "outputs": [
    {
     "name": "stdout",
     "output_type": "stream",
     "text": [
      "Test F1 Score: 0.9840328203547835\n",
      "Train F1 Score: 0.9838648443432042\n"
     ]
    }
   ],
   "source": [
    "class_test_loc = predictions_test_loc > 0.25\n",
    "f1_score_test_loc = sklearn.metrics.f1_score(y_test_loc1, class_test_loc, average='micro')\n",
    "print(f\"Test F1 Score: {f1_score_test_loc}\")\n",
    "\n",
    "class_train_loc = predictions_train_loc > 0.25\n",
    "f1_score_train_loc = sklearn.metrics.f1_score(y_train_loc1, class_train_loc, average='micro')\n",
    "print(f\"Train F1 Score: {f1_score_train_loc}\")"
   ]
  },
  {
   "cell_type": "code",
   "execution_count": 62,
   "id": "65398e04-3fae-4f95-984e-be0bf5a88e1b",
   "metadata": {},
   "outputs": [],
   "source": [
    "# ##@ TODO: Make compatible\n",
    "# tn, fp, fn, tp = sklearn.metrics.confusion_matrix(y_test_loc1[:,1], class_test_loc[:,1]).ravel()\n",
    "# (tn, fp, fn, tp)"
   ]
  },
  {
   "cell_type": "code",
   "execution_count": 63,
   "id": "765b0674-2f5f-46d2-858d-7fa8b8793792",
   "metadata": {},
   "outputs": [
    {
     "name": "stderr",
     "output_type": "stream",
     "text": [
      "WARNING:absl:Found untraced functions such as lstm_cell_5_layer_call_fn, lstm_cell_5_layer_call_and_return_conditional_losses while saving (showing 2 of 2). These functions will not be directly callable after loading.\n"
     ]
    },
    {
     "name": "stdout",
     "output_type": "stream",
     "text": [
      "INFO:tensorflow:Assets written to: locmodelCNN_v3_2/assets\n"
     ]
    },
    {
     "name": "stderr",
     "output_type": "stream",
     "text": [
      "INFO:tensorflow:Assets written to: locmodelCNN_v3_2/assets\n",
      "WARNING:absl:<keras.layers.recurrent.LSTMCell object at 0x3806447f0> has the same name 'LSTMCell' as a built-in Keras object. Consider renaming <class 'keras.layers.recurrent.LSTMCell'> to avoid naming conflicts when loading with `tf.keras.models.load_model`. If renaming is not possible, pass the object in the `custom_objects` parameter of the load function.\n"
     ]
    }
   ],
   "source": [
    "# Exporting location model\n",
    "locmodelcl.save('locmodelCNN_v3')"
   ]
  },
  {
   "cell_type": "markdown",
   "id": "f8e58e14-f9cb-433c-a172-f06eb760c746",
   "metadata": {},
   "source": [
    "## Spot checking results"
   ]
  },
  {
   "cell_type": "code",
   "execution_count": 30,
   "id": "929345ab-c424-4033-bd0c-9cf65ec72d7d",
   "metadata": {},
   "outputs": [],
   "source": [
    "loaded_signalmodel = load_model('signalmodelCNN_v3')"
   ]
  },
  {
   "cell_type": "code",
   "execution_count": 31,
   "id": "3cc323f6-1b7c-40fb-a0eb-b726ee735cc4",
   "metadata": {},
   "outputs": [],
   "source": [
    "loaded_locmodel = load_model('locmodelCNN_v3')"
   ]
  },
  {
   "cell_type": "code",
   "execution_count": 32,
   "id": "2c8ceb4e-5384-4d59-9f03-a495b692f362",
   "metadata": {},
   "outputs": [],
   "source": [
    "slice_df = sig_df.iloc[28]"
   ]
  },
  {
   "cell_type": "code",
   "execution_count": 35,
   "id": "54d73954-ba83-446b-a526-6203ee423ce7",
   "metadata": {},
   "outputs": [],
   "source": [
    "sigfeatures = []\n",
    "sigtargets = []\n",
    "locfeatures = []\n",
    "loctargets = []\n",
    "\n",
    "tr = slice_df[\"trace\"]\n",
    "mag = abs(tr)\n",
    "signal = slice_df[\"signal\"]\n",
    "p_arrival = slice_df[\"p_arrival\"]\n",
    "d = {\"trace\": tr, \"magnitude\":mag}\n",
    "temp_df = pd.DataFrame(data = d)\n",
    "temp_df[\"STA\"] = temp_df[\"magnitude\"].rolling(roll_short).mean()\n",
    "temp_df[\"LTA\"] = temp_df[\"magnitude\"].rolling(roll_long).mean()\n",
    "temp_df[\"RAV\"] = temp_df[\"STA\"]/temp_df[\"LTA\"]\n",
    "temp_df[\"STV\"] = temp_df[\"magnitude\"].rolling(roll_short).var()\n",
    "temp_df[\"LTV\"] = temp_df[\"magnitude\"].rolling(roll_long).var()\n",
    "    \n",
    "temp_df.dropna(inplace = True)\n",
    "sigfeatures.append(temp_df.values)\n",
    "sigtargets.append(signal)\n",
    "\n",
    "sigfeatures = np.array(sigfeatures)\n",
    "n_timesteps, n_features, n_outputs = sigfeatures.shape[1], sigfeatures.shape[2], 2\n",
    "n_length = int(n_timesteps/n_steps_sig)\n",
    "\n",
    "sigfeatures1 = sigfeatures.reshape((sigfeatures.shape[0], n_steps_sig, n_length, n_features))"
   ]
  },
  {
   "cell_type": "code",
   "execution_count": 36,
   "id": "a3ddb99a-b78b-4b66-bc67-e167c89eb04a",
   "metadata": {},
   "outputs": [
    {
     "name": "stderr",
     "output_type": "stream",
     "text": [
      "2022-03-14 09:54:17.458231: I tensorflow/core/grappler/optimizers/custom_graph_optimizer_registry.cc:113] Plugin optimizer for device_type GPU is enabled.\n",
      "2022-03-14 09:54:17.546155: I tensorflow/core/grappler/optimizers/custom_graph_optimizer_registry.cc:113] Plugin optimizer for device_type GPU is enabled.\n"
     ]
    },
    {
     "data": {
      "text/plain": [
       "0.99253815"
      ]
     },
     "execution_count": 36,
     "metadata": {},
     "output_type": "execute_result"
    }
   ],
   "source": [
    "loaded_signalmodel.predict(sigfeatures1)[0][1]"
   ]
  },
  {
   "cell_type": "code",
   "execution_count": 37,
   "id": "b55ccd58-4d76-4f62-b77b-700b12c6efa7",
   "metadata": {},
   "outputs": [
    {
     "data": {
      "text/plain": [
       "[1]"
      ]
     },
     "execution_count": 37,
     "metadata": {},
     "output_type": "execute_result"
    }
   ],
   "source": [
    "sigtargets"
   ]
  },
  {
   "cell_type": "code",
   "execution_count": 38,
   "id": "b13f078f-5506-48dc-b63e-cf712fea9604",
   "metadata": {},
   "outputs": [],
   "source": [
    "start_ind = 0\n",
    "end_ind = start_ind + window_size\n",
    "    \n",
    "while end_ind < (1000 - roll_long):\n",
    "    magwindow = temp_df[\"magnitude\"].iloc[start_ind:end_ind]\n",
    "    trwindow = temp_df[\"trace\"].iloc[start_ind:end_ind]\n",
    "    ravwindow = temp_df[\"RAV\"].iloc[start_ind:end_ind]\n",
    "    stvwindow = temp_df[\"STV\"].iloc[start_ind:end_ind]\n",
    "    ltvwindow = temp_df[\"LTV\"].iloc[start_ind:end_ind]\n",
    "\n",
    "    window_data = {\"trace\":trwindow, \"magnitude\": magwindow,\n",
    "                    \"RAV\": ravwindow, \"STV\": stvwindow, \"LTV\": ltvwindow}\n",
    "        \n",
    "    window_df = pd.DataFrame(data = window_data)\n",
    "\n",
    "    locfeatures.append(window_df.values)\n",
    "\n",
    "    if ((p_arrival-roll_long) >= start_ind) and ((p_arrival-roll_long) <= end_ind):\n",
    "        loctargets.append(1)\n",
    "    else:\n",
    "        loctargets.append(0)\n",
    "\n",
    "    start_ind += window_step\n",
    "    end_ind = start_ind + window_size\n",
    "    \n",
    "\n",
    "locfeatures = np.array(locfeatures)\n",
    "n_timesteps, n_features, n_outputs = locfeatures.shape[1], locfeatures.shape[2], 2\n",
    "n_length = int(n_timesteps/n_steps_loc)\n",
    "\n",
    "locfeatures1 = locfeatures.reshape((locfeatures.shape[0], n_steps_loc, n_length, n_features))"
   ]
  },
  {
   "cell_type": "code",
   "execution_count": 39,
   "id": "7a82b8bb-14a5-4069-a149-18160fa66636",
   "metadata": {},
   "outputs": [
    {
     "name": "stderr",
     "output_type": "stream",
     "text": [
      "2022-03-14 09:54:24.420603: I tensorflow/core/grappler/optimizers/custom_graph_optimizer_registry.cc:113] Plugin optimizer for device_type GPU is enabled.\n",
      "2022-03-14 09:54:24.471932: I tensorflow/core/grappler/optimizers/custom_graph_optimizer_registry.cc:113] Plugin optimizer for device_type GPU is enabled.\n"
     ]
    },
    {
     "data": {
      "text/plain": [
       "array([ 0.01167935,  0.01299282,  0.01216586,  0.01807489,  0.01110025,\n",
       "        0.010433  ,  0.00977269,  0.01119774,  0.01333069,  0.01247729,\n",
       "        0.01368018,  0.00893758,  0.01112482,  0.00910873,  0.00860235,\n",
       "        0.01526659,  0.01021155,  0.00925542,  0.00966458,  0.01995534,\n",
       "        0.01288745,  0.01324253,  0.01017845,  0.01262258,  0.01123476,\n",
       "        0.01550565,  0.01340404,  0.01293549,  0.01382197,  0.01887472,\n",
       "        0.01322759,  0.00754811,  0.01145441,  0.01104216,  0.00949281,\n",
       "        0.01460842,  0.01191368,  0.01885998,  0.010083  ,  0.01090752,\n",
       "        0.01114371,  0.01978127,  0.01489686,  0.00829664,  0.01323323,\n",
       "        0.01397049,  0.05023283], dtype=float32)"
      ]
     },
     "execution_count": 39,
     "metadata": {},
     "output_type": "execute_result"
    }
   ],
   "source": [
    "loaded_locmodel.predict(locfeatures1)[:,1]"
   ]
  },
  {
   "cell_type": "code",
   "execution_count": 40,
   "id": "c0ef13c8-be35-44c9-ae6a-b9dd4ac37696",
   "metadata": {},
   "outputs": [
    {
     "data": {
      "text/plain": [
       "[0,\n",
       " 0,\n",
       " 0,\n",
       " 0,\n",
       " 0,\n",
       " 0,\n",
       " 0,\n",
       " 0,\n",
       " 0,\n",
       " 0,\n",
       " 0,\n",
       " 0,\n",
       " 0,\n",
       " 0,\n",
       " 0,\n",
       " 0,\n",
       " 0,\n",
       " 0,\n",
       " 0,\n",
       " 0,\n",
       " 0,\n",
       " 0,\n",
       " 0,\n",
       " 0,\n",
       " 0,\n",
       " 0,\n",
       " 0,\n",
       " 0,\n",
       " 0,\n",
       " 0,\n",
       " 0,\n",
       " 0,\n",
       " 0,\n",
       " 0,\n",
       " 0,\n",
       " 0,\n",
       " 0,\n",
       " 0,\n",
       " 0,\n",
       " 0,\n",
       " 0,\n",
       " 0,\n",
       " 0,\n",
       " 0,\n",
       " 0,\n",
       " 1,\n",
       " 0]"
      ]
     },
     "execution_count": 40,
     "metadata": {},
     "output_type": "execute_result"
    }
   ],
   "source": [
    "loctargets"
   ]
  },
  {
   "cell_type": "code",
   "execution_count": null,
   "id": "bbcb726b-8b20-442e-adef-a5cdbe7a6c39",
   "metadata": {},
   "outputs": [],
   "source": []
  },
  {
   "cell_type": "code",
   "execution_count": null,
   "id": "a17b9e59-6879-4ced-9978-7d6b397baf25",
   "metadata": {},
   "outputs": [],
   "source": []
  },
  {
   "cell_type": "code",
   "execution_count": null,
   "id": "13a7e8fd-9fb6-4a6c-93af-c97779f9c335",
   "metadata": {},
   "outputs": [],
   "source": []
  }
 ],
 "metadata": {
  "kernelspec": {
   "display_name": "Python 3 (ipykernel)",
   "language": "python",
   "name": "python3"
  },
  "language_info": {
   "codemirror_mode": {
    "name": "ipython",
    "version": 3
   },
   "file_extension": ".py",
   "mimetype": "text/x-python",
   "name": "python",
   "nbconvert_exporter": "python",
   "pygments_lexer": "ipython3",
   "version": "3.8.12"
  }
 },
 "nbformat": 4,
 "nbformat_minor": 5
}
