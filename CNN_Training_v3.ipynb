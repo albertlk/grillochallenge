{
 "cells": [
  {
   "cell_type": "code",
   "execution_count": 1,
   "id": "d335c9dd-4e13-4d1f-ab8f-a5361d3f2223",
   "metadata": {},
   "outputs": [],
   "source": [
    "import os\n",
    "import obspy\n",
    "from tensorflow.keras.models import Sequential, load_model\n",
    "from tensorflow.keras.layers import Flatten, LSTM, Dense, Dropout, Conv1D\n",
    "from tensorflow.keras.layers import TimeDistributed, ConvLSTM2D, MaxPooling1D\n",
    "from tensorflow.keras.utils import to_categorical\n",
    "from pathlib import Path\n",
    "%run helperfunctions.ipynb\n",
    "#os.getcwd()"
   ]
  },
  {
   "cell_type": "code",
   "execution_count": 2,
   "id": "6d3c2183-4573-43e4-8d6d-b48af94a6f34",
   "metadata": {},
   "outputs": [],
   "source": [
    "import warnings\n",
    "warnings.filterwarnings(\"ignore\")"
   ]
  },
  {
   "cell_type": "code",
   "execution_count": 3,
   "id": "25124d71-a1a2-4db0-821b-7627ae7601dc",
   "metadata": {},
   "outputs": [],
   "source": [
    "os.chdir('lse_challenge/data')"
   ]
  },
  {
   "cell_type": "code",
   "execution_count": 4,
   "id": "1a74936c-a917-4a94-9b87-ca860b8bf4fe",
   "metadata": {
    "tags": []
   },
   "outputs": [],
   "source": [
    "# Signal List\n",
    "os.chdir('signal')\n",
    "signals = []\n",
    "signal_files = os.listdir()\n",
    "signal_files = random.sample(signal_files, 100) #Need to expand for final model\n",
    "for sigfile in signal_files: \n",
    "    stream = obspy.read(sigfile)\n",
    "    cutlength = np.random.randint(16, 95) # Aligning with the [0.5 sec, 3 sec] range\n",
    "    \n",
    "    for tr in stream:\n",
    "        tr.data = tr.data[cutlength:1000+cutlength]\n",
    "        tr.normalize()\n",
    "    \n",
    "    trace_mat = [stream[0].data, stream[1].data, stream[2].data]\n",
    "    signals.append([trace_mat[0], cutlength, 1])\n",
    "    signals.append([trace_mat[1], cutlength, 1])\n",
    "    signals.append([trace_mat[2], cutlength, 1])\n",
    "\n",
    "\n",
    "# Noise List\n",
    "os.chdir('../noise')\n",
    "noise_files = os.listdir()\n",
    "noise_files = random.sample(noise_files, 200) #Need to expand for final model\n",
    "for noisefile in noise_files: \n",
    "    stream = obspy.read(noisefile)\n",
    "    cutlength = np.random.randint(16, 95) # Aligning with the [0.5 sec, 3 sec] range\n",
    "    \n",
    "    for tr in stream:\n",
    "        tr.data = tr.data[cutlength:1000+cutlength]\n",
    "        tr.normalize()\n",
    "    \n",
    "    trace_mat = [stream[0].data, stream[1].data, stream[2].data]\n",
    "    signals.append([trace_mat[0], cutlength, 0])\n",
    "    signals.append([trace_mat[1], cutlength, 0])\n",
    "    signals.append([trace_mat[2], cutlength, 0])\n",
    "    \n",
    "os.chdir('../')\n",
    "\n",
    "sig_df = pd.DataFrame(signals, columns = [\"trace\", \"cutlength\", \"signal\"])\n",
    "sig_df['p_arrival'] = 1000 - sig_df['cutlength']"
   ]
  },
  {
   "cell_type": "markdown",
   "id": "86e79aee-267e-4998-af86-852de69ff2bf",
   "metadata": {},
   "source": [
    "## Training Neural Network for dectecting whether or not the trace has a signal"
   ]
  },
  {
   "cell_type": "code",
   "execution_count": 5,
   "id": "342199a9-ff4b-463a-9865-2318d29a3c51",
   "metadata": {},
   "outputs": [],
   "source": [
    "# For rolling averages\n",
    "roll_short = 25\n",
    "roll_long = 50\n",
    "\n",
    "# For location segments\n",
    "window_step = 20\n",
    "window_size = 20\n",
    "\n",
    "# Step size for CNN\n",
    "n_steps_sig = 3\n",
    "n_steps_loc = 5"
   ]
  },
  {
   "cell_type": "code",
   "execution_count": 6,
   "id": "62e21ba2-1958-47c3-9cf7-2dc6b99cd37d",
   "metadata": {
    "tags": []
   },
   "outputs": [],
   "source": [
    "# Features and Targets for Identifying the Entire Trace\n",
    "\n",
    "sigfeatures = []\n",
    "sigtargets = []\n",
    "\n",
    "for index, slice_df in sig_df.iterrows():\n",
    "    tr = slice_df[\"trace\"]\n",
    "    mag = abs(tr)\n",
    "    signal = slice_df[\"signal\"]\n",
    "    p_arrival = slice_df[\"p_arrival\"]\n",
    "    d = {\"trace\": tr, \"magnitude\":mag}\n",
    "    \n",
    "    temp_df = pd.DataFrame(data = d)\n",
    "    temp_df[\"STA\"] = temp_df[\"magnitude\"].rolling(roll_short).mean()\n",
    "    temp_df[\"LTA\"] = temp_df[\"magnitude\"].rolling(roll_long).mean()\n",
    "    temp_df[\"RAV\"] = temp_df[\"STA\"]/temp_df[\"LTA\"]\n",
    "    temp_df[\"STV\"] = temp_df[\"magnitude\"].rolling(roll_short).var()\n",
    "    temp_df[\"LTV\"] = temp_df[\"magnitude\"].rolling(roll_long).var()\n",
    "    \n",
    "    temp_df.dropna(inplace = True)\n",
    "    \n",
    "    sigfeatures.append(temp_df.values)\n",
    "    sigtargets.append(signal)"
   ]
  },
  {
   "cell_type": "code",
   "execution_count": 7,
   "id": "49e4ecba-b7d9-418d-84cb-ee51f13a392a",
   "metadata": {},
   "outputs": [],
   "source": [
    "X_train_sig, X_test_sig, y_train_sig, y_test_sig = train_test_split(sigfeatures, sigtargets, test_size = 0.3)"
   ]
  },
  {
   "cell_type": "code",
   "execution_count": 8,
   "id": "17ca959b-c802-47e6-96a8-48180078ce32",
   "metadata": {},
   "outputs": [],
   "source": [
    "X_train_sig = np.array(X_train_sig)\n",
    "X_test_sig = np.array(X_test_sig)\n",
    "y_train_sig = np.array(y_train_sig)\n",
    "y_test_sig = np.array(y_test_sig)"
   ]
  },
  {
   "cell_type": "code",
   "execution_count": 9,
   "id": "7440e18e-238e-4b63-8e45-46774f30fac9",
   "metadata": {},
   "outputs": [],
   "source": [
    "n_timesteps, n_features, n_outputs = X_train_sig.shape[1], X_train_sig.shape[2], 2\n",
    "n_length = int(n_timesteps/n_steps_sig)"
   ]
  },
  {
   "cell_type": "code",
   "execution_count": 10,
   "id": "c2efd4fe-e0bb-4669-be29-6eeb5655032d",
   "metadata": {},
   "outputs": [
    {
     "name": "stderr",
     "output_type": "stream",
     "text": [
      "2022-03-13 11:05:04.056269: I tensorflow/core/common_runtime/pluggable_device/pluggable_device_factory.cc:305] Could not identify NUMA node of platform GPU ID 0, defaulting to 0. Your kernel may not have been built with NUMA support.\n",
      "2022-03-13 11:05:04.056363: I tensorflow/core/common_runtime/pluggable_device/pluggable_device_factory.cc:271] Created TensorFlow device (/job:localhost/replica:0/task:0/device:GPU:0 with 0 MB memory) -> physical PluggableDevice (device: 0, name: METAL, pci bus id: <undefined>)\n"
     ]
    },
    {
     "name": "stdout",
     "output_type": "stream",
     "text": [
      "Metal device set to: Apple M1\n",
      "Model: \"sequential\"\n",
      "_________________________________________________________________\n",
      " Layer (type)                Output Shape              Param #   \n",
      "=================================================================\n",
      " time_distributed (TimeDistr  (None, 3, 315, 64)       1408      \n",
      " ibuted)                                                         \n",
      "                                                                 \n",
      " time_distributed_1 (TimeDis  (None, 3, 313, 64)       12352     \n",
      " tributed)                                                       \n",
      "                                                                 \n",
      " time_distributed_2 (TimeDis  (None, 3, 313, 64)       0         \n",
      " tributed)                                                       \n",
      "                                                                 \n",
      " time_distributed_3 (TimeDis  (None, 3, 156, 64)       0         \n",
      " tributed)                                                       \n",
      "                                                                 \n",
      " time_distributed_4 (TimeDis  (None, 3, 9984)          0         \n",
      " tributed)                                                       \n",
      "                                                                 \n",
      " lstm (LSTM)                 (None, 100)               4034000   \n",
      "                                                                 \n",
      " dropout_1 (Dropout)         (None, 100)               0         \n",
      "                                                                 \n",
      " dense (Dense)               (None, 100)               10100     \n",
      "                                                                 \n",
      " dense_1 (Dense)             (None, 2)                 202       \n",
      "                                                                 \n",
      "=================================================================\n",
      "Total params: 4,058,062\n",
      "Trainable params: 4,058,062\n",
      "Non-trainable params: 0\n",
      "_________________________________________________________________\n"
     ]
    }
   ],
   "source": [
    "signalmodel = Sequential()\n",
    "signalmodel.add(TimeDistributed(Conv1D(filters=64, kernel_size=3, activation='relu'), input_shape=(n_steps_sig, n_length, n_features)))\n",
    "signalmodel.add(TimeDistributed(Conv1D(filters=64, kernel_size=3, activation='relu')))\n",
    "signalmodel.add(TimeDistributed(Dropout(0.5)))\n",
    "signalmodel.add(TimeDistributed(MaxPooling1D(pool_size=2)))\n",
    "signalmodel.add(TimeDistributed(Flatten()))\n",
    "signalmodel.add(LSTM(100))\n",
    "signalmodel.add(Dropout(0.5))\n",
    "signalmodel.add(Dense(100, activation='relu'))\n",
    "signalmodel.add(Dense(n_outputs, activation='softmax'))\n",
    "signalmodel.compile(loss='categorical_crossentropy', optimizer='adam', metrics=['accuracy'])\n",
    "\n",
    "signalmodel.summary()"
   ]
  },
  {
   "cell_type": "code",
   "execution_count": 11,
   "id": "4dd43679-5d48-4749-930c-d8a7268b6bb9",
   "metadata": {},
   "outputs": [],
   "source": [
    "X_train_sig1 = X_train_sig.reshape((X_train_sig.shape[0], n_steps_sig, n_length, n_features))\n",
    "X_test_sig1 = X_test_sig.reshape((X_test_sig.shape[0], n_steps_sig, n_length, n_features))\n",
    "y_train_sig1 = to_categorical(y_train_sig)\n",
    "y_test_sig1 = to_categorical(y_test_sig)"
   ]
  },
  {
   "cell_type": "code",
   "execution_count": 12,
   "id": "05762fe9-a946-4d1f-aa84-af74c96f34fa",
   "metadata": {},
   "outputs": [
    {
     "name": "stdout",
     "output_type": "stream",
     "text": [
      "Epoch 1/30\n"
     ]
    },
    {
     "name": "stderr",
     "output_type": "stream",
     "text": [
      "2022-03-13 11:05:04.374843: W tensorflow/core/platform/profile_utils/cpu_utils.cc:128] Failed to get CPU frequency: 0 Hz\n",
      "2022-03-13 11:05:05.132348: I tensorflow/core/grappler/optimizers/custom_graph_optimizer_registry.cc:113] Plugin optimizer for device_type GPU is enabled.\n",
      "2022-03-13 11:05:05.298528: I tensorflow/core/grappler/optimizers/custom_graph_optimizer_registry.cc:113] Plugin optimizer for device_type GPU is enabled.\n"
     ]
    },
    {
     "name": "stdout",
     "output_type": "stream",
     "text": [
      " 3/20 [===>..........................] - ETA: 0s - loss: 0.8191 - accuracy: 0.7083 "
     ]
    },
    {
     "name": "stderr",
     "output_type": "stream",
     "text": [
      "2022-03-13 11:05:05.403735: I tensorflow/core/grappler/optimizers/custom_graph_optimizer_registry.cc:113] Plugin optimizer for device_type GPU is enabled.\n"
     ]
    },
    {
     "name": "stdout",
     "output_type": "stream",
     "text": [
      "20/20 [==============================] - 2s 35ms/step - loss: 0.4485 - accuracy: 0.8270\n",
      "Epoch 2/30\n",
      "20/20 [==============================] - 1s 25ms/step - loss: 0.2708 - accuracy: 0.9079\n",
      "Epoch 3/30\n",
      "20/20 [==============================] - 0s 24ms/step - loss: 0.2260 - accuracy: 0.9238\n",
      "Epoch 4/30\n",
      "20/20 [==============================] - 0s 24ms/step - loss: 0.1913 - accuracy: 0.9349\n",
      "Epoch 5/30\n",
      "20/20 [==============================] - 0s 24ms/step - loss: 0.1512 - accuracy: 0.9492\n",
      "Epoch 6/30\n",
      "20/20 [==============================] - 0s 24ms/step - loss: 0.1186 - accuracy: 0.9619\n",
      "Epoch 7/30\n",
      "20/20 [==============================] - 1s 25ms/step - loss: 0.0987 - accuracy: 0.9698\n",
      "Epoch 8/30\n",
      "20/20 [==============================] - 1s 26ms/step - loss: 0.0762 - accuracy: 0.9810\n",
      "Epoch 9/30\n",
      "20/20 [==============================] - 1s 25ms/step - loss: 0.0531 - accuracy: 0.9857\n",
      "Epoch 10/30\n",
      "20/20 [==============================] - 0s 24ms/step - loss: 0.0467 - accuracy: 0.9857\n",
      "Epoch 11/30\n",
      "20/20 [==============================] - 1s 26ms/step - loss: 0.0356 - accuracy: 0.9921\n",
      "Epoch 12/30\n",
      "20/20 [==============================] - 0s 24ms/step - loss: 0.0353 - accuracy: 0.9921\n",
      "Epoch 13/30\n",
      "20/20 [==============================] - 0s 24ms/step - loss: 0.0239 - accuracy: 0.9952\n",
      "Epoch 14/30\n",
      "20/20 [==============================] - 0s 24ms/step - loss: 0.0173 - accuracy: 0.9968\n",
      "Epoch 15/30\n",
      "20/20 [==============================] - 0s 24ms/step - loss: 0.0169 - accuracy: 0.9968\n",
      "Epoch 16/30\n",
      "20/20 [==============================] - 1s 27ms/step - loss: 0.0146 - accuracy: 0.9968\n",
      "Epoch 17/30\n",
      "20/20 [==============================] - 0s 25ms/step - loss: 0.0148 - accuracy: 0.9968\n",
      "Epoch 18/30\n",
      "20/20 [==============================] - 1s 26ms/step - loss: 0.0113 - accuracy: 0.9968\n",
      "Epoch 19/30\n",
      "20/20 [==============================] - 0s 24ms/step - loss: 0.0106 - accuracy: 0.9968\n",
      "Epoch 20/30\n",
      "20/20 [==============================] - 1s 25ms/step - loss: 0.0089 - accuracy: 0.9968\n",
      "Epoch 21/30\n",
      "20/20 [==============================] - 0s 24ms/step - loss: 0.0071 - accuracy: 0.9984\n",
      "Epoch 22/30\n",
      "20/20 [==============================] - 0s 24ms/step - loss: 0.0084 - accuracy: 0.9968\n",
      "Epoch 23/30\n",
      "20/20 [==============================] - 0s 24ms/step - loss: 0.0027 - accuracy: 1.0000\n",
      "Epoch 24/30\n",
      "20/20 [==============================] - 0s 24ms/step - loss: 0.0072 - accuracy: 0.9968\n",
      "Epoch 25/30\n",
      "20/20 [==============================] - 0s 24ms/step - loss: 0.0048 - accuracy: 0.9968\n",
      "Epoch 26/30\n",
      "20/20 [==============================] - 0s 24ms/step - loss: 0.0054 - accuracy: 0.9968\n",
      "Epoch 27/30\n",
      "20/20 [==============================] - 0s 24ms/step - loss: 0.0033 - accuracy: 0.9984\n",
      "Epoch 28/30\n",
      "20/20 [==============================] - 0s 25ms/step - loss: 0.0013 - accuracy: 1.0000\n",
      "Epoch 29/30\n",
      "20/20 [==============================] - 1s 25ms/step - loss: 9.8239e-04 - accuracy: 1.0000\n",
      "Epoch 30/30\n",
      "20/20 [==============================] - 1s 26ms/step - loss: 9.9888e-04 - accuracy: 1.0000\n"
     ]
    },
    {
     "data": {
      "text/plain": [
       "<keras.callbacks.History at 0x28b8c9850>"
      ]
     },
     "execution_count": 12,
     "metadata": {},
     "output_type": "execute_result"
    }
   ],
   "source": [
    "signalmodel.fit(X_train_sig1, y_train_sig1, epochs = 30)"
   ]
  },
  {
   "cell_type": "code",
   "execution_count": 13,
   "id": "df3c632a-1ede-42ba-ab39-f141d39aef2c",
   "metadata": {
    "tags": []
   },
   "outputs": [
    {
     "name": "stderr",
     "output_type": "stream",
     "text": [
      "2022-03-13 11:05:21.741988: I tensorflow/core/grappler/optimizers/custom_graph_optimizer_registry.cc:113] Plugin optimizer for device_type GPU is enabled.\n",
      "2022-03-13 11:05:21.810014: I tensorflow/core/grappler/optimizers/custom_graph_optimizer_registry.cc:113] Plugin optimizer for device_type GPU is enabled.\n"
     ]
    },
    {
     "name": "stdout",
     "output_type": "stream",
     "text": [
      "Loss: 0.2972554862499237, Accuracy: 0.9629629254341125\n"
     ]
    },
    {
     "name": "stderr",
     "output_type": "stream",
     "text": [
      "2022-03-13 11:05:22.237237: I tensorflow/core/grappler/optimizers/custom_graph_optimizer_registry.cc:113] Plugin optimizer for device_type GPU is enabled.\n",
      "2022-03-13 11:05:22.282207: I tensorflow/core/grappler/optimizers/custom_graph_optimizer_registry.cc:113] Plugin optimizer for device_type GPU is enabled.\n"
     ]
    }
   ],
   "source": [
    "model_loss_sig, model_accuracy_sig = signalmodel.evaluate(X_test_sig1, y_test_sig1, verbose = 0)\n",
    "print(f\"Loss: {model_loss_sig}, Accuracy: {model_accuracy_sig}\")\n",
    "\n",
    "predictions_test_sig = signalmodel.predict(X_test_sig1)\n",
    "predictions_train_sig = signalmodel.predict(X_train_sig1)"
   ]
  },
  {
   "cell_type": "code",
   "execution_count": 14,
   "id": "4c1935b9-f790-4d36-b250-ef487fbfa5c0",
   "metadata": {},
   "outputs": [
    {
     "name": "stdout",
     "output_type": "stream",
     "text": [
      "Test F1 Score: 0.9595588235294118\n",
      "Train F1 Score: 1.0\n"
     ]
    }
   ],
   "source": [
    "class_test_sig = predictions_test_sig > 0.2\n",
    "f1_score_test_sig = sklearn.metrics.f1_score(y_test_sig1, class_test_sig, average = 'micro')\n",
    "print(f\"Test F1 Score: {f1_score_test_sig}\")\n",
    "\n",
    "class_train_sig = predictions_train_sig > 0.2\n",
    "f1_score_train_sig = sklearn.metrics.f1_score(y_train_sig1, class_train_sig, average = 'micro')\n",
    "print(f\"Train F1 Score: {f1_score_train_sig}\")"
   ]
  },
  {
   "cell_type": "code",
   "execution_count": 15,
   "id": "34ece8ed-fefd-46c6-9a10-bda10f14acde",
   "metadata": {},
   "outputs": [],
   "source": [
    "# ##@ TODO: Make compatible\n",
    "# tn, fp, fn, tp = sklearn.metrics.confusion_matrix(y_test_sig1, class_test_sig).ravel()\n",
    "# (tn, fp, fn, tp)"
   ]
  },
  {
   "cell_type": "code",
   "execution_count": 16,
   "id": "4ba8a993-2566-47d5-9e6c-991892586906",
   "metadata": {},
   "outputs": [
    {
     "data": {
      "text/plain": [
       "'/Users/albertkong/grillochallenge/lse_challenge/data'"
      ]
     },
     "execution_count": 16,
     "metadata": {},
     "output_type": "execute_result"
    }
   ],
   "source": [
    "# Exporting Model\n",
    "os.getcwd()"
   ]
  },
  {
   "cell_type": "code",
   "execution_count": 17,
   "id": "fc684822-d383-41db-9f34-3091d4019dd7",
   "metadata": {},
   "outputs": [],
   "source": [
    "# Only run if we need to get to root directory\n",
    "os.chdir('../../')"
   ]
  },
  {
   "cell_type": "code",
   "execution_count": null,
   "id": "facea7d3-142a-4bd6-b52d-8e054c9e9e25",
   "metadata": {},
   "outputs": [],
   "source": [
    "# Exporting signal model\n",
    "signalmodel.save('signalmodelCNN_v3')"
   ]
  },
  {
   "cell_type": "markdown",
   "id": "d4e749d3-4a62-4f33-af0e-26e1c4c03738",
   "metadata": {},
   "source": [
    "## Training Neural Network for dectecting where in the trace the p-wave starts"
   ]
  },
  {
   "cell_type": "code",
   "execution_count": 28,
   "id": "126a58b3-0726-406a-930d-fc4f4376b580",
   "metadata": {
    "tags": []
   },
   "outputs": [],
   "source": [
    "# Features and Targets for Identifying Windows of Trace\n",
    "locfeatures = []\n",
    "loctargets = []\n",
    "\n",
    "for index, slice_df in sig_df.iterrows():\n",
    "    \n",
    "    signal = slice_df[\"signal\"]\n",
    "    \n",
    "    if signal == 1:\n",
    "        tr = slice_df[\"trace\"]\n",
    "        mag = abs(tr)\n",
    "\n",
    "        p_arrival = slice_df[\"p_arrival\"]\n",
    "        d = {\"trace\":tr, \"magnitude\":mag}\n",
    "\n",
    "        temp_df = pd.DataFrame(data = d)\n",
    "        temp_df[\"STA\"] = temp_df[\"magnitude\"].rolling(roll_short).mean()\n",
    "        temp_df[\"LTA\"] = temp_df[\"magnitude\"].rolling(roll_long).mean()\n",
    "        temp_df[\"RAV\"] = temp_df[\"STA\"]/temp_df[\"LTA\"]\n",
    "        temp_df[\"STV\"] = temp_df[\"magnitude\"].rolling(roll_short).var()\n",
    "        temp_df[\"LTV\"] = temp_df[\"magnitude\"].rolling(roll_long).var()\n",
    "\n",
    "        temp_df.dropna(inplace = True)\n",
    "\n",
    "        start_ind = 0\n",
    "        end_ind = start_ind + window_size\n",
    "\n",
    "        while end_ind < (1000 - roll_long):\n",
    "            trwindow = temp_df[\"trace\"].iloc[start_ind:end_ind]\n",
    "            magwindow = temp_df[\"magnitude\"].iloc[start_ind:end_ind]\n",
    "            ravwindow = temp_df[\"RAV\"].iloc[start_ind:end_ind]\n",
    "            stvwindow = temp_df[\"STV\"].iloc[start_ind:end_ind]\n",
    "            ltvwindow = temp_df[\"LTV\"].iloc[start_ind:end_ind]\n",
    "\n",
    "            window_data = {\"trace\": trwindow, \"magnitude\": magwindow,\n",
    "                        \"RAV\": ravwindow, \"STV\": stvwindow, \"LTV\": ltvwindow}\n",
    "            window_df = pd.DataFrame(data = window_data)\n",
    "\n",
    "            locfeatures.append(window_df.values)\n",
    "\n",
    "            if ((p_arrival - roll_long + 1) >= start_ind) and ((p_arrival - roll_long + 1) <= end_ind):\n",
    "                loctargets.append(1)\n",
    "            else:\n",
    "                loctargets.append(0)\n",
    "\n",
    "            start_ind += window_step\n",
    "            end_ind = start_ind + window_size"
   ]
  },
  {
   "cell_type": "code",
   "execution_count": 29,
   "id": "43074cb1-5bcc-4099-9a7a-b4f52452cbde",
   "metadata": {},
   "outputs": [],
   "source": [
    "# For Windows of Trace\n",
    "X_train_loc, X_test_loc, y_train_loc, y_test_loc = train_test_split(locfeatures, loctargets, test_size = 0.3)"
   ]
  },
  {
   "cell_type": "code",
   "execution_count": 30,
   "id": "d10b4369-3395-4d92-aaa1-2d77eaa0b983",
   "metadata": {},
   "outputs": [],
   "source": [
    "X_train_loc = np.array(X_train_loc)\n",
    "X_test_loc = np.array(X_test_loc)\n",
    "y_train_loc = np.array(y_train_loc)\n",
    "y_test_loc = np.array(y_test_loc)"
   ]
  },
  {
   "cell_type": "code",
   "execution_count": 31,
   "id": "67438b3b-65eb-408f-91d2-eea68306bf82",
   "metadata": {},
   "outputs": [],
   "source": [
    "n_timesteps, n_features, n_outputs = X_train_loc.shape[1], X_train_loc.shape[2], 2\n",
    "n_length = int(n_timesteps/n_steps_loc)"
   ]
  },
  {
   "cell_type": "code",
   "execution_count": 37,
   "id": "e5553198-9c6f-435a-929f-d878490b1741",
   "metadata": {},
   "outputs": [
    {
     "ename": "ValueError",
     "evalue": "Exception encountered when calling layer \"conv1d_11\" (type Conv1D).\n\nNegative dimension size caused by subtracting 3 from 2 for '{{node time_distributed_20/conv1d_11/Conv1D}} = Conv2D[T=DT_FLOAT, data_format=\"NHWC\", dilations=[1, 1, 1, 1], explicit_paddings=[], padding=\"VALID\", strides=[1, 1, 1, 1], use_cudnn_on_gpu=true](time_distributed_20/conv1d_11/Conv1D/ExpandDims, time_distributed_20/conv1d_11/Conv1D/ExpandDims_1)' with input shapes: [?,1,2,64], [1,3,64,64].\n\nCall arguments received:\n  • inputs=tf.Tensor(shape=(None, 2, 64), dtype=float32)",
     "output_type": "error",
     "traceback": [
      "\u001b[0;31m---------------------------------------------------------------------------\u001b[0m",
      "\u001b[0;31mValueError\u001b[0m                                Traceback (most recent call last)",
      "Input \u001b[0;32mIn [37]\u001b[0m, in \u001b[0;36m<module>\u001b[0;34m\u001b[0m\n\u001b[1;32m      1\u001b[0m locmodelcl \u001b[38;5;241m=\u001b[39m Sequential()\n\u001b[1;32m      2\u001b[0m locmodelcl\u001b[38;5;241m.\u001b[39madd(TimeDistributed(Conv1D(filters\u001b[38;5;241m=\u001b[39m\u001b[38;5;241m64\u001b[39m, kernel_size\u001b[38;5;241m=\u001b[39m\u001b[38;5;241m3\u001b[39m, activation\u001b[38;5;241m=\u001b[39m\u001b[38;5;124m'\u001b[39m\u001b[38;5;124mrelu\u001b[39m\u001b[38;5;124m'\u001b[39m), input_shape\u001b[38;5;241m=\u001b[39m(\u001b[38;5;28;01mNone\u001b[39;00m, n_length, n_steps_loc)))\n\u001b[0;32m----> 3\u001b[0m \u001b[43mlocmodelcl\u001b[49m\u001b[38;5;241;43m.\u001b[39;49m\u001b[43madd\u001b[49m\u001b[43m(\u001b[49m\u001b[43mTimeDistributed\u001b[49m\u001b[43m(\u001b[49m\u001b[43mConv1D\u001b[49m\u001b[43m(\u001b[49m\u001b[43mfilters\u001b[49m\u001b[38;5;241;43m=\u001b[39;49m\u001b[38;5;241;43m64\u001b[39;49m\u001b[43m,\u001b[49m\u001b[43m \u001b[49m\u001b[43mkernel_size\u001b[49m\u001b[38;5;241;43m=\u001b[39;49m\u001b[38;5;241;43m3\u001b[39;49m\u001b[43m,\u001b[49m\u001b[43m \u001b[49m\u001b[43mactivation\u001b[49m\u001b[38;5;241;43m=\u001b[39;49m\u001b[38;5;124;43m'\u001b[39;49m\u001b[38;5;124;43mrelu\u001b[39;49m\u001b[38;5;124;43m'\u001b[39;49m\u001b[43m)\u001b[49m\u001b[43m)\u001b[49m\u001b[43m)\u001b[49m\n\u001b[1;32m      4\u001b[0m locmodelcl\u001b[38;5;241m.\u001b[39madd(TimeDistributed(Dropout(\u001b[38;5;241m0.5\u001b[39m)))\n\u001b[1;32m      5\u001b[0m locmodelcl\u001b[38;5;241m.\u001b[39madd(TimeDistributed(MaxPooling1D(pool_size\u001b[38;5;241m=\u001b[39m\u001b[38;5;241m2\u001b[39m)))\n",
      "File \u001b[0;32m~/miniforge3/envs/mlenv/lib/python3.8/site-packages/tensorflow/python/training/tracking/base.py:629\u001b[0m, in \u001b[0;36mno_automatic_dependency_tracking.<locals>._method_wrapper\u001b[0;34m(self, *args, **kwargs)\u001b[0m\n\u001b[1;32m    627\u001b[0m \u001b[38;5;28mself\u001b[39m\u001b[38;5;241m.\u001b[39m_self_setattr_tracking \u001b[38;5;241m=\u001b[39m \u001b[38;5;28;01mFalse\u001b[39;00m  \u001b[38;5;66;03m# pylint: disable=protected-access\u001b[39;00m\n\u001b[1;32m    628\u001b[0m \u001b[38;5;28;01mtry\u001b[39;00m:\n\u001b[0;32m--> 629\u001b[0m   result \u001b[38;5;241m=\u001b[39m \u001b[43mmethod\u001b[49m\u001b[43m(\u001b[49m\u001b[38;5;28;43mself\u001b[39;49m\u001b[43m,\u001b[49m\u001b[43m \u001b[49m\u001b[38;5;241;43m*\u001b[39;49m\u001b[43margs\u001b[49m\u001b[43m,\u001b[49m\u001b[43m \u001b[49m\u001b[38;5;241;43m*\u001b[39;49m\u001b[38;5;241;43m*\u001b[39;49m\u001b[43mkwargs\u001b[49m\u001b[43m)\u001b[49m\n\u001b[1;32m    630\u001b[0m \u001b[38;5;28;01mfinally\u001b[39;00m:\n\u001b[1;32m    631\u001b[0m   \u001b[38;5;28mself\u001b[39m\u001b[38;5;241m.\u001b[39m_self_setattr_tracking \u001b[38;5;241m=\u001b[39m previous_value  \u001b[38;5;66;03m# pylint: disable=protected-access\u001b[39;00m\n",
      "File \u001b[0;32m~/miniforge3/envs/mlenv/lib/python3.8/site-packages/keras/utils/traceback_utils.py:67\u001b[0m, in \u001b[0;36mfilter_traceback.<locals>.error_handler\u001b[0;34m(*args, **kwargs)\u001b[0m\n\u001b[1;32m     65\u001b[0m \u001b[38;5;28;01mexcept\u001b[39;00m \u001b[38;5;167;01mException\u001b[39;00m \u001b[38;5;28;01mas\u001b[39;00m e:  \u001b[38;5;66;03m# pylint: disable=broad-except\u001b[39;00m\n\u001b[1;32m     66\u001b[0m   filtered_tb \u001b[38;5;241m=\u001b[39m _process_traceback_frames(e\u001b[38;5;241m.\u001b[39m__traceback__)\n\u001b[0;32m---> 67\u001b[0m   \u001b[38;5;28;01mraise\u001b[39;00m e\u001b[38;5;241m.\u001b[39mwith_traceback(filtered_tb) \u001b[38;5;28;01mfrom\u001b[39;00m \u001b[38;5;28mNone\u001b[39m\n\u001b[1;32m     68\u001b[0m \u001b[38;5;28;01mfinally\u001b[39;00m:\n\u001b[1;32m     69\u001b[0m   \u001b[38;5;28;01mdel\u001b[39;00m filtered_tb\n",
      "File \u001b[0;32m~/miniforge3/envs/mlenv/lib/python3.8/site-packages/tensorflow/python/framework/ops.py:2013\u001b[0m, in \u001b[0;36m_create_c_op\u001b[0;34m(graph, node_def, inputs, control_inputs, op_def)\u001b[0m\n\u001b[1;32m   2010\u001b[0m   c_op \u001b[38;5;241m=\u001b[39m pywrap_tf_session\u001b[38;5;241m.\u001b[39mTF_FinishOperation(op_desc)\n\u001b[1;32m   2011\u001b[0m \u001b[38;5;28;01mexcept\u001b[39;00m errors\u001b[38;5;241m.\u001b[39mInvalidArgumentError \u001b[38;5;28;01mas\u001b[39;00m e:\n\u001b[1;32m   2012\u001b[0m   \u001b[38;5;66;03m# Convert to ValueError for backwards compatibility.\u001b[39;00m\n\u001b[0;32m-> 2013\u001b[0m   \u001b[38;5;28;01mraise\u001b[39;00m \u001b[38;5;167;01mValueError\u001b[39;00m(e\u001b[38;5;241m.\u001b[39mmessage)\n\u001b[1;32m   2015\u001b[0m \u001b[38;5;28;01mreturn\u001b[39;00m c_op\n",
      "\u001b[0;31mValueError\u001b[0m: Exception encountered when calling layer \"conv1d_11\" (type Conv1D).\n\nNegative dimension size caused by subtracting 3 from 2 for '{{node time_distributed_20/conv1d_11/Conv1D}} = Conv2D[T=DT_FLOAT, data_format=\"NHWC\", dilations=[1, 1, 1, 1], explicit_paddings=[], padding=\"VALID\", strides=[1, 1, 1, 1], use_cudnn_on_gpu=true](time_distributed_20/conv1d_11/Conv1D/ExpandDims, time_distributed_20/conv1d_11/Conv1D/ExpandDims_1)' with input shapes: [?,1,2,64], [1,3,64,64].\n\nCall arguments received:\n  • inputs=tf.Tensor(shape=(None, 2, 64), dtype=float32)"
     ]
    }
   ],
   "source": [
    "locmodelcl = Sequential()\n",
    "locmodelcl.add(TimeDistributed(Conv1D(filters=64, kernel_size=3, activation='relu'), input_shape=(None, n_length, n_steps_loc)))\n",
    "locmodelcl.add(TimeDistributed(Conv1D(filters=64, kernel_size=3, activation='relu')))\n",
    "locmodelcl.add(TimeDistributed(Dropout(0.5)))\n",
    "locmodelcl.add(TimeDistributed(MaxPooling1D(pool_size=2)))\n",
    "locmodelcl.add(TimeDistributed(Flatten()))\n",
    "locmodelcl.add(LSTM(100))\n",
    "locmodelcl.add(Dropout(0.5))\n",
    "locmodelcl.add(Dense(100, activation='relu'))\n",
    "locmodelcl.add(Dense(n_outputs, activation='softmax'))\n",
    "locmodelcl.compile(loss='categorical_crossentropy', optimizer='adam', metrics=['accuracy'])\n",
    "\n",
    "locmodelcl.summary()"
   ]
  },
  {
   "cell_type": "code",
   "execution_count": 38,
   "id": "43088aa7-f5a6-49f9-a4bb-7659ad673f04",
   "metadata": {},
   "outputs": [],
   "source": [
    "X_train_loc1 = X_train_loc.reshape((X_train_loc.shape[0], n_steps_loc, n_length, n_features))\n",
    "X_test_loc1 = X_test_loc.reshape((X_test_loc.shape[0], n_steps_loc, n_length, n_features))\n",
    "y_train_loc1 = to_categorical(y_train_loc)\n",
    "y_test_loc1 = to_categorical(y_test_loc)"
   ]
  },
  {
   "cell_type": "code",
   "execution_count": 39,
   "id": "904e5139-cb7d-40c1-8af9-0d1b262bbc0f",
   "metadata": {},
   "outputs": [
    {
     "ename": "RuntimeError",
     "evalue": "You must compile your model before training/testing. Use `model.compile(optimizer, loss)`.",
     "output_type": "error",
     "traceback": [
      "\u001b[0;31m---------------------------------------------------------------------------\u001b[0m",
      "\u001b[0;31mRuntimeError\u001b[0m                              Traceback (most recent call last)",
      "Input \u001b[0;32mIn [39]\u001b[0m, in \u001b[0;36m<module>\u001b[0;34m\u001b[0m\n\u001b[0;32m----> 1\u001b[0m \u001b[43mlocmodelcl\u001b[49m\u001b[38;5;241;43m.\u001b[39;49m\u001b[43mfit\u001b[49m\u001b[43m(\u001b[49m\u001b[43mX_train_loc1\u001b[49m\u001b[43m,\u001b[49m\u001b[43m \u001b[49m\u001b[43my_train_loc1\u001b[49m\u001b[43m,\u001b[49m\u001b[43m \u001b[49m\u001b[43mepochs\u001b[49m\u001b[43m \u001b[49m\u001b[38;5;241;43m=\u001b[39;49m\u001b[43m \u001b[49m\u001b[38;5;241;43m15\u001b[39;49m\u001b[43m)\u001b[49m\n",
      "File \u001b[0;32m~/miniforge3/envs/mlenv/lib/python3.8/site-packages/keras/utils/traceback_utils.py:67\u001b[0m, in \u001b[0;36mfilter_traceback.<locals>.error_handler\u001b[0;34m(*args, **kwargs)\u001b[0m\n\u001b[1;32m     65\u001b[0m \u001b[38;5;28;01mexcept\u001b[39;00m \u001b[38;5;167;01mException\u001b[39;00m \u001b[38;5;28;01mas\u001b[39;00m e:  \u001b[38;5;66;03m# pylint: disable=broad-except\u001b[39;00m\n\u001b[1;32m     66\u001b[0m   filtered_tb \u001b[38;5;241m=\u001b[39m _process_traceback_frames(e\u001b[38;5;241m.\u001b[39m__traceback__)\n\u001b[0;32m---> 67\u001b[0m   \u001b[38;5;28;01mraise\u001b[39;00m e\u001b[38;5;241m.\u001b[39mwith_traceback(filtered_tb) \u001b[38;5;28;01mfrom\u001b[39;00m \u001b[38;5;28mNone\u001b[39m\n\u001b[1;32m     68\u001b[0m \u001b[38;5;28;01mfinally\u001b[39;00m:\n\u001b[1;32m     69\u001b[0m   \u001b[38;5;28;01mdel\u001b[39;00m filtered_tb\n",
      "File \u001b[0;32m~/miniforge3/envs/mlenv/lib/python3.8/site-packages/keras/engine/training.py:3059\u001b[0m, in \u001b[0;36mModel._assert_compile_was_called\u001b[0;34m(self)\u001b[0m\n\u001b[1;32m   3053\u001b[0m \u001b[38;5;28;01mdef\u001b[39;00m \u001b[38;5;21m_assert_compile_was_called\u001b[39m(\u001b[38;5;28mself\u001b[39m):\n\u001b[1;32m   3054\u001b[0m   \u001b[38;5;66;03m# Checks whether `compile` has been called. If it has been called,\u001b[39;00m\n\u001b[1;32m   3055\u001b[0m   \u001b[38;5;66;03m# then the optimizer is set. This is different from whether the\u001b[39;00m\n\u001b[1;32m   3056\u001b[0m   \u001b[38;5;66;03m# model is compiled\u001b[39;00m\n\u001b[1;32m   3057\u001b[0m   \u001b[38;5;66;03m# (i.e. whether the model is built and its inputs/outputs are set).\u001b[39;00m\n\u001b[1;32m   3058\u001b[0m   \u001b[38;5;28;01mif\u001b[39;00m \u001b[38;5;129;01mnot\u001b[39;00m \u001b[38;5;28mself\u001b[39m\u001b[38;5;241m.\u001b[39m_is_compiled:\n\u001b[0;32m-> 3059\u001b[0m     \u001b[38;5;28;01mraise\u001b[39;00m \u001b[38;5;167;01mRuntimeError\u001b[39;00m(\u001b[38;5;124m'\u001b[39m\u001b[38;5;124mYou must compile your model before \u001b[39m\u001b[38;5;124m'\u001b[39m\n\u001b[1;32m   3060\u001b[0m                        \u001b[38;5;124m'\u001b[39m\u001b[38;5;124mtraining/testing. \u001b[39m\u001b[38;5;124m'\u001b[39m\n\u001b[1;32m   3061\u001b[0m                        \u001b[38;5;124m'\u001b[39m\u001b[38;5;124mUse `model.compile(optimizer, loss)`.\u001b[39m\u001b[38;5;124m'\u001b[39m)\n",
      "\u001b[0;31mRuntimeError\u001b[0m: You must compile your model before training/testing. Use `model.compile(optimizer, loss)`."
     ]
    }
   ],
   "source": [
    "locmodelcl.fit(X_train_loc1, y_train_loc1, epochs = 15)"
   ]
  },
  {
   "cell_type": "code",
   "execution_count": null,
   "id": "5320da96-ae95-457b-95af-5e0444165d54",
   "metadata": {},
   "outputs": [],
   "source": [
    "model_loss_loc, model_accuracy_loc = locmodel.evaluate(X_test_loc1, y_test_loc1, verbose = 0)\n",
    "print(f\"Loss: {model_loss_loc}, Accuracy: {model_accuracy_loc}\")\n",
    "\n",
    "predictions_test_loc = locmodel.predict(X_test_loc1)\n",
    "predictions_train_loc = locmodel.predict(X_train_loc1)"
   ]
  },
  {
   "cell_type": "code",
   "execution_count": null,
   "id": "32ce1bc8-2bd1-4fcc-8325-a3fae030ac8f",
   "metadata": {},
   "outputs": [],
   "source": [
    "class_test_loc = predictions_test_loc > 0.25\n",
    "f1_score_test_loc = sklearn.metrics.f1_score(y_test_loc1, class_test_loc, average='micro')\n",
    "print(f\"Test F1 Score: {f1_score_test_loc}\")\n",
    "\n",
    "class_train_loc = predictions_train_loc > 0.25\n",
    "f1_score_train_loc = sklearn.metrics.f1_score(y_train_loc1, class_train_loc, average='micro')\n",
    "print(f\"Train F1 Score: {f1_score_train_loc}\")"
   ]
  },
  {
   "cell_type": "code",
   "execution_count": null,
   "id": "65398e04-3fae-4f95-984e-be0bf5a88e1b",
   "metadata": {},
   "outputs": [],
   "source": [
    "# ##@ TODO: Make compatible\n",
    "# tn, fp, fn, tp = sklearn.metrics.confusion_matrix(y_test_loc[:,1], class_test_loc[:,1]).ravel()\n",
    "# (tn, fp, fn, tp)"
   ]
  },
  {
   "cell_type": "code",
   "execution_count": null,
   "id": "765b0674-2f5f-46d2-858d-7fa8b8793792",
   "metadata": {},
   "outputs": [],
   "source": [
    "# Exporting location model\n",
    "locmodel.save('locmodelCNN_v2')"
   ]
  },
  {
   "cell_type": "markdown",
   "id": "f8e58e14-f9cb-433c-a172-f06eb760c746",
   "metadata": {},
   "source": [
    "## Spot checking results"
   ]
  },
  {
   "cell_type": "code",
   "execution_count": null,
   "id": "929345ab-c424-4033-bd0c-9cf65ec72d7d",
   "metadata": {},
   "outputs": [],
   "source": [
    "loaded_signalmodel = load_model('signalmodelCNN_v3')"
   ]
  },
  {
   "cell_type": "code",
   "execution_count": null,
   "id": "3cc323f6-1b7c-40fb-a0eb-b726ee735cc4",
   "metadata": {},
   "outputs": [],
   "source": [
    "loaded_locmodel = load_model('locmodelCNN_v3')"
   ]
  },
  {
   "cell_type": "code",
   "execution_count": null,
   "id": "2c8ceb4e-5384-4d59-9f03-a495b692f362",
   "metadata": {},
   "outputs": [],
   "source": [
    "slice_df = sig_df.iloc[28]"
   ]
  },
  {
   "cell_type": "code",
   "execution_count": null,
   "id": "54d73954-ba83-446b-a526-6203ee423ce7",
   "metadata": {},
   "outputs": [],
   "source": [
    "sigfeatures = []\n",
    "sigtargets = []\n",
    "locfeatures = []\n",
    "loctargets = []\n",
    "\n",
    "tr = slice_df[\"trace\"]\n",
    "mag = abs(tr)\n",
    "signal = slice_df[\"signal\"]\n",
    "p_arrival = slice_df[\"p_arrival\"]\n",
    "d = {\"trace\": tr, \"magnitude\":mag}\n",
    "temp_df = pd.DataFrame(data = d)\n",
    "temp_df[\"STA\"] = temp_df[\"magnitude\"].rolling(roll_short).mean()\n",
    "temp_df[\"LTA\"] = temp_df[\"magnitude\"].rolling(roll_long).mean()\n",
    "temp_df[\"RAV\"] = temp_df[\"STA\"]/temp_df[\"LTA\"]\n",
    "temp_df[\"STV\"] = temp_df[\"magnitude\"].rolling(roll_short).var()\n",
    "temp_df[\"LTV\"] = temp_df[\"magnitude\"].rolling(roll_long).var()\n",
    "    \n",
    "temp_df.dropna(inplace = True)\n",
    "sigfeatures.append(temp_df.values)\n",
    "sigtargets.append(signal)\n",
    "\n",
    "sigfeatures = np.array(sigfeatures)\n",
    "n_timesteps, n_features, n_outputs = sigfeatures.shape[1], sigfeatures.shape[2], 2\n",
    "n_length = int(n_timesteps/n_steps_sig)\n",
    "\n",
    "sigfeatures1 = sigfeatures.reshape((sigfeatures.shape[0], n_steps_sig, 1, n_length, n_features))"
   ]
  },
  {
   "cell_type": "code",
   "execution_count": null,
   "id": "a3ddb99a-b78b-4b66-bc67-e167c89eb04a",
   "metadata": {},
   "outputs": [],
   "source": [
    "loaded_signalmodel.predict(sigfeatures1)[0][1]"
   ]
  },
  {
   "cell_type": "code",
   "execution_count": null,
   "id": "b55ccd58-4d76-4f62-b77b-700b12c6efa7",
   "metadata": {},
   "outputs": [],
   "source": [
    "sigtargets"
   ]
  },
  {
   "cell_type": "code",
   "execution_count": null,
   "id": "b13f078f-5506-48dc-b63e-cf712fea9604",
   "metadata": {},
   "outputs": [],
   "source": [
    "start_ind = 0\n",
    "end_ind = start_ind + window_size\n",
    "    \n",
    "while end_ind < (1000 - roll_long):\n",
    "    magwindow = temp_df[\"magnitude\"].iloc[start_ind:end_ind]\n",
    "    trwindow = temp_df[\"trace\"].iloc[start_ind:end_ind]\n",
    "    ravwindow = temp_df[\"RAV\"].iloc[start_ind:end_ind]\n",
    "    stvwindow = temp_df[\"STV\"].iloc[start_ind:end_ind]\n",
    "    ltvwindow = temp_df[\"LTV\"].iloc[start_ind:end_ind]\n",
    "\n",
    "    window_data = {\"trace\":trwindow, \"magnitude\": magwindow,\n",
    "                    \"RAV\": ravwindow, \"STV\": stvwindow, \"LTV\": ltvwindow}\n",
    "        \n",
    "    window_df = pd.DataFrame(data = window_data)\n",
    "\n",
    "    locfeatures.append(window_df.values)\n",
    "\n",
    "    if ((p_arrival-roll_long) >= start_ind) and ((p_arrival-roll_long) <= end_ind):\n",
    "        loctargets.append(1)\n",
    "    else:\n",
    "        loctargets.append(0)\n",
    "\n",
    "    start_ind += window_step\n",
    "    end_ind = start_ind + window_size\n",
    "    \n",
    "\n",
    "locfeatures = np.array(locfeatures)\n",
    "n_timesteps, n_features, n_outputs = locfeatures.shape[1], locfeatures.shape[2], 2\n",
    "n_length = int(n_timesteps/n_steps_loc)\n",
    "\n",
    "locfeatures1 = locfeatures.reshape((locfeatures.shape[0], n_steps_loc, 1, n_length, n_features))"
   ]
  },
  {
   "cell_type": "code",
   "execution_count": null,
   "id": "7a82b8bb-14a5-4069-a149-18160fa66636",
   "metadata": {},
   "outputs": [],
   "source": [
    "loaded_locmodel.predict(locfeatures1)[:,1]"
   ]
  },
  {
   "cell_type": "code",
   "execution_count": null,
   "id": "c0ef13c8-be35-44c9-ae6a-b9dd4ac37696",
   "metadata": {},
   "outputs": [],
   "source": [
    "loctargets"
   ]
  },
  {
   "cell_type": "code",
   "execution_count": null,
   "id": "bbcb726b-8b20-442e-adef-a5cdbe7a6c39",
   "metadata": {},
   "outputs": [],
   "source": []
  },
  {
   "cell_type": "code",
   "execution_count": null,
   "id": "a17b9e59-6879-4ced-9978-7d6b397baf25",
   "metadata": {},
   "outputs": [],
   "source": []
  }
 ],
 "metadata": {
  "kernelspec": {
   "display_name": "Python 3 (ipykernel)",
   "language": "python",
   "name": "python3"
  },
  "language_info": {
   "codemirror_mode": {
    "name": "ipython",
    "version": 3
   },
   "file_extension": ".py",
   "mimetype": "text/x-python",
   "name": "python",
   "nbconvert_exporter": "python",
   "pygments_lexer": "ipython3",
   "version": "3.8.12"
  }
 },
 "nbformat": 4,
 "nbformat_minor": 5
}
