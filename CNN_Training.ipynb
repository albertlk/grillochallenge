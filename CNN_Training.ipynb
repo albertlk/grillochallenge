{
 "cells": [
  {
   "cell_type": "code",
   "execution_count": 1,
   "id": "d335c9dd-4e13-4d1f-ab8f-a5361d3f2223",
   "metadata": {},
   "outputs": [],
   "source": [
    "import os\n",
    "import obspy\n",
    "from tensorflow.keras.models import Sequential, load_model\n",
    "from tensorflow.keras.layers import Flatten, LSTM, Dense, Dropout\n",
    "from tensorflow.keras.layers import TimeDistributed, ConvLSTM2D\n",
    "from tensorflow.keras.utils import to_categorical\n",
    "from pathlib import Path\n",
    "%run helperfunctions.ipynb\n",
    "#os.getcwd()"
   ]
  },
  {
   "cell_type": "code",
   "execution_count": 2,
   "id": "6d3c2183-4573-43e4-8d6d-b48af94a6f34",
   "metadata": {},
   "outputs": [],
   "source": [
    "import warnings\n",
    "warnings.filterwarnings(\"ignore\")"
   ]
  },
  {
   "cell_type": "code",
   "execution_count": 3,
   "id": "25124d71-a1a2-4db0-821b-7627ae7601dc",
   "metadata": {},
   "outputs": [],
   "source": [
    "os.chdir('lse_challenge/data')"
   ]
  },
  {
   "cell_type": "code",
   "execution_count": 4,
   "id": "f44b7ca6-09ab-467e-a814-795b1f8a6568",
   "metadata": {
    "tags": []
   },
   "outputs": [],
   "source": [
    "# Signal List\n",
    "os.chdir('signal')\n",
    "signals = []\n",
    "signal_files = os.listdir()\n",
    "signal_files = random.sample(signal_files, 500) #Need to expand for final model\n",
    "for sigfile in signal_files: \n",
    "    tmp_trace = obspy.read(sigfile)\n",
    "    tmp_trace = tmp_trace.normalize()\n",
    "    cutlength = np.random.randint(16, 95) # Aligning with the [0.5 sec, 3 sec] range\n",
    "    trace_mat = [tmp_trace[0].data[cutlength:1000+cutlength], tmp_trace[1].data[cutlength:1000+cutlength], tmp_trace[2].data[cutlength:1000+cutlength]]\n",
    "    signals.append([trace_mat[0], cutlength, 1])\n",
    "    signals.append([trace_mat[1], cutlength, 1])\n",
    "    signals.append([trace_mat[2], cutlength, 1])\n",
    "    \n",
    "    # Negative Transformations\n",
    "    neg_mat = rot_xyz(trace_mat, 0, -np.pi, 0)\n",
    "    signals.append([neg_mat[0], cutlength, 1])\n",
    "    signals.append([neg_mat[1], cutlength, 1])\n",
    "    signals.append([neg_mat[2], cutlength, 1])\n",
    "    \n",
    "    # X, Y, and Z Rotations by Theta\n",
    "    theta = np.random.uniform()*2*np.pi\n",
    "    x_mat = rot_x(trace_mat, theta)\n",
    "    signals.append([x_mat[0], cutlength, 1])\n",
    "    signals.append([x_mat[1], cutlength, 1])\n",
    "    signals.append([x_mat[2], cutlength, 1])\n",
    "    y_mat = rot_y(trace_mat, theta)\n",
    "    signals.append([y_mat[0], cutlength, 1])\n",
    "    signals.append([y_mat[1], cutlength, 1])\n",
    "    signals.append([y_mat[2], cutlength, 1])\n",
    "    z_mat = rot_z(trace_mat, theta)\n",
    "    signals.append([z_mat[0], cutlength, 1])\n",
    "    signals.append([z_mat[1], cutlength, 1])\n",
    "    signals.append([z_mat[2], cutlength, 1])    \n",
    "    \n",
    "    # General Rotation by alpha, beta, gamma\n",
    "    alpha = np.random.uniform()*2*np.pi\n",
    "    beta = np.random.uniform()*2*np.pi\n",
    "    gamma = np.random.uniform()*2*np.pi\n",
    "    rot_mat = rot_xyz(trace_mat, alpha, beta, gamma)\n",
    "    signals.append([rot_mat[0], cutlength, 1])\n",
    "    signals.append([rot_mat[1], cutlength, 1])\n",
    "    signals.append([rot_mat[2], cutlength, 1])\n",
    "    \n",
    "\n",
    "# Noise List\n",
    "os.chdir('../noise')\n",
    "noise_files = os.listdir()\n",
    "noise_files = random.sample(noise_files, 1500) #Need to expand for final model\n",
    "for noisefile in noise_files: \n",
    "    tmp_trace = obspy.read(noisefile)\n",
    "    tmp_trace = tmp_trace.normalize()\n",
    "    cutlength = np.random.randint(16, 95) # Aligning with the [0.5 sec, 3 sec] range\n",
    "    trace_mat = [tmp_trace[0].data[cutlength:1000+cutlength], tmp_trace[1].data[cutlength:1000+cutlength], tmp_trace[2].data[cutlength:1000+cutlength]]\n",
    "    signals.append([trace_mat[0], cutlength, 0])\n",
    "    signals.append([trace_mat[1], cutlength, 0])\n",
    "    signals.append([trace_mat[2], cutlength, 0])\n",
    "    \n",
    "    # Negative Transformations\n",
    "    neg_mat = rot_xyz(trace_mat, 0, -np.pi, 0)\n",
    "    signals.append([neg_mat[0], cutlength, 0])\n",
    "    signals.append([neg_mat[1], cutlength, 0])\n",
    "    signals.append([neg_mat[2], cutlength, 0])\n",
    "    \n",
    "    # X, Y, and Z Rotations by Theta\n",
    "    theta = np.random.uniform()*2*np.pi\n",
    "    x_mat = rot_x(trace_mat, theta)\n",
    "    signals.append([x_mat[0], cutlength, 0])\n",
    "    signals.append([x_mat[1], cutlength, 0])\n",
    "    signals.append([x_mat[2], cutlength, 0])\n",
    "    y_mat = rot_y(trace_mat, theta)\n",
    "    signals.append([y_mat[0], cutlength, 0])\n",
    "    signals.append([y_mat[1], cutlength, 0])\n",
    "    signals.append([y_mat[2], cutlength, 0])\n",
    "    z_mat = rot_z(trace_mat, theta)\n",
    "    signals.append([z_mat[0], cutlength, 0])\n",
    "    signals.append([z_mat[1], cutlength, 0])\n",
    "    signals.append([z_mat[2], cutlength, 0])\n",
    "    \n",
    "    # General Rotation by alpha, beta, gamma\n",
    "    alpha = np.random.uniform()*2*np.pi\n",
    "    beta = np.random.uniform()*2*np.pi\n",
    "    gamma = np.random.uniform()*2*np.pi\n",
    "    rot_mat = rot_xyz(trace_mat, alpha, beta, gamma)\n",
    "    signals.append([rot_mat[0], cutlength, 0])\n",
    "    signals.append([rot_mat[1], cutlength, 0])\n",
    "    signals.append([rot_mat[2], cutlength, 0])\n",
    "    \n",
    "os.chdir('../')\n",
    "\n",
    "sig_df = pd.DataFrame(signals, columns = [\"trace\", \"cutlength\", \"signal\"])\n",
    "sig_df['p_arrival'] = 1000 - sig_df['cutlength']"
   ]
  },
  {
   "cell_type": "markdown",
   "id": "86e79aee-267e-4998-af86-852de69ff2bf",
   "metadata": {},
   "source": [
    "## Training Neural Network for dectecting whether or not the trace has a signal"
   ]
  },
  {
   "cell_type": "code",
   "execution_count": 5,
   "id": "342199a9-ff4b-463a-9865-2318d29a3c51",
   "metadata": {},
   "outputs": [],
   "source": [
    "# For rolling averages\n",
    "roll_short = 25\n",
    "roll_long = 50\n",
    "\n",
    "# For location segments\n",
    "window_step = 15\n",
    "window_size = 30\n",
    "\n",
    "# Step size for CNN\n",
    "n_steps_sig = 3\n",
    "n_steps_loc = 3"
   ]
  },
  {
   "cell_type": "code",
   "execution_count": 6,
   "id": "62e21ba2-1958-47c3-9cf7-2dc6b99cd37d",
   "metadata": {
    "tags": []
   },
   "outputs": [],
   "source": [
    "# Features and Targets for Identifying the Entire Trace\n",
    "\n",
    "sigfeatures = []\n",
    "sigtargets = []\n",
    "\n",
    "for index, slice_df in sig_df.iterrows():\n",
    "    tr = slice_df[\"trace\"]\n",
    "    mag = abs(tr)\n",
    "    signal = slice_df[\"signal\"]\n",
    "    p_arrival = slice_df[\"p_arrival\"]\n",
    "    d = {\"trace\": tr, \"magnitude\":mag}\n",
    "    \n",
    "    temp_df = pd.DataFrame(data = d)\n",
    "    temp_df[\"STA\"] = temp_df[\"magnitude\"].rolling(roll_short).mean()\n",
    "    temp_df[\"LTA\"] = temp_df[\"magnitude\"].rolling(roll_long).mean()\n",
    "    temp_df[\"RAV\"] = temp_df[\"STA\"]/temp_df[\"LTA\"]\n",
    "    temp_df[\"STV\"] = temp_df[\"magnitude\"].rolling(roll_short).var()\n",
    "    temp_df[\"LTV\"] = temp_df[\"magnitude\"].rolling(roll_long).var()\n",
    "    \n",
    "    temp_df.dropna(inplace = True)\n",
    "    \n",
    "    sigfeatures.append(temp_df.values)\n",
    "    sigtargets.append(signal)"
   ]
  },
  {
   "cell_type": "code",
   "execution_count": 7,
   "id": "49e4ecba-b7d9-418d-84cb-ee51f13a392a",
   "metadata": {},
   "outputs": [],
   "source": [
    "X_train_sig, X_test_sig, y_train_sig, y_test_sig = train_test_split(sigfeatures, sigtargets, test_size = 0.3)"
   ]
  },
  {
   "cell_type": "code",
   "execution_count": 8,
   "id": "17ca959b-c802-47e6-96a8-48180078ce32",
   "metadata": {},
   "outputs": [],
   "source": [
    "X_train_sig = np.array(X_train_sig)\n",
    "X_test_sig = np.array(X_test_sig)\n",
    "y_train_sig = np.array(y_train_sig)\n",
    "y_test_sig = np.array(y_test_sig)"
   ]
  },
  {
   "cell_type": "code",
   "execution_count": 9,
   "id": "7440e18e-238e-4b63-8e45-46774f30fac9",
   "metadata": {},
   "outputs": [],
   "source": [
    "n_timesteps, n_features, n_outputs = X_train_sig.shape[1], X_train_sig.shape[2], 2\n",
    "n_length = int(n_timesteps/n_steps_sig)"
   ]
  },
  {
   "cell_type": "code",
   "execution_count": null,
   "id": "c2efd4fe-e0bb-4669-be29-6eeb5655032d",
   "metadata": {},
   "outputs": [],
   "source": [
    "signalmodel = Sequential()\n",
    "signalmodel.add(ConvLSTM2D(filters=64, kernel_size=(1,3), activation='relu', input_shape=(n_steps_sig, 1, n_length, n_features)))\n",
    "signalmodel.add(Dropout(0.5))\n",
    "signalmodel.add(Flatten())\n",
    "signalmodel.add(Dense(100, activation='relu'))\n",
    "signalmodel.add(Dense(2, activation='softmax'))\n",
    "signalmodel.compile(loss='categorical_crossentropy', optimizer='adam', metrics=['accuracy'])\n",
    "\n",
    "signalmodel.summary()"
   ]
  },
  {
   "cell_type": "code",
   "execution_count": 10,
   "id": "4dd43679-5d48-4749-930c-d8a7268b6bb9",
   "metadata": {},
   "outputs": [],
   "source": [
    "X_train_sig1 = X_train_sig.reshape((X_train_sig.shape[0], n_steps_sig, 1, n_length, n_features))\n",
    "X_test_sig1 = X_test_sig.reshape((X_test_sig.shape[0], n_steps_sig, 1, n_length, n_features))\n",
    "y_train_sig1 = to_categorical(y_train_sig)\n",
    "y_test_sig1 = to_categorical(y_test_sig)"
   ]
  },
  {
   "cell_type": "code",
   "execution_count": null,
   "id": "05762fe9-a946-4d1f-aa84-af74c96f34fa",
   "metadata": {},
   "outputs": [],
   "source": [
    "signalmodel.fit(X_train_sig1, y_train_sig1, epochs = 30)"
   ]
  },
  {
   "cell_type": "code",
   "execution_count": null,
   "id": "df3c632a-1ede-42ba-ab39-f141d39aef2c",
   "metadata": {
    "tags": []
   },
   "outputs": [],
   "source": [
    "model_loss_sig, model_accuracy_sig = signalmodel.evaluate(X_test_sig1, y_test_sig1, verbose = 0)\n",
    "print(f\"Loss: {model_loss_sig}, Accuracy: {model_accuracy_sig}\")\n",
    "\n",
    "predictions_test_sig = signalmodel.predict(X_test_sig1)\n",
    "predictions_train_sig = signalmodel.predict(X_train_sig1)"
   ]
  },
  {
   "cell_type": "code",
   "execution_count": null,
   "id": "4c1935b9-f790-4d36-b250-ef487fbfa5c0",
   "metadata": {},
   "outputs": [],
   "source": [
    "class_test_sig = predictions_test_sig > 0.2\n",
    "f1_score_test_sig = sklearn.metrics.f1_score(y_test_sig1, class_test_sig, average = 'micro')\n",
    "print(f\"Test F1 Score: {f1_score_test_sig}\")\n",
    "\n",
    "class_train_sig = predictions_train_sig > 0.2\n",
    "f1_score_train_sig = sklearn.metrics.f1_score(y_train_sig1, class_train_sig, average = 'micro')\n",
    "print(f\"Train F1 Score: {f1_score_train_sig}\")"
   ]
  },
  {
   "cell_type": "code",
   "execution_count": null,
   "id": "34ece8ed-fefd-46c6-9a10-bda10f14acde",
   "metadata": {},
   "outputs": [],
   "source": [
    "# ##@ TODO: Make compatible\n",
    "# tn, fp, fn, tp = sklearn.metrics.confusion_matrix(y_test_sig1, class_test_sig).ravel()\n",
    "# (tn, fp, fn, tp)"
   ]
  },
  {
   "cell_type": "code",
   "execution_count": 11,
   "id": "4ba8a993-2566-47d5-9e6c-991892586906",
   "metadata": {},
   "outputs": [
    {
     "data": {
      "text/plain": [
       "'/Users/albertkong/grillochallenge/lse_challenge/data'"
      ]
     },
     "execution_count": 11,
     "metadata": {},
     "output_type": "execute_result"
    }
   ],
   "source": [
    "# Exporting Model\n",
    "os.getcwd()"
   ]
  },
  {
   "cell_type": "code",
   "execution_count": 12,
   "id": "fc684822-d383-41db-9f34-3091d4019dd7",
   "metadata": {},
   "outputs": [],
   "source": [
    "# Only run if we need to get to root directory\n",
    "os.chdir('../../')"
   ]
  },
  {
   "cell_type": "code",
   "execution_count": null,
   "id": "facea7d3-142a-4bd6-b52d-8e054c9e9e25",
   "metadata": {},
   "outputs": [],
   "source": [
    "# Exporting signal model\n",
    "signalmodel.save('signalmodelCNN')"
   ]
  },
  {
   "cell_type": "markdown",
   "id": "d4e749d3-4a62-4f33-af0e-26e1c4c03738",
   "metadata": {},
   "source": [
    "## Training Neural Network for dectecting where in the trace the p-wave starts"
   ]
  },
  {
   "cell_type": "code",
   "execution_count": 13,
   "id": "126a58b3-0726-406a-930d-fc4f4376b580",
   "metadata": {
    "tags": []
   },
   "outputs": [],
   "source": [
    "# Features and Targets for Identifying Windows of Trace\n",
    "locfeatures = []\n",
    "loctargets = []\n",
    "\n",
    "for index, slice_df in sig_df.iterrows():\n",
    "    \n",
    "    signal = slice_df[\"signal\"]\n",
    "    \n",
    "    if signal == 1:\n",
    "        tr = slice_df[\"trace\"]\n",
    "        mag = abs(tr)\n",
    "\n",
    "        p_arrival = slice_df[\"p_arrival\"]\n",
    "        d = {\"trace\":tr, \"magnitude\":mag}\n",
    "\n",
    "        temp_df = pd.DataFrame(data = d)\n",
    "        temp_df[\"STA\"] = temp_df[\"magnitude\"].rolling(roll_short).mean()\n",
    "        temp_df[\"LTA\"] = temp_df[\"magnitude\"].rolling(roll_long).mean()\n",
    "        temp_df[\"RAV\"] = temp_df[\"STA\"]/temp_df[\"LTA\"]\n",
    "        temp_df[\"STV\"] = temp_df[\"magnitude\"].rolling(roll_short).var()\n",
    "        temp_df[\"LTV\"] = temp_df[\"magnitude\"].rolling(roll_long).var()\n",
    "\n",
    "        temp_df.dropna(inplace = True)\n",
    "\n",
    "        start_ind = 0\n",
    "        end_ind = start_ind + window_size\n",
    "\n",
    "        while end_ind < (1000 - roll_long):\n",
    "            trwindow = temp_df[\"trace\"].iloc[start_ind:end_ind]\n",
    "            magwindow = temp_df[\"magnitude\"].iloc[start_ind:end_ind]\n",
    "            ravwindow = temp_df[\"RAV\"].iloc[start_ind:end_ind]\n",
    "            stvwindow = temp_df[\"STV\"].iloc[start_ind:end_ind]\n",
    "            ltvwindow = temp_df[\"LTV\"].iloc[start_ind:end_ind]\n",
    "\n",
    "            window_data = {\"trace\": trwindow, \"magnitude\": magwindow,\n",
    "                        \"RAV\": ravwindow, \"STV\": stvwindow, \"LTV\": ltvwindow}\n",
    "            window_df = pd.DataFrame(data = window_data)\n",
    "\n",
    "            locfeatures.append(window_df.values)\n",
    "\n",
    "            if ((p_arrival - roll_long + 1) >= start_ind) and ((p_arrival - roll_long + 1) <= end_ind):\n",
    "                loctargets.append(1)\n",
    "            else:\n",
    "                loctargets.append(0)\n",
    "\n",
    "            start_ind += window_step\n",
    "            end_ind = start_ind + window_size"
   ]
  },
  {
   "cell_type": "code",
   "execution_count": 14,
   "id": "43074cb1-5bcc-4099-9a7a-b4f52452cbde",
   "metadata": {},
   "outputs": [],
   "source": [
    "# For Windows of Trace\n",
    "X_train_loc, X_test_loc, y_train_loc, y_test_loc = train_test_split(locfeatures, loctargets, test_size = 0.3)"
   ]
  },
  {
   "cell_type": "code",
   "execution_count": 15,
   "id": "d10b4369-3395-4d92-aaa1-2d77eaa0b983",
   "metadata": {},
   "outputs": [],
   "source": [
    "X_train_loc = np.array(X_train_loc)\n",
    "X_test_loc = np.array(X_test_loc)\n",
    "y_train_loc = np.array(y_train_loc)\n",
    "y_test_loc = np.array(y_test_loc)"
   ]
  },
  {
   "cell_type": "code",
   "execution_count": 16,
   "id": "92f5fc93-077f-4f98-8c9d-dd4174b0302d",
   "metadata": {},
   "outputs": [],
   "source": [
    "n_timesteps, n_features, n_outputs = X_train_loc.shape[1], X_train_loc.shape[2], 2\n",
    "n_length = int(n_timesteps/n_steps_loc)"
   ]
  },
  {
   "cell_type": "code",
   "execution_count": null,
   "id": "e5553198-9c6f-435a-929f-d878490b1741",
   "metadata": {},
   "outputs": [],
   "source": [
    "locmodel = Sequential()\n",
    "locmodel.add(ConvLSTM2D(filters=64, kernel_size=(1,3), activation='relu', input_shape=(n_steps_loc, 1, n_length, n_features)))\n",
    "locmodel.add(Dropout(0.5))\n",
    "locmodel.add(Flatten())\n",
    "locmodel.add(Dense(100, activation='relu'))\n",
    "locmodel.add(Dense(2, activation='softmax'))\n",
    "locmodel.compile(loss='categorical_crossentropy', optimizer='adam', metrics=['accuracy'])\n",
    "\n",
    "signalmodel.summary()"
   ]
  },
  {
   "cell_type": "code",
   "execution_count": 17,
   "id": "43088aa7-f5a6-49f9-a4bb-7659ad673f04",
   "metadata": {},
   "outputs": [],
   "source": [
    "X_train_loc1 = X_train_loc.reshape((X_train_loc.shape[0], n_steps_loc, 1, n_length, n_features))\n",
    "X_test_loc1 = X_test_loc.reshape((X_test_loc.shape[0], n_steps_loc, 1, n_length, n_features))\n",
    "y_train_loc1 = to_categorical(y_train_loc)\n",
    "y_test_loc1 = to_categorical(y_test_loc)"
   ]
  },
  {
   "cell_type": "code",
   "execution_count": null,
   "id": "904e5139-cb7d-40c1-8af9-0d1b262bbc0f",
   "metadata": {},
   "outputs": [],
   "source": [
    "locmodel.fit(X_train_loc1, y_train_loc1, epochs = 15)"
   ]
  },
  {
   "cell_type": "code",
   "execution_count": 22,
   "id": "5320da96-ae95-457b-95af-5e0444165d54",
   "metadata": {},
   "outputs": [
    {
     "name": "stderr",
     "output_type": "stream",
     "text": [
      "2022-03-13 09:12:25.474635: W tensorflow/core/platform/profile_utils/cpu_utils.cc:128] Failed to get CPU frequency: 0 Hz\n",
      "2022-03-13 09:12:25.644061: I tensorflow/core/grappler/optimizers/custom_graph_optimizer_registry.cc:113] Plugin optimizer for device_type GPU is enabled.\n"
     ]
    },
    {
     "name": "stdout",
     "output_type": "stream",
     "text": [
      "Loss: 0.10070851445198059, Accuracy: 0.9813799262046814\n"
     ]
    },
    {
     "name": "stderr",
     "output_type": "stream",
     "text": [
      "2022-03-13 09:13:21.202877: I tensorflow/core/grappler/optimizers/custom_graph_optimizer_registry.cc:113] Plugin optimizer for device_type GPU is enabled.\n"
     ]
    }
   ],
   "source": [
    "model_loss_loc, model_accuracy_loc = locmodel.evaluate(X_test_loc1, y_test_loc1, verbose = 0)\n",
    "print(f\"Loss: {model_loss_loc}, Accuracy: {model_accuracy_loc}\")\n",
    "\n",
    "predictions_test_loc = locmodel.predict(X_test_loc1)\n",
    "predictions_train_loc = locmodel.predict(X_train_loc1)"
   ]
  },
  {
   "cell_type": "code",
   "execution_count": 32,
   "id": "5a7d7f88-7bf1-468d-8b83-c4748f5568bc",
   "metadata": {},
   "outputs": [
    {
     "name": "stdout",
     "output_type": "stream",
     "text": [
      "Test F1 Score: 0.982568697729988\n",
      "Train F1 Score: 0.9829134664618535\n"
     ]
    }
   ],
   "source": [
    "class_test_loc = predictions_test_loc > 0.25\n",
    "f1_score_test_loc = sklearn.metrics.f1_score(y_test_loc1, class_test_loc, average='micro')\n",
    "print(f\"Test F1 Score: {f1_score_test_loc}\")\n",
    "\n",
    "class_train_loc = predictions_train_loc > 0.25\n",
    "f1_score_train_loc = sklearn.metrics.f1_score(y_train_loc1, class_train_loc, average='micro')\n",
    "print(f\"Train F1 Score: {f1_score_train_loc}\")"
   ]
  },
  {
   "cell_type": "code",
   "execution_count": 33,
   "id": "ab3f0c1b-c432-4855-8e89-71f7c642fee1",
   "metadata": {},
   "outputs": [
    {
     "ename": "IndexError",
     "evalue": "too many indices for array: array is 1-dimensional, but 2 were indexed",
     "output_type": "error",
     "traceback": [
      "\u001b[0;31m---------------------------------------------------------------------------\u001b[0m",
      "\u001b[0;31mIndexError\u001b[0m                                Traceback (most recent call last)",
      "Input \u001b[0;32mIn [33]\u001b[0m, in \u001b[0;36m<module>\u001b[0;34m\u001b[0m\n\u001b[1;32m      1\u001b[0m \u001b[38;5;66;03m##@ TODO: Make compatible\u001b[39;00m\n\u001b[0;32m----> 2\u001b[0m tn, fp, fn, tp \u001b[38;5;241m=\u001b[39m sklearn\u001b[38;5;241m.\u001b[39mmetrics\u001b[38;5;241m.\u001b[39mconfusion_matrix(\u001b[43my_test_loc\u001b[49m\u001b[43m[\u001b[49m\u001b[43m:\u001b[49m\u001b[43m,\u001b[49m\u001b[38;5;241;43m1\u001b[39;49m\u001b[43m]\u001b[49m, class_test_loc[:,\u001b[38;5;241m1\u001b[39m])\u001b[38;5;241m.\u001b[39mravel()\n\u001b[1;32m      3\u001b[0m (tn, fp, fn, tp)\n",
      "\u001b[0;31mIndexError\u001b[0m: too many indices for array: array is 1-dimensional, but 2 were indexed"
     ]
    }
   ],
   "source": [
    "# ##@ TODO: Make compatible\n",
    "# tn, fp, fn, tp = sklearn.metrics.confusion_matrix(y_test_loc[:,1], class_test_loc[:,1]).ravel()\n",
    "# (tn, fp, fn, tp)"
   ]
  },
  {
   "cell_type": "code",
   "execution_count": null,
   "id": "765b0674-2f5f-46d2-858d-7fa8b8793792",
   "metadata": {},
   "outputs": [],
   "source": [
    "# Exporting location model\n",
    "locmodel.save('locmodelCNN')"
   ]
  },
  {
   "cell_type": "markdown",
   "id": "f8e58e14-f9cb-433c-a172-f06eb760c746",
   "metadata": {},
   "source": [
    "## Spot checking results"
   ]
  },
  {
   "cell_type": "code",
   "execution_count": 18,
   "id": "929345ab-c424-4033-bd0c-9cf65ec72d7d",
   "metadata": {},
   "outputs": [
    {
     "name": "stderr",
     "output_type": "stream",
     "text": [
      "2022-03-13 09:11:15.433246: I tensorflow/core/common_runtime/pluggable_device/pluggable_device_factory.cc:305] Could not identify NUMA node of platform GPU ID 0, defaulting to 0. Your kernel may not have been built with NUMA support.\n",
      "2022-03-13 09:11:15.433709: I tensorflow/core/common_runtime/pluggable_device/pluggable_device_factory.cc:271] Created TensorFlow device (/job:localhost/replica:0/task:0/device:GPU:0 with 0 MB memory) -> physical PluggableDevice (device: 0, name: METAL, pci bus id: <undefined>)\n"
     ]
    },
    {
     "name": "stdout",
     "output_type": "stream",
     "text": [
      "Metal device set to: Apple M1\n"
     ]
    }
   ],
   "source": [
    "loaded_signalmodel = load_model('signalmodelCNN1')"
   ]
  },
  {
   "cell_type": "code",
   "execution_count": 19,
   "id": "3cc323f6-1b7c-40fb-a0eb-b726ee735cc4",
   "metadata": {},
   "outputs": [],
   "source": [
    "loaded_locmodel = load_model('locmodelCNN1')"
   ]
  },
  {
   "cell_type": "code",
   "execution_count": null,
   "id": "2c8ceb4e-5384-4d59-9f03-a495b692f362",
   "metadata": {},
   "outputs": [],
   "source": [
    "slice_df = sig_df.iloc[29]"
   ]
  },
  {
   "cell_type": "code",
   "execution_count": null,
   "id": "54d73954-ba83-446b-a526-6203ee423ce7",
   "metadata": {},
   "outputs": [],
   "source": [
    "sigfeatures = []\n",
    "sigtargets = []\n",
    "locfeatures = []\n",
    "loctargets = []\n",
    "\n",
    "tr = slice_df[\"trace\"]\n",
    "mag = abs(tr)\n",
    "signal = slice_df[\"signal\"]\n",
    "p_arrival = slice_df[\"p_arrival\"]\n",
    "d = {\"trace\": tr, \"magnitude\":mag}\n",
    "temp_df = pd.DataFrame(data = d)\n",
    "temp_df[\"STA\"] = temp_df[\"magnitude\"].rolling(roll_short).mean()\n",
    "temp_df[\"LTA\"] = temp_df[\"magnitude\"].rolling(roll_long).mean()\n",
    "temp_df[\"RAV\"] = temp_df[\"STA\"]/temp_df[\"LTA\"]\n",
    "temp_df[\"STV\"] = temp_df[\"magnitude\"].rolling(roll_short).var()\n",
    "temp_df[\"LTV\"] = temp_df[\"magnitude\"].rolling(roll_long).var()\n",
    "    \n",
    "temp_df.dropna(inplace = True)\n",
    "sigfeatures.append(temp_df.values)\n",
    "sigtargets.append(signal)\n",
    "\n",
    "sigfeatures = np.array(sigfeatures)\n",
    "n_timesteps, n_features, n_outputs = sigfeatures.shape[1], sigfeatures.shape[2], 2\n",
    "n_length = int(n_timesteps/n_steps_sig)\n",
    "\n",
    "sigfeatures1 = sigfeatures.reshape((sigfeatures.shape[0], n_steps_sig, 1, n_length, n_features))"
   ]
  },
  {
   "cell_type": "code",
   "execution_count": null,
   "id": "a3ddb99a-b78b-4b66-bc67-e167c89eb04a",
   "metadata": {},
   "outputs": [],
   "source": [
    "loaded_signalmodel.predict(sigfeatures1)[0][1]"
   ]
  },
  {
   "cell_type": "code",
   "execution_count": null,
   "id": "b55ccd58-4d76-4f62-b77b-700b12c6efa7",
   "metadata": {},
   "outputs": [],
   "source": [
    "sigtargets"
   ]
  },
  {
   "cell_type": "code",
   "execution_count": null,
   "id": "b13f078f-5506-48dc-b63e-cf712fea9604",
   "metadata": {},
   "outputs": [],
   "source": [
    "start_ind = 0\n",
    "end_ind = start_ind + window_size\n",
    "    \n",
    "while end_ind < (1000 - roll_long):\n",
    "    magwindow = temp_df[\"magnitude\"].iloc[start_ind:end_ind]\n",
    "    trwindow = temp_df[\"trace\"].iloc[start_ind:end_ind]\n",
    "    ravwindow = temp_df[\"RAV\"].iloc[start_ind:end_ind]\n",
    "    stvwindow = temp_df[\"STV\"].iloc[start_ind:end_ind]\n",
    "    ltvwindow = temp_df[\"LTV\"].iloc[start_ind:end_ind]\n",
    "\n",
    "    window_data = {\"trace\":trwindow, \"magnitude\": magwindow,\n",
    "                    \"RAV\": ravwindow, \"STV\": stvwindow, \"LTV\": ltvwindow}\n",
    "        \n",
    "    window_df = pd.DataFrame(data = window_data)\n",
    "\n",
    "    locfeatures.append(window_df.values)\n",
    "\n",
    "    if ((p_arrival-roll_long) >= start_ind) and ((p_arrival-roll_long) <= end_ind):\n",
    "        loctargets.append(1)\n",
    "    else:\n",
    "        loctargets.append(0)\n",
    "\n",
    "    start_ind += window_step\n",
    "    end_ind = start_ind + window_size\n",
    "    \n",
    "\n",
    "locfeatures = np.array(locfeatures)\n",
    "n_timesteps, n_features, n_outputs = locfeatures.shape[1], locfeatures.shape[2], 2\n",
    "n_length = int(n_timesteps/n_steps_loc)\n",
    "\n",
    "locfeatures1 = locfeatures.reshape((locfeatures.shape[0], n_steps_loc, 1, n_length, n_features))"
   ]
  },
  {
   "cell_type": "code",
   "execution_count": null,
   "id": "7a82b8bb-14a5-4069-a149-18160fa66636",
   "metadata": {},
   "outputs": [],
   "source": [
    "loaded_locmodel.predict(locfeatures1)[:,1]"
   ]
  },
  {
   "cell_type": "code",
   "execution_count": null,
   "id": "c0ef13c8-be35-44c9-ae6a-b9dd4ac37696",
   "metadata": {},
   "outputs": [],
   "source": [
    "loctargets"
   ]
  },
  {
   "cell_type": "code",
   "execution_count": null,
   "id": "bbcb726b-8b20-442e-adef-a5cdbe7a6c39",
   "metadata": {},
   "outputs": [],
   "source": []
  },
  {
   "cell_type": "code",
   "execution_count": null,
   "id": "a17b9e59-6879-4ced-9978-7d6b397baf25",
   "metadata": {},
   "outputs": [],
   "source": []
  }
 ],
 "metadata": {
  "kernelspec": {
   "display_name": "Python 3 (ipykernel)",
   "language": "python",
   "name": "python3"
  },
  "language_info": {
   "codemirror_mode": {
    "name": "ipython",
    "version": 3
   },
   "file_extension": ".py",
   "mimetype": "text/x-python",
   "name": "python",
   "nbconvert_exporter": "python",
   "pygments_lexer": "ipython3",
   "version": "3.8.12"
  }
 },
 "nbformat": 4,
 "nbformat_minor": 5
}
