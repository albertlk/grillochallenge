{
 "cells": [
  {
   "cell_type": "code",
   "execution_count": 1,
   "id": "9b2cc46a-277a-4882-bcb9-5615e49d3ffb",
   "metadata": {},
   "outputs": [
    {
     "data": {
      "text/plain": [
       "'/Users/albertkong/grillochallenge'"
      ]
     },
     "execution_count": 1,
     "metadata": {},
     "output_type": "execute_result"
    }
   ],
   "source": [
    "import os\n",
    "import obspy\n",
    "import numpy as np\n",
    "import pandas as pd\n",
    "import random as random\n",
    "import matplotlib.pyplot as plt\n",
    "from tensorflow.keras.models import load_model\n",
    "%matplotlib inline\n",
    "os.getcwd()"
   ]
  },
  {
   "cell_type": "code",
   "execution_count": 2,
   "id": "707fd1d8-4972-494f-b35c-909501175c70",
   "metadata": {},
   "outputs": [],
   "source": [
    "import warnings\n",
    "warnings.filterwarnings(\"ignore\")"
   ]
  },
  {
   "cell_type": "code",
   "execution_count": 3,
   "id": "7b6e66bc-f4ea-4aa8-b98f-1a010a0e50c0",
   "metadata": {},
   "outputs": [
    {
     "name": "stderr",
     "output_type": "stream",
     "text": [
      "2022-03-11 10:31:44.749442: I tensorflow/core/common_runtime/pluggable_device/pluggable_device_factory.cc:305] Could not identify NUMA node of platform GPU ID 0, defaulting to 0. Your kernel may not have been built with NUMA support.\n",
      "2022-03-11 10:31:44.749541: I tensorflow/core/common_runtime/pluggable_device/pluggable_device_factory.cc:271] Created TensorFlow device (/job:localhost/replica:0/task:0/device:GPU:0 with 0 MB memory) -> physical PluggableDevice (device: 0, name: METAL, pci bus id: <undefined>)\n"
     ]
    },
    {
     "name": "stdout",
     "output_type": "stream",
     "text": [
      "Metal device set to: Apple M1\n"
     ]
    }
   ],
   "source": [
    "signalmodel = load_model('signalmodelCNN')\n",
    "locmodel = load_model('locmodelCNN')"
   ]
  },
  {
   "cell_type": "code",
   "execution_count": 9,
   "id": "ea46ad40-d32c-4502-bc01-35b7aefe083f",
   "metadata": {},
   "outputs": [],
   "source": [
    "def predict(trace):\n",
    "    \n",
    "    ## Things to Specify -- Ensure that they align with trained model\n",
    "    # For rolling averages\n",
    "    roll_short = 25\n",
    "    roll_long = 50\n",
    "\n",
    "    # For location segments\n",
    "    window_step = 10\n",
    "    window_size = 20\n",
    "    \n",
    "    # Step size for CNN\n",
    "    n_steps = 5\n",
    "    \n",
    "    # Probability cut-offs\n",
    "    p_prob = 0.1 # for p-wave\n",
    "    s_prob = 0.1 # for signal\n",
    "    \n",
    "    ## Reading in Trace and Splitting Channels\n",
    "    sig_trace = trace.normalize()\n",
    "    \n",
    "    samp_rate = sig_trace.stats.sampling_rate\n",
    "    start_time = sig_trace.stats.starttime\n",
    "    \n",
    "    sigs = sig_trace.data\n",
    "    \n",
    "    sig_df = pd.DataFrame(sigs, columns = [\"trace\"])\n",
    "    \n",
    "    sigfeatures = []\n",
    "    \n",
    "    ## Calculating various features needed for the signal model\n",
    "    tr = sig_df[\"trace\"]\n",
    "    mag = abs(tr)\n",
    "    d = {\"trace\":tr, \"magnitude\":mag}\n",
    "    temp_df = pd.DataFrame(data = d)\n",
    "    \n",
    "    temp_df[\"STA\"] = temp_df[\"magnitude\"].rolling(roll_short).mean()\n",
    "    temp_df[\"LTA\"] = temp_df[\"magnitude\"].rolling(roll_long).mean()\n",
    "    temp_df[\"RAV\"] = temp_df[\"STA\"]/temp_df[\"LTA\"]\n",
    "    temp_df[\"STV\"] = temp_df[\"magnitude\"].rolling(roll_short).var()\n",
    "    temp_df[\"LTV\"] = temp_df[\"magnitude\"].rolling(roll_long).var()\n",
    "\n",
    "    temp_df.dropna(inplace = True)\n",
    "    sigfeatures.append(temp_df.values)\n",
    "    \n",
    "    sigfeatures = np.array(sigfeatures)\n",
    "    n_timesteps, n_features, n_outputs = sigfeatures.shape[1], sigfeatures.shape[2], 2\n",
    "    n_length = n_timesteps/n_steps\n",
    "\n",
    "    sigfeatures1 = sigfeatures.reshape((sigfeatures.shape[0], n_steps, 1, n_length, n_features))\n",
    "    \n",
    "    ## Predicting whether or not there is a pwave in the trace\n",
    "    is_sig = signalmodel.predict(sigfeatures1)[0][1]\n",
    "    print(\"Signal Prob:\", is_sig)\n",
    "\n",
    "    locfeatures = []\n",
    "\n",
    "    ## If there is a pwave in the trace, continue to find location of pwave\n",
    "    start_ind = 0\n",
    "    end_ind = start_ind + window_size\n",
    "\n",
    "    while end_ind < (1000 - roll_long):\n",
    "        trwindow = temp_df[\"trace\"].iloc[start_ind:end_ind]\n",
    "        magwindow = temp_df[\"magnitude\"].iloc[start_ind:end_ind]\n",
    "        ravwindow = temp_df[\"RAV\"].iloc[start_ind:end_ind]\n",
    "        stvwindow = temp_df[\"STV\"].iloc[start_ind:end_ind]\n",
    "        ltvwindow = temp_df[\"LTV\"].iloc[start_ind:end_ind]\n",
    "\n",
    "        window_data = {\"trace\": trwindow, \"magnitude\": magwindow,\n",
    "                            \"RAV\": ravwindow, \"STV\": stvwindow, \"LTV\": ltvwindow}\n",
    "\n",
    "        window_df = pd.DataFrame(data = window_data)\n",
    "\n",
    "        locfeatures.append(window_df.values)\n",
    "\n",
    "        start_ind += window_step\n",
    "        end_ind = start_ind + window_size\n",
    "\n",
    "    locfeatures = np.array(locfeatures)\n",
    "    n_timesteps, n_features, n_outputs = locfeatures.shape[1], locfeatures.shape[2], 2\n",
    "    n_steps, n_length = 3, 10\n",
    "    \n",
    "    locfeatures1 = locfeatures.reshape((locfeatures.shape[0], n_steps, 1, n_length, n_features))\n",
    "    \n",
    "    prob_vec = locmodel.predict(locfeatures1)[:,1]\n",
    "    \n",
    "    # Since we know if there is a p-wave, it will be in the last 3 seconds:\n",
    "    end_ind = len(prob_vec)\n",
    "    beg_ind = len(prob_vec) - int(3*window_size/samp_rate + 1)\n",
    "    p_segment = beg_ind + np.where(prob_vec[beg_ind:end_ind] == max(prob_vec[beg_ind:end_ind]))[0][0]\n",
    "    print(\"P-segment:\", p_segment)\n",
    "    print(\"P-wave Prob:\", max(prob_vec[beg_ind:end_ind]))\n",
    "        \n",
    "    tick_delta = (p_segment + 0.5)*window_step + (roll_long - 1)\n",
    "    print(\"Tick Index:\", tick_delta)\n",
    "        \n",
    "    time_delta = (tick_delta)/samp_rate\n",
    "    p_time = start_time + time_delta\n",
    "        \n",
    "    if (is_sig >= s_prob)|(max(prob_vec[beg_ind:end_ind]) > p_prob):\n",
    "        return p_time, prob_vec\n",
    "    else:\n",
    "        return -1, -1"
   ]
  },
  {
   "cell_type": "code",
   "execution_count": 10,
   "id": "7f4aae3a-080b-4992-b011-65127f5d737d",
   "metadata": {
    "collapsed": true,
    "jupyter": {
     "outputs_hidden": true
    },
    "tags": []
   },
   "outputs": [
    {
     "ename": "FileNotFoundError",
     "evalue": "[Errno 2] No such file or directory: 'lse_challenge/data/signal'",
     "output_type": "error",
     "traceback": [
      "\u001b[0;31m---------------------------------------------------------------------------\u001b[0m",
      "\u001b[0;31mFileNotFoundError\u001b[0m                         Traceback (most recent call last)",
      "Input \u001b[0;32mIn [10]\u001b[0m, in \u001b[0;36m<module>\u001b[0;34m\u001b[0m\n\u001b[0;32m----> 1\u001b[0m \u001b[43mos\u001b[49m\u001b[38;5;241;43m.\u001b[39;49m\u001b[43mchdir\u001b[49m\u001b[43m(\u001b[49m\u001b[38;5;124;43m'\u001b[39;49m\u001b[38;5;124;43mlse_challenge/data/signal\u001b[39;49m\u001b[38;5;124;43m'\u001b[39;49m\u001b[43m)\u001b[49m\n\u001b[1;32m      2\u001b[0m signal_files \u001b[38;5;241m=\u001b[39m os\u001b[38;5;241m.\u001b[39mlistdir()\n",
      "\u001b[0;31mFileNotFoundError\u001b[0m: [Errno 2] No such file or directory: 'lse_challenge/data/signal'"
     ]
    }
   ],
   "source": [
    "os.chdir('lse_challenge/data/signal')\n",
    "signal_files = os.listdir()"
   ]
  },
  {
   "cell_type": "code",
   "execution_count": 11,
   "id": "d425c329-f3ba-403c-b6e0-e68e4e1c64c8",
   "metadata": {},
   "outputs": [],
   "source": [
    "beg_ind = 27\n",
    "end_ind = 31"
   ]
  },
  {
   "cell_type": "code",
   "execution_count": 18,
   "id": "3ab8bebf-059e-495f-871f-48c3d2f1ea02",
   "metadata": {},
   "outputs": [
    {
     "name": "stdout",
     "output_type": "stream",
     "text": [
      "SNR: 2.06204074796\n",
      "Correct Tick Index: 917\n",
      "Signal Prob: 1.0\n",
      "P-segment: 59\n",
      "P-wave Prob: 0.0\n",
      "Tick Index: 941.5\n",
      "Prediction Offset: -0.784 sec\n"
     ]
    },
    {
     "data": {
      "text/plain": [
       "[<matplotlib.lines.Line2D at 0x283ac95b0>]"
      ]
     },
     "execution_count": 18,
     "metadata": {},
     "output_type": "execute_result"
    },
    {
     "data": {
      "image/png": "[encoded data removed]",
      "text/plain": [
       "<Figure size 432x288 with 1 Axes>"
      ]
     },
     "metadata": {
      "needs_background": "light"
     },
     "output_type": "display_data"
    }
   ],
   "source": [
    "signal_file = random.sample(signal_files, 1)\n",
    "stream = obspy.read(signal_file[0])\n",
    "tr = stream[0]\n",
    "snr = sum(abs(tr.data[1000:1032]))/sum(abs(tr.data[1000-32:1000]))\n",
    "print(\"SNR:\", snr)\n",
    "cut = int((random.random()*3+0.5)*32.5)\n",
    "tr.data = tr.data[cut:1000+cut]\n",
    "correct_answer = tr.stats.starttime + (1000-cut)/tr.stats.sampling_rate\n",
    "p_arrival = 1000 - cut\n",
    "print(\"Correct Tick Index:\", p_arrival)\n",
    "\n",
    "prediction, vec = predict(tr)\n",
    "if(prediction > 0):\n",
    "    print(\"Prediction Offset:\", (correct_answer-prediction), \"sec\")\n",
    "else:\n",
    "    print(\"Prediction:\", prediction)\n",
    "    \n",
    "plt.plot(tr)"
   ]
  },
  {
   "cell_type": "code",
   "execution_count": 65,
   "id": "9dd7ec1a-4aee-4c55-bf6f-98309e30fddf",
   "metadata": {},
   "outputs": [
    {
     "data": {
      "text/plain": [
       "array([  6.37485413e-03,   1.35266231e-02,   1.03531871e-02,\n",
       "         6.45706104e-03,   9.31910425e-03,   1.19451378e-02,\n",
       "         5.58236241e-02,   9.78567917e-03,   9.81310103e-03,\n",
       "         8.84095952e-03,   1.19910799e-02,   8.04945081e-02,\n",
       "         7.56670767e-03,   1.28316768e-02,   7.51631334e-03,\n",
       "         6.09897450e-03,   9.37293470e-03,   2.07592286e-02,\n",
       "         8.72316770e-03,   1.12843132e-02,   5.78383766e-02,\n",
       "         1.16873672e-02,   2.91678216e-03,   1.02331592e-02,\n",
       "         1.08945090e-02,   4.20486450e-01,   5.00709633e-04,\n",
       "         4.95878933e-03,   6.39512343e-03,   1.65837184e-02,\n",
       "         1.05374642e-09], dtype=float32)"
      ]
     },
     "execution_count": 65,
     "metadata": {},
     "output_type": "execute_result"
    }
   ],
   "source": [
    "vec"
   ]
  },
  {
   "cell_type": "code",
   "execution_count": 53,
   "id": "4d61b4ef-0c07-4a39-a4f0-7e740f90c3ea",
   "metadata": {},
   "outputs": [],
   "source": [
    "np.where(vec[beg_ind:end_ind] > 0.015)"
   ]
  },
  {
   "cell_type": "code",
   "execution_count": null,
   "id": "dac3fa88-04d4-4cf0-a5d2-2f09a0e46f1a",
   "metadata": {},
   "outputs": [],
   "source": []
  },
  {
   "cell_type": "code",
   "execution_count": null,
   "id": "918151e2-133a-455b-b8d2-c6a27ccdfaeb",
   "metadata": {},
   "outputs": [],
   "source": []
  }
 ],
 "metadata": {
  "kernelspec": {
   "display_name": "Python 3 (ipykernel)",
   "language": "python",
   "name": "python3"
  },
  "language_info": {
   "codemirror_mode": {
    "name": "ipython",
    "version": 3
   },
   "file_extension": ".py",
   "mimetype": "text/x-python",
   "name": "python",
   "nbconvert_exporter": "python",
   "pygments_lexer": "ipython3",
   "version": "3.8.12"
  }
 },
 "nbformat": 4,
 "nbformat_minor": 5
}
