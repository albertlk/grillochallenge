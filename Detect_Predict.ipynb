{
 "cells": [
  {
   "cell_type": "code",
   "execution_count": 1,
   "id": "9b2cc46a-277a-4882-bcb9-5615e49d3ffb",
   "metadata": {},
   "outputs": [
    {
     "data": {
      "text/plain": [
       "'/Users/albertkong/grillochallenge'"
      ]
     },
     "execution_count": 1,
     "metadata": {},
     "output_type": "execute_result"
    }
   ],
   "source": [
    "import os\n",
    "import obspy\n",
    "import numpy as np\n",
    "import pandas as pd\n",
    "import random as random\n",
    "import matplotlib.pyplot as plt\n",
    "from tensorflow.keras.models import load_model\n",
    "%matplotlib inline\n",
    "os.getcwd()"
   ]
  },
  {
   "cell_type": "code",
   "execution_count": 2,
   "id": "707fd1d8-4972-494f-b35c-909501175c70",
   "metadata": {},
   "outputs": [],
   "source": [
    "import warnings\n",
    "warnings.filterwarnings(\"ignore\")"
   ]
  },
  {
   "cell_type": "code",
   "execution_count": 3,
   "id": "7b6e66bc-f4ea-4aa8-b98f-1a010a0e50c0",
   "metadata": {},
   "outputs": [
    {
     "name": "stdout",
     "output_type": "stream",
     "text": [
      "Metal device set to: Apple M1\n"
     ]
    },
    {
     "name": "stderr",
     "output_type": "stream",
     "text": [
      "2022-03-13 18:15:32.363499: I tensorflow/core/common_runtime/pluggable_device/pluggable_device_factory.cc:305] Could not identify NUMA node of platform GPU ID 0, defaulting to 0. Your kernel may not have been built with NUMA support.\n",
      "2022-03-13 18:15:32.363585: I tensorflow/core/common_runtime/pluggable_device/pluggable_device_factory.cc:271] Created TensorFlow device (/job:localhost/replica:0/task:0/device:GPU:0 with 0 MB memory) -> physical PluggableDevice (device: 0, name: METAL, pci bus id: <undefined>)\n"
     ]
    }
   ],
   "source": [
    "signalmodel = load_model('signalmodelCNN_v2')\n",
    "locmodel = load_model('locmodelCNN_v2')"
   ]
  },
  {
   "cell_type": "code",
   "execution_count": 16,
   "id": "ea46ad40-d32c-4502-bc01-35b7aefe083f",
   "metadata": {},
   "outputs": [],
   "source": [
    "def predict(trace):\n",
    "    \n",
    "    ## Things to Specify -- Ensure that they align with trained model\n",
    "    # For rolling averages\n",
    "    roll_short = 25\n",
    "    roll_long = 50\n",
    "\n",
    "    # For location segments\n",
    "    window_step = 20\n",
    "    window_size = 20\n",
    "    \n",
    "    # Step size for CNN\n",
    "    n_steps_sig = 3\n",
    "    n_steps_loc = 5\n",
    "    \n",
    "    # Probability cut-offs\n",
    "    p_prob = 0.1 # for p-wave\n",
    "    s_prob = 0.1 # for signal\n",
    "    \n",
    "    ## Reading in Trace and Splitting Channels\n",
    "    sig_trace = trace.normalize()\n",
    "    \n",
    "    samp_rate = sig_trace.stats.sampling_rate\n",
    "    start_time = sig_trace.stats.starttime\n",
    "    \n",
    "    sigs = sig_trace.data\n",
    "    \n",
    "    sig_df = pd.DataFrame(sigs, columns = [\"trace\"])\n",
    "    \n",
    "    sigfeatures = []\n",
    "    \n",
    "    ## Calculating various features needed for the signal model\n",
    "    tr = sig_df[\"trace\"]\n",
    "    mag = abs(tr)\n",
    "    d = {\"trace\":tr, \"magnitude\":mag}\n",
    "    temp_df = pd.DataFrame(data = d)\n",
    "    \n",
    "    temp_df[\"STA\"] = temp_df[\"magnitude\"].rolling(roll_short).mean()\n",
    "    temp_df[\"LTA\"] = temp_df[\"magnitude\"].rolling(roll_long).mean()\n",
    "    temp_df[\"RAV\"] = temp_df[\"STA\"]/temp_df[\"LTA\"]\n",
    "    temp_df[\"STV\"] = temp_df[\"magnitude\"].rolling(roll_short).var()\n",
    "    temp_df[\"LTV\"] = temp_df[\"magnitude\"].rolling(roll_long).var()\n",
    "\n",
    "    temp_df.dropna(inplace = True)\n",
    "    sigfeatures.append(temp_df.values)\n",
    "    \n",
    "    sigfeatures = np.array(sigfeatures)\n",
    "    n_timesteps, n_features, n_outputs = sigfeatures.shape[1], sigfeatures.shape[2], 2\n",
    "    n_length = int(n_timesteps/n_steps_sig)\n",
    "\n",
    "    sigfeatures1 = sigfeatures.reshape((sigfeatures.shape[0], n_steps_sig, 1, n_length, n_features))\n",
    "    \n",
    "    ## Predicting whether or not there is a pwave in the trace\n",
    "    is_sig = signalmodel.predict(sigfeatures1)[0][1]\n",
    "    print(\"Signal Prob:\", is_sig)\n",
    "\n",
    "    locfeatures = []\n",
    "\n",
    "    ## If there is a pwave in the trace, continue to find location of pwave\n",
    "    start_ind = 0\n",
    "    end_ind = start_ind + window_size\n",
    "\n",
    "    while end_ind < (1000 - roll_long):\n",
    "        trwindow = temp_df[\"trace\"].iloc[start_ind:end_ind]\n",
    "        magwindow = temp_df[\"magnitude\"].iloc[start_ind:end_ind]\n",
    "        ravwindow = temp_df[\"RAV\"].iloc[start_ind:end_ind]\n",
    "        stvwindow = temp_df[\"STV\"].iloc[start_ind:end_ind]\n",
    "        ltvwindow = temp_df[\"LTV\"].iloc[start_ind:end_ind]\n",
    "\n",
    "        window_data = {\"trace\": trwindow, \"magnitude\": magwindow,\n",
    "                            \"RAV\": ravwindow, \"STV\": stvwindow, \"LTV\": ltvwindow}\n",
    "\n",
    "        window_df = pd.DataFrame(data = window_data)\n",
    "\n",
    "        locfeatures.append(window_df.values)\n",
    "\n",
    "        start_ind += window_step\n",
    "        end_ind = start_ind + window_size\n",
    "\n",
    "    locfeatures = np.array(locfeatures)\n",
    "    n_timesteps, n_features, n_outputs = locfeatures.shape[1], locfeatures.shape[2], 2\n",
    "    n_length = int(n_timesteps/n_steps_loc)\n",
    "    \n",
    "    locfeatures1 = locfeatures.reshape((locfeatures.shape[0], n_steps_loc, 1, n_length, n_features))\n",
    "    \n",
    "    prob_vec = locmodel.predict(locfeatures1)[:,1]\n",
    "    \n",
    "    # Since we know if there is a p-wave, it will be in the last 3 seconds:\n",
    "    end_ind = len(prob_vec)\n",
    "    beg_ind = len(prob_vec) - int(3*samp_rate/window_size + 1)\n",
    "    p_segment = beg_ind + np.where(prob_vec[beg_ind:end_ind] == max(prob_vec[beg_ind:end_ind]))[0][0]\n",
    "    print(\"P-segment:\", p_segment)\n",
    "    print(\"P-wave Prob:\", max(prob_vec[beg_ind:end_ind]))\n",
    "        \n",
    "    tick_delta = p_segment*window_step + 0.5*window_size + (roll_long - 1)\n",
    "    print(\"Tick Index:\", tick_delta)\n",
    "        \n",
    "    time_delta = (tick_delta)/samp_rate\n",
    "    p_time = start_time + time_delta\n",
    "        \n",
    "    if (is_sig >= s_prob)|(max(prob_vec[beg_ind:end_ind]) > p_prob):\n",
    "        return p_time, prob_vec\n",
    "    else:\n",
    "        return -1, -1"
   ]
  },
  {
   "cell_type": "code",
   "execution_count": 5,
   "id": "7f4aae3a-080b-4992-b011-65127f5d737d",
   "metadata": {
    "tags": []
   },
   "outputs": [],
   "source": [
    "os.chdir('lse_challenge/data/signal')\n",
    "signal_files = os.listdir()"
   ]
  },
  {
   "cell_type": "code",
   "execution_count": 17,
   "id": "d425c329-f3ba-403c-b6e0-e68e4e1c64c8",
   "metadata": {},
   "outputs": [],
   "source": [
    "beg_ind = 42\n",
    "end_ind = 47"
   ]
  },
  {
   "cell_type": "code",
   "execution_count": 18,
   "id": "3ab8bebf-059e-495f-871f-48c3d2f1ea02",
   "metadata": {},
   "outputs": [
    {
     "name": "stdout",
     "output_type": "stream",
     "text": [
      "SNR: 4.32765999901\n",
      "Correct Tick Index: 893\n",
      "Signal Prob: 0.666759\n",
      "P-segment: 42\n",
      "P-wave Prob: 0.260151\n",
      "Tick Index: 899.0\n",
      "Prediction Offset: -0.192 sec\n"
     ]
    },
    {
     "data": {
      "text/plain": [
       "[<matplotlib.lines.Line2D at 0x282a12a60>]"
      ]
     },
     "execution_count": 18,
     "metadata": {},
     "output_type": "execute_result"
    },
    {
     "data": {
      "image/png": "[encoded data removed]",
      "text/plain": [
       "<Figure size 432x288 with 1 Axes>"
      ]
     },
     "metadata": {
      "needs_background": "light"
     },
     "output_type": "display_data"
    }
   ],
   "source": [
    "signal_file = random.sample(signal_files, 1)\n",
    "stream = obspy.read(signal_file[0])\n",
    "tr = stream[0]\n",
    "snr = sum(abs(tr.data[1000:1032]))/sum(abs(tr.data[1000-32:1000]))\n",
    "print(\"SNR:\", snr)\n",
    "cut = int((random.random()*3+0.5)*32.5)\n",
    "tr.data = tr.data[cut:1000+cut]\n",
    "correct_answer = tr.stats.starttime + (1000-cut)/tr.stats.sampling_rate\n",
    "p_arrival = 1000 - cut\n",
    "print(\"Correct Tick Index:\", p_arrival)\n",
    "\n",
    "prediction, vec = predict(tr)\n",
    "if(prediction > 0):\n",
    "    print(\"Prediction Offset:\", (correct_answer-prediction), \"sec\")\n",
    "else:\n",
    "    print(\"Prediction:\", prediction)\n",
    "    \n",
    "plt.plot(tr)"
   ]
  },
  {
   "cell_type": "code",
   "execution_count": null,
   "id": "9dd7ec1a-4aee-4c55-bf6f-98309e30fddf",
   "metadata": {},
   "outputs": [],
   "source": []
  },
  {
   "cell_type": "code",
   "execution_count": 11,
   "id": "4d61b4ef-0c07-4a39-a4f0-7e740f90c3ea",
   "metadata": {},
   "outputs": [
    {
     "data": {
      "text/plain": [
       "array([False, False,  True, False, False, False, False, False, False,\n",
       "       False, False, False, False, False, False, False, False, False,\n",
       "       False,  True, False, False,  True, False, False,  True, False,\n",
       "       False, False, False, False, False, False, False, False, False,\n",
       "       False, False, False, False, False, False, False, False,  True,\n",
       "       False,  True], dtype=bool)"
      ]
     },
     "execution_count": 11,
     "metadata": {},
     "output_type": "execute_result"
    }
   ],
   "source": [
    "(vec > 0.01)"
   ]
  },
  {
   "cell_type": "code",
   "execution_count": null,
   "id": "dac3fa88-04d4-4cf0-a5d2-2f09a0e46f1a",
   "metadata": {},
   "outputs": [],
   "source": []
  },
  {
   "cell_type": "code",
   "execution_count": null,
   "id": "918151e2-133a-455b-b8d2-c6a27ccdfaeb",
   "metadata": {},
   "outputs": [],
   "source": []
  }
 ],
 "metadata": {
  "kernelspec": {
   "display_name": "Python 3 (ipykernel)",
   "language": "python",
   "name": "python3"
  },
  "language_info": {
   "codemirror_mode": {
    "name": "ipython",
    "version": 3
   },
   "file_extension": ".py",
   "mimetype": "text/x-python",
   "name": "python",
   "nbconvert_exporter": "python",
   "pygments_lexer": "ipython3",
   "version": "3.8.12"
  }
 },
 "nbformat": 4,
 "nbformat_minor": 5
}
