{
 "cells": [
  {
   "cell_type": "code",
   "execution_count": null,
   "id": "9b2cc46a-277a-4882-bcb9-5615e49d3ffb",
   "metadata": {},
   "outputs": [],
   "source": [
    "import os\n",
    "import obspy\n",
    "import numpy as np\n",
    "import pandas as pd\n",
    "import random as random\n",
    "from tensorflow.keras.models import load_model\n",
    "%matplotlib inline\n",
    "os.getcwd()"
   ]
  },
  {
   "cell_type": "code",
   "execution_count": null,
   "id": "707fd1d8-4972-494f-b35c-909501175c70",
   "metadata": {},
   "outputs": [],
   "source": [
    "import warnings\n",
    "warnings.filterwarnings(\"ignore\")"
   ]
  },
  {
   "cell_type": "code",
   "execution_count": null,
   "id": "7b6e66bc-f4ea-4aa8-b98f-1a010a0e50c0",
   "metadata": {},
   "outputs": [],
   "source": [
    "signalmodel = load_model('signalmodel1')\n",
    "locmodel = load_model('locmodel1')"
   ]
  },
  {
   "cell_type": "code",
   "execution_count": null,
   "id": "ea46ad40-d32c-4502-bc01-35b7aefe083f",
   "metadata": {},
   "outputs": [],
   "source": [
    "def detector_predict(trace):\n",
    "    \n",
    "    ## Things to Specify -- Ensure that they align with trained model\n",
    "    # For rolling averages\n",
    "    roll_short = 25\n",
    "    roll_long = 50\n",
    "\n",
    "    # For location segments\n",
    "    window_step = 30\n",
    "    window_size = 30\n",
    "    \n",
    "    ## Reading in Trace and Splitting Channels\n",
    "    sig_trace = trace.normalize()\n",
    "    \n",
    "    samp_rate = sig_trace.stats.sampling_rate\n",
    "    start_time = sig_trace.stats.starttime\n",
    "    \n",
    "    sigs = sig_trace.data\n",
    "    \n",
    "    sig_df = pd.DataFrame(sigs, columns = [\"trace\"])\n",
    "    \n",
    "    sigfeatures = []\n",
    "    \n",
    "    ## Calculating various features needed for the signal model\n",
    "    tr = sig_df[\"trace\"]\n",
    "    mag = abs(tr)\n",
    "    d = {\"trace\":tr, \"magnitude\":mag}\n",
    "    temp_df = pd.DataFrame(data = d)\n",
    "    \n",
    "    temp_df[\"STA\"] = temp_df[\"magnitude\"].rolling(roll_short).mean()\n",
    "    temp_df[\"LTA\"] = temp_df[\"magnitude\"].rolling(roll_long).mean()\n",
    "    temp_df[\"RAV\"] = temp_df[\"STA\"]/temp_df[\"LTA\"]\n",
    "    temp_df[\"STV\"] = temp_df[\"magnitude\"].rolling(roll_short).var()\n",
    "    temp_df[\"LTV\"] = temp_df[\"magnitude\"].rolling(roll_long).var()\n",
    "\n",
    "    temp_df.dropna(inplace = True)\n",
    "    sigfeatures.append(temp_df.values)\n",
    "    \n",
    "    ## Predicting whether or not there is a pwave in the trace\n",
    "    is_sig = signalmodel.predict(np.array(sigfeatures))\n",
    "    print(is_sig)\n",
    "    \n",
    "    if is_sig < 0.5:\n",
    "        return None\n",
    "    \n",
    "    else:\n",
    "        locfeatures = []\n",
    "\n",
    "        ## If there is a pwave in the trace, continue to find location of pwave\n",
    "        start_ind = 0\n",
    "        end_ind = start_ind + window_size\n",
    "\n",
    "        while end_ind < (1000 - roll_long):\n",
    "            trwindow = temp_df[\"trace\"].iloc[start_ind:end_ind]\n",
    "            magwindow = temp_df[\"magnitude\"].iloc[start_ind:end_ind]\n",
    "            ravwindow = temp_df[\"RAV\"].iloc[start_ind:end_ind]\n",
    "            stvwindow = temp_df[\"STV\"].iloc[start_ind:end_ind]\n",
    "            ltvwindow = temp_df[\"LTV\"].iloc[start_ind:end_ind]\n",
    "\n",
    "            window_data = {\"trace\": trwindow, \"magnitude\": magwindow,\n",
    "                            \"RAV\": ravwindow, \"STV\": stvwindow, \"LTV\": ltvwindow}\n",
    "\n",
    "            window_df = pd.DataFrame(data = window_data)\n",
    "\n",
    "            locfeatures.append(window_df.values)\n",
    "\n",
    "            start_ind += window_step\n",
    "            end_ind = start_ind + window_size\n",
    "\n",
    "        prob_vec = locmodel.predict(np.array(locfeatures))\n",
    "        p_segment = np.where(prob_vec == max(prob_vec))[0][0]\n",
    "\n",
    "        tick_delta = (p_segment + 0.5)*window_size\n",
    "        time_delta = tick_delta/samp_rate\n",
    "        p_time = start_time + time_delta\n",
    "\n",
    "        return p_time  "
   ]
  },
  {
   "cell_type": "code",
   "execution_count": null,
   "id": "7f4aae3a-080b-4992-b011-65127f5d737d",
   "metadata": {},
   "outputs": [],
   "source": [
    "os.chdir('lse_challenge/data/signal')\n",
    "signal_files = os.listdir()"
   ]
  },
  {
   "cell_type": "code",
   "execution_count": null,
   "id": "68ac2bd0-b19c-49d8-8079-045fa8c7d2db",
   "metadata": {},
   "outputs": [],
   "source": [
    "signal_file = random.sample(signal_files, 1)\n",
    "stream = obspy.read(signal_file[0])\n",
    "tr = stream[0]\n",
    "cut = int((random.random()*20+1)*32.5)\n",
    "tr.data = tr.data[cut:1000+cut]\n",
    "correct_answer = tr.stats.starttime + (1000-cut)/tr.stats.sampling_rate\n",
    "print(correct_answer)"
   ]
  },
  {
   "cell_type": "code",
   "execution_count": null,
   "id": "70d353ec-4037-4f61-8a1c-14a07c553ed8",
   "metadata": {},
   "outputs": [],
   "source": [
    "prediction = detector_predict(tr)\n",
    "if(prediction):\n",
    "    print(abs(correct_answer-prediction))\n",
    "else:\n",
    "    print(prediction)"
   ]
  },
  {
   "cell_type": "code",
   "execution_count": null,
   "id": "1fb85272-dae7-417d-9157-b7f3a01f93be",
   "metadata": {},
   "outputs": [],
   "source": []
  },
  {
   "cell_type": "code",
   "execution_count": null,
   "id": "611f6f34-9f08-4cfa-a934-1216866a55da",
   "metadata": {},
   "outputs": [],
   "source": []
  },
  {
   "cell_type": "code",
   "execution_count": null,
   "id": "11b0e483-32cb-4a87-9bb2-92bc22cffa32",
   "metadata": {},
   "outputs": [],
   "source": []
  },
  {
   "cell_type": "code",
   "execution_count": null,
   "id": "52978653-c92e-4c95-a24b-1b30684b4cb0",
   "metadata": {},
   "outputs": [],
   "source": []
  },
  {
   "cell_type": "code",
   "execution_count": null,
   "id": "7b6a16d6-0c8f-44b4-bd63-9b0fb122a248",
   "metadata": {},
   "outputs": [],
   "source": []
  }
 ],
 "metadata": {
  "kernelspec": {
   "display_name": "Python 3 (ipykernel)",
   "language": "python",
   "name": "python3"
  },
  "language_info": {
   "codemirror_mode": {
    "name": "ipython",
    "version": 3
   },
   "file_extension": ".py",
   "mimetype": "text/x-python",
   "name": "python",
   "nbconvert_exporter": "python",
   "pygments_lexer": "ipython3",
   "version": "3.8.12"
  }
 },
 "nbformat": 4,
 "nbformat_minor": 5
}
