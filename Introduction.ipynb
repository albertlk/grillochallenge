{
 "cells": [
  {
   "cell_type": "code",
   "execution_count": 1,
   "id": "5649eb42-be5c-449c-92a0-a2070d20cd0c",
   "metadata": {},
   "outputs": [
    {
     "data": {
      "text/plain": [
       "'/Users/albertkong/grillochallenge'"
      ]
     },
     "execution_count": 1,
     "metadata": {},
     "output_type": "execute_result"
    }
   ],
   "source": [
    "import os\n",
    "import obspy\n",
    "import matplotlib.pyplot as plt\n",
    "%matplotlib inline\n",
    "%run helperfunctions.ipynb\n",
    "os.getcwd()"
   ]
  },
  {
   "cell_type": "code",
   "execution_count": 2,
   "id": "b1f05584-98d7-420f-a50f-eb232e457dfe",
   "metadata": {
    "tags": []
   },
   "outputs": [],
   "source": [
    "os.chdir('lse_challenge/data')"
   ]
  },
  {
   "cell_type": "code",
   "execution_count": 3,
   "id": "1850e216-aa3a-43e4-b3d4-b2640fe636e0",
   "metadata": {},
   "outputs": [
    {
     "data": {
      "text/plain": [
       "'/Users/albertkong/grillochallenge/lse_challenge/data'"
      ]
     },
     "execution_count": 3,
     "metadata": {},
     "output_type": "execute_result"
    }
   ],
   "source": [
    "# np.random.seed(1)\n",
    "# Signal List\n",
    "os.chdir('signal')\n",
    "signals = []\n",
    "signal_files = os.listdir()\n",
    "for sigfile in signal_files:\n",
    "    tmp_trace = obspy.read(sigfile)\n",
    "    cutlength = np.random.randint(900)\n",
    "    trace_mat = [tmp_trace[0].data[cutlength:1000+cutlength], tmp_trace[1].data[cutlength:1000+cutlength], tmp_trace[2].data[cutlength:1000+cutlength]]\n",
    "    signals.append([trace_mat, cutlength, 1])\n",
    "    \n",
    "    # Negative Transformations\n",
    "    neg_mat = rot_xyz(trace_mat, 0, -np.pi, 0)\n",
    "    signals.append([neg_mat, cutlength, 1])\n",
    "    \n",
    "    # X, Y, and Z Rotations by Theta\n",
    "    theta = np.random.uniform()*2*np.pi\n",
    "    x_mat = rot_x(trace_mat, theta)\n",
    "    signals.append([x_mat, cutlength, 1])\n",
    "    y_mat = rot_y(trace_mat, theta)\n",
    "    signals.append([y_mat, cutlength, 1])\n",
    "    z_mat = rot_z(trace_mat, theta)\n",
    "    signals.append([z_mat, cutlength, 1])\n",
    "    \n",
    "    # General Rotation by alpha, beta, gamma\n",
    "    alpha = np.random.uniform()*2*np.pi\n",
    "    beta = np.random.uniform()*2*np.pi\n",
    "    gamma = np.random.uniform()*2*np.pi\n",
    "    rot_mat = rot_xyz(trace_mat, alpha, beta, gamma)\n",
    "    signals.append([rot_mat, cutlength, 1])\n",
    "    \n",
    "\n",
    "# Noise List\n",
    "os.chdir('../noise')\n",
    "noise_files = os.listdir()\n",
    "for noisefile in noise_files[0:2000]: #Need to remove index for actual dataset\n",
    "    tmp_trace = obspy.read(noisefile)\n",
    "    cutlength = np.random.randint(900)\n",
    "    trace_mat = [tmp_trace[0].data[cutlength:1000+cutlength], tmp_trace[1].data[cutlength:1000+cutlength], tmp_trace[2].data[cutlength:1000+cutlength]]\n",
    "    signals.append([trace_mat, cutlength, 0])\n",
    "    \n",
    "    # Negative Transformations\n",
    "    neg_mat = rot_xyz(trace_mat, 0, -np.pi, 0)\n",
    "    signals.append([neg_mat, cutlength, 1])\n",
    "    \n",
    "    # X, Y, and Z Rotations by Theta\n",
    "    theta = np.random.uniform()*2*np.pi\n",
    "    x_mat = rot_x(trace_mat, theta)\n",
    "    signals.append([x_mat, cutlength, 1])\n",
    "    y_mat = rot_y(trace_mat, theta)\n",
    "    signals.append([y_mat, cutlength, 1])\n",
    "    z_mat = rot_z(trace_mat, theta)\n",
    "    signals.append([z_mat, cutlength, 1])\n",
    "    \n",
    "    # General Rotation by alpha, beta, gamma\n",
    "    alpha = np.random.uniform()*2*np.pi\n",
    "    beta = np.random.uniform()*2*np.pi\n",
    "    gamma = np.random.uniform()*2*np.pi\n",
    "    rot_mat = rot_xyz(trace_mat, alpha, beta, gamma)\n",
    "    signals.append([rot_mat, cutlength, 1])\n",
    "    \n",
    "os.chdir('../')\n",
    "os.getcwd()"
   ]
  },
  {
   "cell_type": "code",
   "execution_count": 4,
   "id": "f7bb11d2-f99d-4818-a320-27d8a909c101",
   "metadata": {},
   "outputs": [],
   "source": [
    "sig_df = pd.DataFrame(signals, columns = [\"trmatrix_cut\", \"cutlength\", \"signal\"])"
   ]
  },
  {
   "cell_type": "code",
   "execution_count": 5,
   "id": "fb44c821-da80-42fb-a695-04f2e4d1e821",
   "metadata": {},
   "outputs": [
    {
     "data": {
      "text/html": [
       "<div>\n",
       "<style scoped>\n",
       "    .dataframe tbody tr th:only-of-type {\n",
       "        vertical-align: middle;\n",
       "    }\n",
       "\n",
       "    .dataframe tbody tr th {\n",
       "        vertical-align: top;\n",
       "    }\n",
       "\n",
       "    .dataframe thead th {\n",
       "        text-align: right;\n",
       "    }\n",
       "</style>\n",
       "<table border=\"1\" class=\"dataframe\">\n",
       "  <thead>\n",
       "    <tr style=\"text-align: right;\">\n",
       "      <th></th>\n",
       "      <th>trmatrix_cut</th>\n",
       "      <th>cutlength</th>\n",
       "      <th>signal</th>\n",
       "    </tr>\n",
       "  </thead>\n",
       "  <tbody>\n",
       "    <tr>\n",
       "      <th>19328</th>\n",
       "      <td>[[0.071, 0.083, 0.037, 0.109, 0.022, 0.0, 0.02...</td>\n",
       "      <td>392</td>\n",
       "      <td>1</td>\n",
       "    </tr>\n",
       "    <tr>\n",
       "      <th>19329</th>\n",
       "      <td>[[-0.106041889427, -0.0540010353771, -0.053029...</td>\n",
       "      <td>392</td>\n",
       "      <td>1</td>\n",
       "    </tr>\n",
       "    <tr>\n",
       "      <th>19330</th>\n",
       "      <td>[[-0.0441831966452, -0.0421441811894, -0.05455...</td>\n",
       "      <td>392</td>\n",
       "      <td>1</td>\n",
       "    </tr>\n",
       "    <tr>\n",
       "      <th>19331</th>\n",
       "      <td>[[0.0897360300176, 0.043712139117, 0.064995460...</td>\n",
       "      <td>392</td>\n",
       "      <td>1</td>\n",
       "    </tr>\n",
       "    <tr>\n",
       "      <th>19332</th>\n",
       "      <td>[[0.0110805402701, 0.0211055527764, -0.0488694...</td>\n",
       "      <td>443</td>\n",
       "      <td>0</td>\n",
       "    </tr>\n",
       "    <tr>\n",
       "      <th>19333</th>\n",
       "      <td>[[-0.0110805402701, -0.0211055527764, 0.048869...</td>\n",
       "      <td>443</td>\n",
       "      <td>1</td>\n",
       "    </tr>\n",
       "    <tr>\n",
       "      <th>19334</th>\n",
       "      <td>[[0.0110805402701, 0.0211055527764, -0.0488694...</td>\n",
       "      <td>443</td>\n",
       "      <td>1</td>\n",
       "    </tr>\n",
       "    <tr>\n",
       "      <th>19335</th>\n",
       "      <td>[[-0.0127697177271, 0.0118850045386, 0.0729146...</td>\n",
       "      <td>443</td>\n",
       "      <td>1</td>\n",
       "    </tr>\n",
       "    <tr>\n",
       "      <th>19336</th>\n",
       "      <td>[[0.00441693231877, -0.00487712072295, 0.05992...</td>\n",
       "      <td>443</td>\n",
       "      <td>1</td>\n",
       "    </tr>\n",
       "    <tr>\n",
       "      <th>19337</th>\n",
       "      <td>[[0.00856933140078, -0.0709607499884, -0.02658...</td>\n",
       "      <td>443</td>\n",
       "      <td>1</td>\n",
       "    </tr>\n",
       "  </tbody>\n",
       "</table>\n",
       "</div>"
      ],
      "text/plain": [
       "                                            trmatrix_cut  cutlength  signal\n",
       "19328  [[0.071, 0.083, 0.037, 0.109, 0.022, 0.0, 0.02...        392       1\n",
       "19329  [[-0.106041889427, -0.0540010353771, -0.053029...        392       1\n",
       "19330  [[-0.0441831966452, -0.0421441811894, -0.05455...        392       1\n",
       "19331  [[0.0897360300176, 0.043712139117, 0.064995460...        392       1\n",
       "19332  [[0.0110805402701, 0.0211055527764, -0.0488694...        443       0\n",
       "19333  [[-0.0110805402701, -0.0211055527764, 0.048869...        443       1\n",
       "19334  [[0.0110805402701, 0.0211055527764, -0.0488694...        443       1\n",
       "19335  [[-0.0127697177271, 0.0118850045386, 0.0729146...        443       1\n",
       "19336  [[0.00441693231877, -0.00487712072295, 0.05992...        443       1\n",
       "19337  [[0.00856933140078, -0.0709607499884, -0.02658...        443       1"
      ]
     },
     "execution_count": 5,
     "metadata": {},
     "output_type": "execute_result"
    }
   ],
   "source": [
    "sig_df.tail(10)"
   ]
  },
  {
   "cell_type": "code",
   "execution_count": null,
   "id": "9d98a27c-de24-4f8d-9d21-1ee41a3f3f8d",
   "metadata": {},
   "outputs": [],
   "source": []
  }
 ],
 "metadata": {
  "kernelspec": {
   "display_name": "Python 3 (ipykernel)",
   "language": "python",
   "name": "python3"
  },
  "language_info": {
   "codemirror_mode": {
    "name": "ipython",
    "version": 3
   },
   "file_extension": ".py",
   "mimetype": "text/x-python",
   "name": "python",
   "nbconvert_exporter": "python",
   "pygments_lexer": "ipython3",
   "version": "3.7.11"
  }
 },
 "nbformat": 4,
 "nbformat_minor": 5
}
