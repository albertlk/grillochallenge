{
 "cells": [
  {
   "cell_type": "code",
   "execution_count": 1,
   "id": "5649eb42-be5c-449c-92a0-a2070d20cd0c",
   "metadata": {},
   "outputs": [
    {
     "data": {
      "text/plain": [
       "'/Users/albertkong/grillochallenge'"
      ]
     },
     "execution_count": 1,
     "metadata": {},
     "output_type": "execute_result"
    }
   ],
   "source": [
    "import os\n",
    "import obspy\n",
    "import matplotlib.pyplot as plt\n",
    "import scipy\n",
    "%matplotlib inline\n",
    "%run helperfunctions.ipynb\n",
    "os.getcwd()"
   ]
  },
  {
   "cell_type": "code",
   "execution_count": 2,
   "id": "63dd155a-55ce-4813-8d76-03063725341b",
   "metadata": {
    "tags": []
   },
   "outputs": [],
   "source": [
    "os.chdir('lse_challenge/data')"
   ]
  },
  {
   "cell_type": "code",
   "execution_count": 3,
   "id": "dee2796b-13d9-4d4e-84a6-e40e8bd8c986",
   "metadata": {
    "tags": []
   },
   "outputs": [],
   "source": [
    "os.chdir('signal')\n",
    "signals = []\n",
    "signal_files = os.listdir()"
   ]
  },
  {
   "cell_type": "code",
   "execution_count": 4,
   "id": "c9b84412-6530-44b9-8af7-324f264f9279",
   "metadata": {
    "tags": []
   },
   "outputs": [],
   "source": [
    "trace = obspy.read(signal_files[0])"
   ]
  },
  {
   "cell_type": "code",
   "execution_count": 13,
   "id": "bb78ad11-8167-458c-b293-0204a2171899",
   "metadata": {
    "tags": []
   },
   "outputs": [],
   "source": [
    "sr = trace[0].stats.sampling_rate"
   ]
  },
  {
   "cell_type": "code",
   "execution_count": 16,
   "id": "94797de9-ac2c-4e45-a1f1-f08b80fb2df9",
   "metadata": {
    "tags": []
   },
   "outputs": [
    {
     "data": {
      "text/plain": [
       "2019-12-02T22:20:09.752000Z"
      ]
     },
     "execution_count": 16,
     "metadata": {},
     "output_type": "execute_result"
    }
   ],
   "source": [
    "trace[0].stats.starttime + 5/sr"
   ]
  },
  {
   "cell_type": "code",
   "execution_count": 15,
   "id": "65652413-2954-4640-a838-e872fb246298",
   "metadata": {
    "tags": []
   },
   "outputs": [
    {
     "data": {
      "text/plain": [
       "2019-12-02T22:20:09.592000Z"
      ]
     },
     "execution_count": 15,
     "metadata": {},
     "output_type": "execute_result"
    }
   ],
   "source": [
    "trace[0].stats.starttime"
   ]
  },
  {
   "cell_type": "code",
   "execution_count": 4,
   "id": "8d040373-6c33-46cd-9129-dff295d49be3",
   "metadata": {
    "tags": []
   },
   "outputs": [],
   "source": [
    "signal_files = random.sample(signal_files, 150)"
   ]
  },
  {
   "cell_type": "code",
   "execution_count": 3,
   "id": "1850e216-aa3a-43e4-b3d4-b2640fe636e0",
   "metadata": {},
   "outputs": [
    {
     "data": {
      "text/plain": [
       "'/Users/albertkong/grillochallenge/lse_challenge/data'"
      ]
     },
     "execution_count": 3,
     "metadata": {},
     "output_type": "execute_result"
    }
   ],
   "source": [
    "# Signal List\n",
    "os.chdir('signal')\n",
    "signals = []\n",
    "signal_files = os.listdir()\n",
    "for sigfile in signal_files[0:10]: #Need to remove index for actual dataset\n",
    "    tmp_trace = obspy.read(sigfile)\n",
    "    tmp_trace = tmp_trace.normalize()\n",
    "    cutlength = np.random.randint(900)\n",
    "    trace_mat = [tmp_trace[0].data[cutlength:1000+cutlength], tmp_trace[1].data[cutlength:1000+cutlength], tmp_trace[2].data[cutlength:1000+cutlength]]\n",
    "    mag = np.sqrt(trace_mat[0]**2 + trace_mat[1]**2 + trace_mat[2]**2)\n",
    "    signals.append([trace_mat[0], trace_mat[1], trace_mat[2], mag, cutlength, 1])\n",
    "    \n",
    "    # Negative Transformations\n",
    "    neg_mat = rot_xyz(trace_mat, 0, -np.pi, 0)\n",
    "    signals.append([neg_mat[0], neg_mat[1], neg_mat[2], mag, cutlength, 1])\n",
    "    \n",
    "    # X, Y, and Z Rotations by Theta\n",
    "    theta = np.random.uniform()*2*np.pi\n",
    "    x_mat = rot_x(trace_mat, theta)\n",
    "    signals.append([x_mat[0], x_mat[1], x_mat[2], mag, cutlength, 1])\n",
    "    y_mat = rot_y(trace_mat, theta)\n",
    "    signals.append([y_mat[0], y_mat[1], y_mat[2], mag, cutlength, 1])\n",
    "    z_mat = rot_z(trace_mat, theta)\n",
    "    signals.append([z_mat[0], z_mat[1], z_mat[2], mag, cutlength, 1])\n",
    "    \n",
    "    # General Rotation by alpha, beta, gamma\n",
    "    alpha = np.random.uniform()*2*np.pi\n",
    "    beta = np.random.uniform()*2*np.pi\n",
    "    gamma = np.random.uniform()*2*np.pi\n",
    "    rot_mat = rot_xyz(trace_mat, alpha, beta, gamma)\n",
    "    signals.append([rot_mat[0], rot_mat[1], rot_mat[2], mag, cutlength, 1])\n",
    "    \n",
    "\n",
    "# Noise List\n",
    "os.chdir('../noise')\n",
    "noise_files = os.listdir()\n",
    "for noisefile in noise_files[0:10]: #Need to remove index for actual dataset\n",
    "    tmp_trace = obspy.read(noisefile)\n",
    "    tmp_trace = tmp_trace.normalize()\n",
    "    cutlength = np.random.randint(900)\n",
    "    trace_mat = [tmp_trace[0].data[cutlength:1000+cutlength], tmp_trace[1].data[cutlength:1000+cutlength], tmp_trace[2].data[cutlength:1000+cutlength]]\n",
    "    mag = np.sqrt(trace_mat[0]**2 + trace_mat[1]**2 + trace_mat[2]**2)\n",
    "    signals.append([trace_mat[0], trace_mat[1], trace_mat[2], mag, cutlength, 0])\n",
    "    \n",
    "    # Negative Transformations\n",
    "    neg_mat = rot_xyz(trace_mat, 0, -np.pi, 0)\n",
    "    signals.append([neg_mat[0], neg_mat[1], neg_mat[2], mag, cutlength, 0])\n",
    "    \n",
    "    # X, Y, and Z Rotations by Theta\n",
    "    theta = np.random.uniform()*2*np.pi\n",
    "    x_mat = rot_x(trace_mat, theta)\n",
    "    signals.append([x_mat[0], x_mat[1], x_mat[2], mag, cutlength, 0])\n",
    "    y_mat = rot_y(trace_mat, theta)\n",
    "    signals.append([y_mat[0], y_mat[1], y_mat[2], mag, cutlength, 0])\n",
    "    z_mat = rot_z(trace_mat, theta)\n",
    "    signals.append([z_mat[0], z_mat[1], z_mat[2], mag, cutlength, 0])\n",
    "    \n",
    "    # General Rotation by alpha, beta, gamma\n",
    "    alpha = np.random.uniform()*2*np.pi\n",
    "    beta = np.random.uniform()*2*np.pi\n",
    "    gamma = np.random.uniform()*2*np.pi\n",
    "    rot_mat = rot_xyz(trace_mat, alpha, beta, gamma)\n",
    "    signals.append([rot_mat[0], rot_mat[1], rot_mat[2], mag, cutlength, 0])\n",
    "    \n",
    "os.chdir('../')\n",
    "os.getcwd()"
   ]
  },
  {
   "cell_type": "code",
   "execution_count": 4,
   "id": "f7bb11d2-f99d-4818-a320-27d8a909c101",
   "metadata": {},
   "outputs": [],
   "source": [
    "sig_df = pd.DataFrame(signals, columns = [\"tr_x\", \"tr_y\", \"tr_z\", \"magnitude\", \"cutlength\", \"signal\"])\n",
    "sig_df['p_arrival'] = 1000 - sig_df['cutlength']"
   ]
  },
  {
   "cell_type": "code",
   "execution_count": 5,
   "id": "fb44c821-da80-42fb-a695-04f2e4d1e821",
   "metadata": {},
   "outputs": [
    {
     "data": {
      "text/html": [
       "<div>\n",
       "<style scoped>\n",
       "    .dataframe tbody tr th:only-of-type {\n",
       "        vertical-align: middle;\n",
       "    }\n",
       "\n",
       "    .dataframe tbody tr th {\n",
       "        vertical-align: top;\n",
       "    }\n",
       "\n",
       "    .dataframe thead th {\n",
       "        text-align: right;\n",
       "    }\n",
       "</style>\n",
       "<table border=\"1\" class=\"dataframe\">\n",
       "  <thead>\n",
       "    <tr style=\"text-align: right;\">\n",
       "      <th></th>\n",
       "      <th>tr_x</th>\n",
       "      <th>tr_y</th>\n",
       "      <th>tr_z</th>\n",
       "      <th>magnitude</th>\n",
       "      <th>cutlength</th>\n",
       "      <th>signal</th>\n",
       "      <th>p_arrival</th>\n",
       "    </tr>\n",
       "  </thead>\n",
       "  <tbody>\n",
       "    <tr>\n",
       "      <th>110</th>\n",
       "      <td>[0.133333333333, 0.133333333333, 0.06666666666...</td>\n",
       "      <td>[0.140584686735, 0.354404494972, 0.13260111610...</td>\n",
       "      <td>[0.129865695629, 0.0877567047588, 0.1697792250...</td>\n",
       "      <td>[0.23325293315, 0.388692118603, 0.225504957159...</td>\n",
       "      <td>387</td>\n",
       "      <td>0</td>\n",
       "      <td>613</td>\n",
       "    </tr>\n",
       "    <tr>\n",
       "      <th>111</th>\n",
       "      <td>[-0.134319819862, -0.332412027396, -0.14687269...</td>\n",
       "      <td>[-0.100578841496, -0.0183505069995, -0.1412824...</td>\n",
       "      <td>[0.1620154729, 0.200616714158, 0.096540968668,...</td>\n",
       "      <td>[0.23325293315, 0.388692118603, 0.225504957159...</td>\n",
       "      <td>387</td>\n",
       "      <td>0</td>\n",
       "      <td>613</td>\n",
       "    </tr>\n",
       "    <tr>\n",
       "      <th>112</th>\n",
       "      <td>[-0.0732196298779, 0.00749060225044, -0.125922...</td>\n",
       "      <td>[-0.15010918338, -0.134381582677, -0.092458599...</td>\n",
       "      <td>[0.162828282828, 0.364646464646, 0.16262626262...</td>\n",
       "      <td>[0.23325293315, 0.388692118603, 0.225504957159...</td>\n",
       "      <td>387</td>\n",
       "      <td>0</td>\n",
       "      <td>613</td>\n",
       "    </tr>\n",
       "    <tr>\n",
       "      <th>113</th>\n",
       "      <td>[-0.122535461106, -0.0321810223754, -0.1445890...</td>\n",
       "      <td>[0.197315999323, 0.366900934301, 0.15262641417...</td>\n",
       "      <td>[-0.0214099978073, -0.124216139339, -0.0815577...</td>\n",
       "      <td>[0.23325293315, 0.388692118603, 0.225504957159...</td>\n",
       "      <td>387</td>\n",
       "      <td>0</td>\n",
       "      <td>613</td>\n",
       "    </tr>\n",
       "    <tr>\n",
       "      <th>114</th>\n",
       "      <td>[-0.499860192003, -0.425184080529, -0.35050796...</td>\n",
       "      <td>[-0.0778595032513, 0.177571687453, -0.07841381...</td>\n",
       "      <td>[-0.338307182843, 0.0161633682883, -0.77205708...</td>\n",
       "      <td>[0.608583653871, 0.46105798008, 0.851514359348...</td>\n",
       "      <td>896</td>\n",
       "      <td>0</td>\n",
       "      <td>104</td>\n",
       "    </tr>\n",
       "    <tr>\n",
       "      <th>115</th>\n",
       "      <td>[0.499860192003, 0.425184080529, 0.35050796905...</td>\n",
       "      <td>[-0.0778595032513, 0.177571687453, -0.07841381...</td>\n",
       "      <td>[0.338307182843, -0.0161633682883, 0.772057084...</td>\n",
       "      <td>[0.608583653871, 0.46105798008, 0.851514359348...</td>\n",
       "      <td>896</td>\n",
       "      <td>0</td>\n",
       "      <td>104</td>\n",
       "    </tr>\n",
       "    <tr>\n",
       "      <th>116</th>\n",
       "      <td>[-0.499860192003, -0.425184080529, -0.35050796...</td>\n",
       "      <td>[0.0444109381157, -0.175140728404, 0.002555807...</td>\n",
       "      <td>[0.344298592483, -0.0334467324823, 0.776024700...</td>\n",
       "      <td>[0.608583653871, 0.46105798008, 0.851514359348...</td>\n",
       "      <td>896</td>\n",
       "      <td>0</td>\n",
       "      <td>104</td>\n",
       "    </tr>\n",
       "    <tr>\n",
       "      <th>117</th>\n",
       "      <td>[0.530541046451, 0.421566872383, 0.42431112004...</td>\n",
       "      <td>[-0.0778595032513, 0.177571687453, -0.07841381...</td>\n",
       "      <td>[0.287816190552, -0.0576552592535, 0.734089947...</td>\n",
       "      <td>[0.608583653871, 0.46105798008, 0.851514359348...</td>\n",
       "      <td>896</td>\n",
       "      <td>0</td>\n",
       "      <td>104</td>\n",
       "    </tr>\n",
       "    <tr>\n",
       "      <th>118</th>\n",
       "      <td>[0.489853331929, 0.440507928705, 0.34116242428...</td>\n",
       "      <td>[0.12635674495, -0.13515166025, 0.112306558291...</td>\n",
       "      <td>[-0.338307182843, 0.0161633682883, -0.77205708...</td>\n",
       "      <td>[0.608583653871, 0.46105798008, 0.851514359348...</td>\n",
       "      <td>896</td>\n",
       "      <td>0</td>\n",
       "      <td>104</td>\n",
       "    </tr>\n",
       "    <tr>\n",
       "      <th>119</th>\n",
       "      <td>[0.143432066855, 0.172069942719, 0.35776045154...</td>\n",
       "      <td>[-0.24991704724, 0.168668894735, -0.6415809021...</td>\n",
       "      <td>[-0.536043632045, -0.393086758562, -0.43064847...</td>\n",
       "      <td>[0.608583653871, 0.46105798008, 0.851514359348...</td>\n",
       "      <td>896</td>\n",
       "      <td>0</td>\n",
       "      <td>104</td>\n",
       "    </tr>\n",
       "  </tbody>\n",
       "</table>\n",
       "</div>"
      ],
      "text/plain": [
       "                                                  tr_x  \\\n",
       "110  [0.133333333333, 0.133333333333, 0.06666666666...   \n",
       "111  [-0.134319819862, -0.332412027396, -0.14687269...   \n",
       "112  [-0.0732196298779, 0.00749060225044, -0.125922...   \n",
       "113  [-0.122535461106, -0.0321810223754, -0.1445890...   \n",
       "114  [-0.499860192003, -0.425184080529, -0.35050796...   \n",
       "115  [0.499860192003, 0.425184080529, 0.35050796905...   \n",
       "116  [-0.499860192003, -0.425184080529, -0.35050796...   \n",
       "117  [0.530541046451, 0.421566872383, 0.42431112004...   \n",
       "118  [0.489853331929, 0.440507928705, 0.34116242428...   \n",
       "119  [0.143432066855, 0.172069942719, 0.35776045154...   \n",
       "\n",
       "                                                  tr_y  \\\n",
       "110  [0.140584686735, 0.354404494972, 0.13260111610...   \n",
       "111  [-0.100578841496, -0.0183505069995, -0.1412824...   \n",
       "112  [-0.15010918338, -0.134381582677, -0.092458599...   \n",
       "113  [0.197315999323, 0.366900934301, 0.15262641417...   \n",
       "114  [-0.0778595032513, 0.177571687453, -0.07841381...   \n",
       "115  [-0.0778595032513, 0.177571687453, -0.07841381...   \n",
       "116  [0.0444109381157, -0.175140728404, 0.002555807...   \n",
       "117  [-0.0778595032513, 0.177571687453, -0.07841381...   \n",
       "118  [0.12635674495, -0.13515166025, 0.112306558291...   \n",
       "119  [-0.24991704724, 0.168668894735, -0.6415809021...   \n",
       "\n",
       "                                                  tr_z  \\\n",
       "110  [0.129865695629, 0.0877567047588, 0.1697792250...   \n",
       "111  [0.1620154729, 0.200616714158, 0.096540968668,...   \n",
       "112  [0.162828282828, 0.364646464646, 0.16262626262...   \n",
       "113  [-0.0214099978073, -0.124216139339, -0.0815577...   \n",
       "114  [-0.338307182843, 0.0161633682883, -0.77205708...   \n",
       "115  [0.338307182843, -0.0161633682883, 0.772057084...   \n",
       "116  [0.344298592483, -0.0334467324823, 0.776024700...   \n",
       "117  [0.287816190552, -0.0576552592535, 0.734089947...   \n",
       "118  [-0.338307182843, 0.0161633682883, -0.77205708...   \n",
       "119  [-0.536043632045, -0.393086758562, -0.43064847...   \n",
       "\n",
       "                                             magnitude  cutlength  signal  \\\n",
       "110  [0.23325293315, 0.388692118603, 0.225504957159...        387       0   \n",
       "111  [0.23325293315, 0.388692118603, 0.225504957159...        387       0   \n",
       "112  [0.23325293315, 0.388692118603, 0.225504957159...        387       0   \n",
       "113  [0.23325293315, 0.388692118603, 0.225504957159...        387       0   \n",
       "114  [0.608583653871, 0.46105798008, 0.851514359348...        896       0   \n",
       "115  [0.608583653871, 0.46105798008, 0.851514359348...        896       0   \n",
       "116  [0.608583653871, 0.46105798008, 0.851514359348...        896       0   \n",
       "117  [0.608583653871, 0.46105798008, 0.851514359348...        896       0   \n",
       "118  [0.608583653871, 0.46105798008, 0.851514359348...        896       0   \n",
       "119  [0.608583653871, 0.46105798008, 0.851514359348...        896       0   \n",
       "\n",
       "     p_arrival  \n",
       "110        613  \n",
       "111        613  \n",
       "112        613  \n",
       "113        613  \n",
       "114        104  \n",
       "115        104  \n",
       "116        104  \n",
       "117        104  \n",
       "118        104  \n",
       "119        104  "
      ]
     },
     "execution_count": 5,
     "metadata": {},
     "output_type": "execute_result"
    }
   ],
   "source": [
    "sig_df.tail(10)"
   ]
  },
  {
   "cell_type": "code",
   "execution_count": 12,
   "id": "ddf784f9-0e5d-4305-b20d-7ca948f1b182",
   "metadata": {},
   "outputs": [
    {
     "name": "stdout",
     "output_type": "stream",
     "text": [
      "346 : 1\n"
     ]
    }
   ],
   "source": [
    "ind = np.random.randint(119)\n",
    "print(sig_df['cutlength'][ind],\":\",sig_df['signal'][ind])\n",
    "#plot_sig(sig_df, ind)\n",
    "slice_df = sig_df.head(1)"
   ]
  },
  {
   "cell_type": "code",
   "execution_count": 13,
   "id": "9313e446-bb5d-4842-a164-8774248bf3ae",
   "metadata": {},
   "outputs": [],
   "source": [
    "p_arrive = sig_df['p_arrival'][ind]"
   ]
  },
  {
   "cell_type": "code",
   "execution_count": 67,
   "id": "68441b7e-88e2-4200-8fae-47d9b094e62c",
   "metadata": {},
   "outputs": [
    {
     "data": {
      "text/plain": [
       "[<matplotlib.lines.Line2D at 0x15cf36730>]"
      ]
     },
     "execution_count": 67,
     "metadata": {},
     "output_type": "execute_result"
    },
    {
     "data": {
      "image/png": "[encoded data removed]",
      "text/plain": [
       "<Figure size 432x288 with 1 Axes>"
      ]
     },
     "metadata": {
      "needs_background": "light"
     },
     "output_type": "display_data"
    }
   ],
   "source": [
    "plt.plot(sig_df['tr_x'][ind][p_arrive-200:p_arrive+200])"
   ]
  },
  {
   "cell_type": "code",
   "execution_count": 9,
   "id": "effebeb8-e0e2-44fc-84e7-d03f07ba925b",
   "metadata": {},
   "outputs": [
    {
     "name": "stdout",
     "output_type": "stream",
     "text": [
      "STA: 0.0298579815755\n",
      "LTA: 0.020091131584\n"
     ]
    }
   ],
   "source": [
    "print(\"STA:\", np.var(sig_df['tr_x'][ind][p_arrive-12:p_arrive+13]))\n",
    "print(\"LTA:\", np.var(sig_df['tr_x'][ind][p_arrive-25:p_arrive+25]))"
   ]
  },
  {
   "cell_type": "code",
   "execution_count": 10,
   "id": "366dc061-6d48-49a0-ba92-73ebd9f86202",
   "metadata": {},
   "outputs": [
    {
     "name": "stdout",
     "output_type": "stream",
     "text": [
      "STA: 0.0239542753534\n",
      "LTA: 0.0101940903279\n"
     ]
    }
   ],
   "source": [
    "print(\"STA:\", np.mean(sig_df['tr_x'][ind][p_arrive-12:p_arrive+13]))\n",
    "print(\"LTA:\", np.mean(sig_df['tr_x'][ind][p_arrive-25:p_arrive+25]))"
   ]
  },
  {
   "cell_type": "code",
   "execution_count": 11,
   "id": "1c9693f7-cd89-47c8-8b94-b40db97d2776",
   "metadata": {},
   "outputs": [],
   "source": [
    "diff_arr_st = np.diff(sig_df['tr_x'][ind][p_arrive-12:p_arrive+13])\n",
    "diff_arr_lt = np.diff(sig_df['tr_x'][ind][p_arrive-25:p_arrive+25])"
   ]
  },
  {
   "cell_type": "code",
   "execution_count": 12,
   "id": "6e70ec0a-137c-48b1-9d44-d9406b2e62b3",
   "metadata": {},
   "outputs": [
    {
     "data": {
      "text/plain": [
       "[<matplotlib.lines.Line2D at 0x15d58a910>]"
      ]
     },
     "execution_count": 12,
     "metadata": {},
     "output_type": "execute_result"
    },
    {
     "data": {
      "image/png": "[encoded data removed]",
      "text/plain": [
       "<Figure size 432x288 with 1 Axes>"
      ]
     },
     "metadata": {
      "needs_background": "light"
     },
     "output_type": "display_data"
    }
   ],
   "source": [
    "plt.plot(diff_arr_st)"
   ]
  },
  {
   "cell_type": "code",
   "execution_count": 17,
   "id": "e424a01f-c033-4e9c-b6a7-4eeb2ec46755",
   "metadata": {},
   "outputs": [
    {
     "data": {
      "text/plain": [
       "[<matplotlib.lines.Line2D at 0x162a104f0>]"
      ]
     },
     "execution_count": 17,
     "metadata": {},
     "output_type": "execute_result"
    },
    {
     "data": {
      "image/png": "[encoded data removed]",
      "text/plain": [
       "<Figure size 432x288 with 1 Axes>"
      ]
     },
     "metadata": {
      "needs_background": "light"
     },
     "output_type": "display_data"
    }
   ],
   "source": [
    "plt.plot(diff_arr_lt)"
   ]
  },
  {
   "cell_type": "code",
   "execution_count": 15,
   "id": "c983da24-7749-4028-96d0-7193fe3fe019",
   "metadata": {},
   "outputs": [],
   "source": [
    "#sig_df['trmatrix_cut'][ind][0][p_arrive-50:p_arrive+50]"
   ]
  },
  {
   "cell_type": "code",
   "execution_count": 42,
   "id": "15f5c7a0-23b7-4029-88c5-faa5324e5f7d",
   "metadata": {},
   "outputs": [],
   "source": [
    "features = []\n",
    "targets = []\n",
    "x = slice_df[\"tr_x\"]\n",
    "y = slice_df[\"tr_y\"]\n",
    "z = slice_df[\"tr_z\"]\n",
    "mag = slice_df[\"magnitude\"]\n",
    "signal = slice_df[\"signal\"]\n",
    "p_arrival = slice_df[\"p_arrival\"]\n",
    "d = {\"x\": x, \"y\":y, \"z\":z, \"magnitude\":mag}"
   ]
  },
  {
   "cell_type": "code",
   "execution_count": 43,
   "id": "77f93727-2442-4396-a54f-814a2e04c75a",
   "metadata": {},
   "outputs": [],
   "source": [
    "temp_df = pd.DataFrame(data = d)\n",
    "features.append(temp_df.values)\n",
    "targets.append(signal)"
   ]
  },
  {
   "cell_type": "code",
   "execution_count": 70,
   "id": "d56586e6-67c5-41e4-b110-251608723e71",
   "metadata": {},
   "outputs": [],
   "source": [
    "start_ind = 0\n",
    "end_ind = 50"
   ]
  },
  {
   "cell_type": "code",
   "execution_count": 73,
   "id": "446479df-ac5a-46d9-9eee-ccddcba1a383",
   "metadata": {},
   "outputs": [],
   "source": [
    "#temp_df[\"signal\"]"
   ]
  },
  {
   "cell_type": "code",
   "execution_count": 17,
   "id": "5066ed1a-f771-4fde-a556-212c63bf8d9b",
   "metadata": {},
   "outputs": [],
   "source": [
    "start_ind = 0\n",
    "end_ind = 50\n",
    "while end_ind < 1000:\n",
    "    \n",
    "    xwindow = temp_df[\"x\"][0][start_ind:end_ind]\n",
    "    ywindow = temp_df[\"y\"][0][start_ind:end_ind]\n",
    "    zwindow = temp_df[\"z\"][0][start_ind:end_ind]\n",
    "    magwindow = temp_df[\"magnitude\"][0][start_ind:end_ind]\n",
    "    stawindow = temp_df[\"STA\"][0][start_ind:end_ind]\n",
    "    ltawindow = temp_df[\"LTA\"][0][start_ind:end_ind]\n",
    "    stvwindow = temp_df[\"STV\"][0][start_ind:end_ind]\n",
    "    ltvwindow = temp_df[\"LTV\"][0][start_ind:end_ind]\n",
    "    \n",
    "    window_df = {\"start_index\": (start_ind + 49),\"x\": xwindow, \"y\":ywindow, \"z\":zwindow, \"magnitude\":magwindow,\n",
    "                \"STA\": stawindow, \"LTA\": ltawindow, \"STV\": stvwindow, \"LTV\": ltvwindow}\n",
    "    \n",
    "    features.append(window_df.values)\n",
    "    \n",
    "    if (p_arrival >= start_ind) and (p_arrival <= end_ind):\n",
    "        targets.append(1)\n",
    "    else:\n",
    "        targets.append(0)\n",
    "    \n",
    "    start_ind += 20\n",
    "    end_ind = start_ind + 50\n",
    "    "
   ]
  },
  {
   "cell_type": "code",
   "execution_count": null,
   "id": "b79391f8-164f-45eb-a4b1-fb35b0d5115f",
   "metadata": {},
   "outputs": [],
   "source": []
  },
  {
   "cell_type": "code",
   "execution_count": null,
   "id": "0d98e970-cf6e-4797-9bb6-53e8d0125b70",
   "metadata": {},
   "outputs": [],
   "source": []
  }
 ],
 "metadata": {
  "kernelspec": {
   "display_name": "Python 3 (ipykernel)",
   "language": "python",
   "name": "python3"
  },
  "language_info": {
   "codemirror_mode": {
    "name": "ipython",
    "version": 3
   },
   "file_extension": ".py",
   "mimetype": "text/x-python",
   "name": "python",
   "nbconvert_exporter": "python",
   "pygments_lexer": "ipython3",
   "version": "3.8.12"
  }
 },
 "nbformat": 4,
 "nbformat_minor": 5
}
