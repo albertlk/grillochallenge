{
 "cells": [
  {
   "cell_type": "code",
   "execution_count": 1,
   "id": "5649eb42-be5c-449c-92a0-a2070d20cd0c",
   "metadata": {},
   "outputs": [
    {
     "data": {
      "text/plain": [
       "'/Users/albertkong/Dropbox (Personal)/1. Academics - S/6. LSE - S/X. Practitioners Challenge/1. Code'"
      ]
     },
     "execution_count": 1,
     "metadata": {},
     "output_type": "execute_result"
    }
   ],
   "source": [
    "import os\n",
    "import obspy\n",
    "import matplotlib.pyplot as plt\n",
    "%matplotlib inline\n",
    "%run helperfunctions.ipynb\n",
    "os.getcwd()"
   ]
  },
  {
   "cell_type": "code",
   "execution_count": 2,
   "id": "b1f05584-98d7-420f-a50f-eb232e457dfe",
   "metadata": {
    "tags": []
   },
   "outputs": [],
   "source": [
    "os.chdir('lse_challenge/data')"
   ]
  },
  {
   "cell_type": "code",
   "execution_count": 3,
   "id": "1850e216-aa3a-43e4-b3d4-b2640fe636e0",
   "metadata": {},
   "outputs": [
    {
     "data": {
      "text/plain": [
       "'/Users/albertkong/Dropbox (Personal)/1. Academics - S/6. LSE - S/X. Practitioners Challenge/X. Data/lse_challenge/data'"
      ]
     },
     "execution_count": 3,
     "metadata": {},
     "output_type": "execute_result"
    }
   ],
   "source": [
    "# np.random.seed(1)\n",
    "# Signal List\n",
    "os.chdir('signal')\n",
    "signals = []\n",
    "signal_files = os.listdir()\n",
    "for sigfile in signal_files:\n",
    "    tmp_trace = obspy.read(sigfile)\n",
    "    cutlength = np.random.randint(900)\n",
    "    trace_mat = [tmp_trace[0].data[cutlength:1000+cutlength], tmp_trace[1].data[cutlength:1000+cutlength], tmp_trace[2].data[cutlength:1000+cutlength]]\n",
    "    signals.append([tmp_trace, trace_mat, cutlength, 1])\n",
    "    \n",
    "    \n",
    "\n",
    "# Noise List\n",
    "os.chdir('../noise')\n",
    "noise_files = os.listdir()\n",
    "for noisefile in noise_files[0:2000]: #Need to remove index for actual dataset\n",
    "    tmp_trace = obspy.read(noisefile)\n",
    "    cutlength = np.random.randint(900)\n",
    "    trace_mat = [tmp_trace[0].data[cutlength:1000+cutlength], tmp_trace[1].data[cutlength:1000+cutlength], tmp_trace[2].data[cutlength:1000+cutlength]]\n",
    "    signals.append([tmp_trace, trace_mat, cutlength, 0])\n",
    "    \n",
    "    \n",
    "\n",
    "os.chdir('../')\n",
    "os.getcwd()"
   ]
  },
  {
   "cell_type": "code",
   "execution_count": 4,
   "id": "f7bb11d2-f99d-4818-a320-27d8a909c101",
   "metadata": {},
   "outputs": [],
   "source": [
    "sig_df = pd.DataFrame(signals, columns = [\"tr\", \"trmatrix_cut\", \"cutlength\", \"signal\"])"
   ]
  },
  {
   "cell_type": "code",
   "execution_count": 5,
   "id": "fb44c821-da80-42fb-a695-04f2e4d1e821",
   "metadata": {},
   "outputs": [
    {
     "data": {
      "text/html": [
       "<div>\n",
       "<style scoped>\n",
       "    .dataframe tbody tr th:only-of-type {\n",
       "        vertical-align: middle;\n",
       "    }\n",
       "\n",
       "    .dataframe tbody tr th {\n",
       "        vertical-align: top;\n",
       "    }\n",
       "\n",
       "    .dataframe thead th {\n",
       "        text-align: right;\n",
       "    }\n",
       "</style>\n",
       "<table border=\"1\" class=\"dataframe\">\n",
       "  <thead>\n",
       "    <tr style=\"text-align: right;\">\n",
       "      <th></th>\n",
       "      <th>tr</th>\n",
       "      <th>trmatrix_cut</th>\n",
       "      <th>cutlength</th>\n",
       "      <th>signal</th>\n",
       "    </tr>\n",
       "  </thead>\n",
       "  <tbody>\n",
       "    <tr>\n",
       "      <th>0</th>\n",
       "      <td>[(0.0, 0.060020010005, 0.01004002001, 0.010060...</td>\n",
       "      <td>[[0.0607403701851, 0.0607603801901, 0.05078039...</td>\n",
       "      <td>37</td>\n",
       "      <td>1</td>\n",
       "    </tr>\n",
       "    <tr>\n",
       "      <th>1</th>\n",
       "      <td>[(0.0, -0.02995997999, -0.07991995998, -0.0798...</td>\n",
       "      <td>[[-0.0805952976488, -0.110555277639, -0.060515...</td>\n",
       "      <td>235</td>\n",
       "      <td>1</td>\n",
       "    </tr>\n",
       "    <tr>\n",
       "      <th>2</th>\n",
       "      <td>[(0.0, -0.04, 0.06, 0.07, 0.04, -0.01, -0.04, ...</td>\n",
       "      <td>[[-0.01, -0.02, -0.08, -0.06, 0.01, -0.04, -0....</td>\n",
       "      <td>72</td>\n",
       "      <td>1</td>\n",
       "    </tr>\n",
       "    <tr>\n",
       "      <th>3</th>\n",
       "      <td>[(0.0, 0.0100350175088, 0.0300700350175, -0.02...</td>\n",
       "      <td>[[0.116858429215, 0.0768934467234, 0.086928464...</td>\n",
       "      <td>767</td>\n",
       "      <td>1</td>\n",
       "    </tr>\n",
       "    <tr>\n",
       "      <th>4</th>\n",
       "      <td>[(0.0, -0.02, 0.02, -0.1, -0.08, -0.02, -0.07,...</td>\n",
       "      <td>[[-0.03, -0.02, -0.06, -0.09, -0.08, -0.07, -0...</td>\n",
       "      <td>715</td>\n",
       "      <td>1</td>\n",
       "    </tr>\n",
       "  </tbody>\n",
       "</table>\n",
       "</div>"
      ],
      "text/plain": [
       "                                                  tr  \\\n",
       "0  [(0.0, 0.060020010005, 0.01004002001, 0.010060...   \n",
       "1  [(0.0, -0.02995997999, -0.07991995998, -0.0798...   \n",
       "2  [(0.0, -0.04, 0.06, 0.07, 0.04, -0.01, -0.04, ...   \n",
       "3  [(0.0, 0.0100350175088, 0.0300700350175, -0.02...   \n",
       "4  [(0.0, -0.02, 0.02, -0.1, -0.08, -0.02, -0.07,...   \n",
       "\n",
       "                                        trmatrix_cut  cutlength  signal  \n",
       "0  [[0.0607403701851, 0.0607603801901, 0.05078039...         37       1  \n",
       "1  [[-0.0805952976488, -0.110555277639, -0.060515...        235       1  \n",
       "2  [[-0.01, -0.02, -0.08, -0.06, 0.01, -0.04, -0....         72       1  \n",
       "3  [[0.116858429215, 0.0768934467234, 0.086928464...        767       1  \n",
       "4  [[-0.03, -0.02, -0.06, -0.09, -0.08, -0.07, -0...        715       1  "
      ]
     },
     "execution_count": 5,
     "metadata": {},
     "output_type": "execute_result"
    }
   ],
   "source": [
    "trace_df.head()"
   ]
  },
  {
   "cell_type": "code",
   "execution_count": 6,
   "id": "fbbed7c4-1efb-4ed1-b740-d238ade408d9",
   "metadata": {},
   "outputs": [],
   "source": [
    "ind = 89\n",
    "tr = trace_df.iloc[ind][\"trmatrix_cut\"]"
   ]
  },
  {
   "cell_type": "code",
   "execution_count": 7,
   "id": "edeef89f-6ca9-4014-81b9-62338a158bdb",
   "metadata": {},
   "outputs": [],
   "source": [
    "theta = np.random.uniform()*2*np.pi"
   ]
  },
  {
   "cell_type": "code",
   "execution_count": 33,
   "id": "4ba2e1cf-6709-4771-92ce-9626fafff967",
   "metadata": {},
   "outputs": [
    {
     "data": {
      "text/plain": [
       "(array([ 0.01842371,  0.07142171, -0.01958029,  0.01841771,  0.02241571,\n",
       "         0.00741371, -0.03058829, -0.0685903 ,  0.0864077 ,  0.1054057 ]),\n",
       " array([ 0.01656728, -0.04349325, -0.00955378,  0.00138569,  0.00532516,\n",
       "         0.03526463, -0.0247959 , -0.05185643, -0.02091696,  0.03102251]),\n",
       " array([-0.00795798,  0.0260005 , -0.05704102,  0.03691746,  0.05587594,\n",
       "        -0.00116558,  0.1417929 ,  0.05575138, -0.05729015,  0.04766833]))"
      ]
     },
     "execution_count": 33,
     "metadata": {},
     "output_type": "execute_result"
    }
   ],
   "source": [
    "tr[0][0:10], tr[1][0:10], tr[2][0:10]"
   ]
  },
  {
   "cell_type": "code",
   "execution_count": 36,
   "id": "8bf667d1-038d-4c01-a956-7b662cfa3704",
   "metadata": {},
   "outputs": [
    {
     "data": {
      "text/plain": [
       "array([[-0.01842371, -0.07142171,  0.01958029, ..., -0.14842871,\n",
       "        -0.02742671, -0.01642471],\n",
       "       [ 0.01656728, -0.04349325, -0.00955378, ..., -0.06978139,\n",
       "        -0.16784192, -0.01390245],\n",
       "       [ 0.00795798, -0.0260005 ,  0.05704102, ...,  0.16635418,\n",
       "        -0.1196043 , -0.17256278]])"
      ]
     },
     "execution_count": 36,
     "metadata": {},
     "output_type": "execute_result"
    }
   ],
   "source": [
    "rot_xyz(tr, 0, -np.pi, 0)"
   ]
  },
  {
   "cell_type": "code",
   "execution_count": 16,
   "id": "de3ad123-915a-4b3c-86e1-c09d792e9444",
   "metadata": {},
   "outputs": [],
   "source": [
    "tr1 = rot_xyz(tr, theta, theta, theta)"
   ]
  },
  {
   "cell_type": "code",
   "execution_count": 19,
   "id": "485d7b8d-59e1-43c5-9589-9cd966513e43",
   "metadata": {},
   "outputs": [
    {
     "data": {
      "text/plain": [
       "[<matplotlib.lines.Line2D at 0x7fa2900a1e10>]"
      ]
     },
     "execution_count": 19,
     "metadata": {},
     "output_type": "execute_result"
    },
    {
     "data": {
      "image/png": "[encoded data removed]",
      "text/plain": [
       "<Figure size 432x288 with 1 Axes>"
      ]
     },
     "metadata": {
      "needs_background": "light"
     },
     "output_type": "display_data"
    }
   ],
   "source": [
    "plt.plot(tr1[2])"
   ]
  },
  {
   "cell_type": "code",
   "execution_count": 13,
   "id": "33c56824-27e5-4eb9-aa32-ffa4fe69037a",
   "metadata": {},
   "outputs": [
    {
     "data": {
      "text/plain": [
       "712"
      ]
     },
     "execution_count": 13,
     "metadata": {},
     "output_type": "execute_result"
    }
   ],
   "source": [
    "1000-trace_df.iloc[ind][\"cutlength\"]"
   ]
  },
  {
   "cell_type": "code",
   "execution_count": null,
   "id": "9d98a27c-de24-4f8d-9d21-1ee41a3f3f8d",
   "metadata": {},
   "outputs": [],
   "source": []
  }
 ],
 "metadata": {
  "kernelspec": {
   "display_name": "Python 3 (ipykernel)",
   "language": "python",
   "name": "python3"
  },
  "language_info": {
   "codemirror_mode": {
    "name": "ipython",
    "version": 3
   },
   "file_extension": ".py",
   "mimetype": "text/x-python",
   "name": "python",
   "nbconvert_exporter": "python",
   "pygments_lexer": "ipython3",
   "version": "3.7.11"
  }
 },
 "nbformat": 4,
 "nbformat_minor": 5
}
