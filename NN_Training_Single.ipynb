{
 "cells": [
  {
   "cell_type": "code",
   "execution_count": 1,
   "id": "a77e8cf1-e351-4be3-9e2a-68740b40c67a",
   "metadata": {},
   "outputs": [
    {
     "data": {
      "text/plain": [
       "'/Users/albertkong/grillochallenge'"
      ]
     },
     "execution_count": 1,
     "metadata": {},
     "output_type": "execute_result"
    }
   ],
   "source": [
    "import os\n",
    "import obspy\n",
    "from tensorflow.keras.models import Sequential, load_model\n",
    "from tensorflow.keras.layers import LSTM, Dense\n",
    "from pathlib import Path\n",
    "%matplotlib inline\n",
    "%run helperfunctions.ipynb\n",
    "os.getcwd()"
   ]
  },
  {
   "cell_type": "code",
   "execution_count": 2,
   "id": "4189c97c-e78c-4d7a-8ae6-8ca982b23ed3",
   "metadata": {},
   "outputs": [],
   "source": [
    "import warnings\n",
    "warnings.filterwarnings(\"ignore\")"
   ]
  },
  {
   "cell_type": "code",
   "execution_count": 3,
   "id": "0e5f2bd4-d9b1-4495-90fc-379b1f70244c",
   "metadata": {},
   "outputs": [],
   "source": [
    "os.chdir('lse_challenge/data')"
   ]
  },
  {
   "cell_type": "code",
   "execution_count": 4,
   "id": "41d92062-c060-45d9-b94c-f2eea34effeb",
   "metadata": {},
   "outputs": [],
   "source": [
    "# Signal List\n",
    "os.chdir('signal')\n",
    "signals = []\n",
    "signal_files = os.listdir()\n",
    "signal_files = random.sample(signal_files, 750) #Need to expand for final model\n",
    "for sigfile in signal_files: \n",
    "    tmp_trace = obspy.read(sigfile)\n",
    "    tmp_trace = tmp_trace.normalize()\n",
    "    cutlength = np.random.randint(16, 95) # Aligning with the [0.5 sec, 3 sec] range\n",
    "    trace_mat = [tmp_trace[0].data[cutlength:1000+cutlength], tmp_trace[1].data[cutlength:1000+cutlength], tmp_trace[2].data[cutlength:1000+cutlength]]\n",
    "    #mag = np.sqrt(trace_mat[0]**2 + trace_mat[1]**2 + trace_mat[2]**2)\n",
    "    #signals.append([trace_mat[0], trace_mat[1], trace_mat[2], mag, cutlength, 1])\n",
    "    signals.append([trace_mat[0], cutlength, 1])\n",
    "    signals.append([trace_mat[1], cutlength, 1])\n",
    "    signals.append([trace_mat[2], cutlength, 1])\n",
    "    \n",
    "    # Negative Transformations\n",
    "    neg_mat = rot_xyz(trace_mat, 0, -np.pi, 0)\n",
    "    #signals.append([neg_mat[0], neg_mat[1], neg_mat[2], mag, cutlength, 1])\n",
    "    signals.append([neg_mat[0], cutlength, 1])\n",
    "    signals.append([neg_mat[1], cutlength, 1])\n",
    "    signals.append([neg_mat[2], cutlength, 1])\n",
    "    \n",
    "    # X, Y, and Z Rotations by Theta\n",
    "    theta = np.random.uniform()*2*np.pi\n",
    "    x_mat = rot_x(trace_mat, theta)\n",
    "    #signals.append([x_mat[0], x_mat[1], x_mat[2], mag, cutlength, 1])\n",
    "    signals.append([x_mat[0], cutlength, 1])\n",
    "    signals.append([x_mat[1], cutlength, 1])\n",
    "    signals.append([x_mat[2], cutlength, 1])\n",
    "    y_mat = rot_y(trace_mat, theta)\n",
    "    #signals.append([y_mat[0], y_mat[1], y_mat[2], mag, cutlength, 1])\n",
    "    signals.append([y_mat[0], cutlength, 1])\n",
    "    signals.append([y_mat[1], cutlength, 1])\n",
    "    signals.append([y_mat[2], cutlength, 1])\n",
    "    z_mat = rot_z(trace_mat, theta)\n",
    "    #signals.append([z_mat[0], z_mat[1], z_mat[2], mag, cutlength, 1])\n",
    "    signals.append([z_mat[0], cutlength, 1])\n",
    "    signals.append([z_mat[1], cutlength, 1])\n",
    "    signals.append([z_mat[2], cutlength, 1])    \n",
    "    \n",
    "    # General Rotation by alpha, beta, gamma\n",
    "    alpha = np.random.uniform()*2*np.pi\n",
    "    beta = np.random.uniform()*2*np.pi\n",
    "    gamma = np.random.uniform()*2*np.pi\n",
    "    rot_mat = rot_xyz(trace_mat, alpha, beta, gamma)\n",
    "    #signals.append([rot_mat[0], rot_mat[1], rot_mat[2], mag, cutlength, 1])\n",
    "    signals.append([rot_mat[0], cutlength, 1])\n",
    "    signals.append([rot_mat[1], cutlength, 1])\n",
    "    signals.append([rot_mat[2], cutlength, 1])\n",
    "    \n",
    "\n",
    "# Noise List\n",
    "os.chdir('../noise')\n",
    "noise_files = os.listdir()\n",
    "noise_files = random.sample(noise_files, 2250) #Need to expand for final model\n",
    "for noisefile in noise_files: \n",
    "    tmp_trace = obspy.read(noisefile)\n",
    "    tmp_trace = tmp_trace.normalize()\n",
    "    cutlength = np.random.randint(16, 95) # Aligning with the [0.5 sec, 3 sec] range\n",
    "    trace_mat = [tmp_trace[0].data[cutlength:1000+cutlength], tmp_trace[1].data[cutlength:1000+cutlength], tmp_trace[2].data[cutlength:1000+cutlength]]\n",
    "    #mag = np.sqrt(trace_mat[0]**2 + trace_mat[1]**2 + trace_mat[2]**2)\n",
    "    #signals.append([trace_mat[0], trace_mat[1], trace_mat[2], mag, cutlength, 0])\n",
    "    signals.append([trace_mat[0], cutlength, 0])\n",
    "    signals.append([trace_mat[1], cutlength, 0])\n",
    "    signals.append([trace_mat[2], cutlength, 0])\n",
    "    \n",
    "    # Negative Transformations\n",
    "    neg_mat = rot_xyz(trace_mat, 0, -np.pi, 0)\n",
    "    #signals.append([neg_mat[0], neg_mat[1], neg_mat[2], mag, cutlength, 0])\n",
    "    signals.append([neg_mat[0], cutlength, 0])\n",
    "    signals.append([neg_mat[1], cutlength, 0])\n",
    "    signals.append([neg_mat[2], cutlength, 0])\n",
    "    \n",
    "    # X, Y, and Z Rotations by Theta\n",
    "    theta = np.random.uniform()*2*np.pi\n",
    "    x_mat = rot_x(trace_mat, theta)\n",
    "    #signals.append([x_mat[0], x_mat[1], x_mat[2], mag, cutlength, 0])\n",
    "    signals.append([x_mat[0], cutlength, 0])\n",
    "    signals.append([x_mat[1], cutlength, 0])\n",
    "    signals.append([x_mat[2], cutlength, 0])\n",
    "    y_mat = rot_y(trace_mat, theta)\n",
    "    #signals.append([y_mat[0], y_mat[1], y_mat[2], mag, cutlength, 0])\n",
    "    signals.append([y_mat[0], cutlength, 0])\n",
    "    signals.append([y_mat[1], cutlength, 0])\n",
    "    signals.append([y_mat[2], cutlength, 0])\n",
    "    z_mat = rot_z(trace_mat, theta)\n",
    "    #signals.append([z_mat[0], z_mat[1], z_mat[2], mag, cutlength, 0])\n",
    "    signals.append([z_mat[0], cutlength, 0])\n",
    "    signals.append([z_mat[1], cutlength, 0])\n",
    "    signals.append([z_mat[2], cutlength, 0])\n",
    "    \n",
    "    # General Rotation by alpha, beta, gamma\n",
    "    alpha = np.random.uniform()*2*np.pi\n",
    "    beta = np.random.uniform()*2*np.pi\n",
    "    gamma = np.random.uniform()*2*np.pi\n",
    "    rot_mat = rot_xyz(trace_mat, alpha, beta, gamma)\n",
    "    #signals.append([rot_mat[0], rot_mat[1], rot_mat[2], mag, cutlength, 0])\n",
    "    signals.append([rot_mat[0], cutlength, 0])\n",
    "    signals.append([rot_mat[1], cutlength, 0])\n",
    "    signals.append([rot_mat[2], cutlength, 0])\n",
    "    \n",
    "os.chdir('../')\n",
    "\n",
    "sig_df = pd.DataFrame(signals, columns = [\"trace\", \"cutlength\", \"signal\"])\n",
    "sig_df['p_arrival'] = 1000 - sig_df['cutlength']"
   ]
  },
  {
   "cell_type": "markdown",
   "id": "78506b6d-3e1f-457d-b993-ffe6e073bf9c",
   "metadata": {},
   "source": [
    "## Training Neural Network for dectecting whether or not the trace has a signal"
   ]
  },
  {
   "cell_type": "code",
   "execution_count": 5,
   "id": "c196e089-6ea2-4909-afad-c21359874b3d",
   "metadata": {},
   "outputs": [],
   "source": [
    "# For rolling averages\n",
    "roll_short = 25\n",
    "roll_long = 50\n",
    "\n",
    "# For location segments\n",
    "window_step = 30\n",
    "window_size = 30"
   ]
  },
  {
   "cell_type": "code",
   "execution_count": 6,
   "id": "b2aa2036-13c4-4850-b576-236e7fe8cd4f",
   "metadata": {},
   "outputs": [],
   "source": [
    "# Features and Targets for Identifying the Entire Trace\n",
    "\n",
    "sigfeatures = []\n",
    "sigtargets = []\n",
    "\n",
    "for index, slice_df in sig_df.iterrows():\n",
    "    # x = slice_df[\"tr_x\"]\n",
    "    # y = slice_df[\"tr_y\"]\n",
    "    # z = slice_df[\"tr_z\"]\n",
    "    tr = slice_df[\"trace\"]\n",
    "    mag = abs(tr)\n",
    "    # mag = slice_df[\"magnitude\"]\n",
    "    signal = slice_df[\"signal\"]\n",
    "    p_arrival = slice_df[\"p_arrival\"]\n",
    "    #d = {\"x\": x, \"y\":y, \"z\":z, \"magnitude\":mag}\n",
    "    d = {\"trace\": tr, \"magnitude\":mag}\n",
    "    \n",
    "    \n",
    "    temp_df = pd.DataFrame(data = d)\n",
    "    temp_df[\"STA\"] = temp_df[\"magnitude\"].rolling(roll_short).mean()\n",
    "    temp_df[\"LTA\"] = temp_df[\"magnitude\"].rolling(roll_long).mean()\n",
    "    temp_df[\"RAV\"] = temp_df[\"STA\"]/temp_df[\"LTA\"]\n",
    "    temp_df[\"STV\"] = temp_df[\"magnitude\"].rolling(roll_short).var()\n",
    "    temp_df[\"LTV\"] = temp_df[\"magnitude\"].rolling(roll_long).var()\n",
    "    \n",
    "    temp_df.dropna(inplace = True)\n",
    "    \n",
    "    sigfeatures.append(temp_df.values)\n",
    "    sigtargets.append(signal)"
   ]
  },
  {
   "cell_type": "code",
   "execution_count": 7,
   "id": "ac7ee267-ce0f-4cad-b20e-946da911eeca",
   "metadata": {},
   "outputs": [],
   "source": [
    "X_train_sig, X_test_sig, y_train_sig, y_test_sig = train_test_split(sigfeatures, sigtargets, test_size = 0.3)"
   ]
  },
  {
   "cell_type": "code",
   "execution_count": 8,
   "id": "d38fafac-6414-4e14-8cdd-50bcb5c54a99",
   "metadata": {},
   "outputs": [
    {
     "data": {
      "text/plain": [
       "(951, 7)"
      ]
     },
     "execution_count": 8,
     "metadata": {},
     "output_type": "execute_result"
    }
   ],
   "source": [
    "X_train_sig = np.array(X_train_sig)\n",
    "X_test_sig = np.array(X_test_sig)\n",
    "y_train_sig = np.array(y_train_sig)\n",
    "y_test_sig = np.array(y_test_sig)\n",
    "feature_shape = X_train_sig[0].shape\n",
    "feature_shape"
   ]
  },
  {
   "cell_type": "code",
   "execution_count": 9,
   "id": "dadb6968-d513-4a2a-8d5e-4d3e9d97e11c",
   "metadata": {},
   "outputs": [
    {
     "name": "stderr",
     "output_type": "stream",
     "text": [
      "2022-03-10 01:23:42.863626: I tensorflow/core/common_runtime/pluggable_device/pluggable_device_factory.cc:305] Could not identify NUMA node of platform GPU ID 0, defaulting to 0. Your kernel may not have been built with NUMA support.\n",
      "2022-03-10 01:23:42.870612: I tensorflow/core/common_runtime/pluggable_device/pluggable_device_factory.cc:271] Created TensorFlow device (/job:localhost/replica:0/task:0/device:GPU:0 with 0 MB memory) -> physical PluggableDevice (device: 0, name: METAL, pci bus id: <undefined>)\n"
     ]
    },
    {
     "name": "stdout",
     "output_type": "stream",
     "text": [
      "Metal device set to: Apple M1\n",
      "Model: \"sequential\"\n",
      "_________________________________________________________________\n",
      " Layer (type)                Output Shape              Param #   \n",
      "=================================================================\n",
      " lstm (LSTM)                 (None, 32)                5120      \n",
      "                                                                 \n",
      " dense (Dense)               (None, 1)                 33        \n",
      "                                                                 \n",
      "=================================================================\n",
      "Total params: 5,153\n",
      "Trainable params: 5,153\n",
      "Non-trainable params: 0\n",
      "_________________________________________________________________\n"
     ]
    }
   ],
   "source": [
    "signalmodel = Sequential()\n",
    "signalmodel.add(LSTM(32, input_shape = feature_shape))\n",
    "signalmodel.add(Dense(1, activation = 'sigmoid'))\n",
    "signalmodel.summary()"
   ]
  },
  {
   "cell_type": "code",
   "execution_count": 10,
   "id": "4832ed96-d723-4733-b604-9d24fa5c0a24",
   "metadata": {},
   "outputs": [
    {
     "name": "stdout",
     "output_type": "stream",
     "text": [
      "Epoch 1/30\n"
     ]
    },
    {
     "name": "stderr",
     "output_type": "stream",
     "text": [
      "2022-03-10 01:23:48.934449: W tensorflow/core/platform/profile_utils/cpu_utils.cc:128] Failed to get CPU frequency: 0 Hz\n",
      "2022-03-10 01:23:49.875963: I tensorflow/core/grappler/optimizers/custom_graph_optimizer_registry.cc:113] Plugin optimizer for device_type GPU is enabled.\n",
      "2022-03-10 01:23:50.196657: I tensorflow/core/grappler/optimizers/custom_graph_optimizer_registry.cc:113] Plugin optimizer for device_type GPU is enabled.\n",
      "2022-03-10 01:23:52.555604: I tensorflow/core/grappler/optimizers/custom_graph_optimizer_registry.cc:113] Plugin optimizer for device_type GPU is enabled.\n"
     ]
    },
    {
     "name": "stdout",
     "output_type": "stream",
     "text": [
      "788/788 [==============================] - 164s 196ms/step - loss: 0.1890 - accuracy: 0.9301\n",
      "Epoch 2/30\n",
      "788/788 [==============================] - 147s 186ms/step - loss: 0.0807 - accuracy: 0.9811\n",
      "Epoch 3/30\n",
      "788/788 [==============================] - 141s 179ms/step - loss: 0.1501 - accuracy: 0.9515\n",
      "Epoch 4/30\n",
      "788/788 [==============================] - 141s 179ms/step - loss: 0.0963 - accuracy: 0.9748\n",
      "Epoch 5/30\n",
      "788/788 [==============================] - 141s 179ms/step - loss: 0.1056 - accuracy: 0.9714\n",
      "Epoch 6/30\n",
      "788/788 [==============================] - 141s 179ms/step - loss: 0.0770 - accuracy: 0.9847\n",
      "Epoch 7/30\n",
      "788/788 [==============================] - 141s 179ms/step - loss: 0.0794 - accuracy: 0.9826\n",
      "Epoch 8/30\n",
      "788/788 [==============================] - 142s 180ms/step - loss: 0.1089 - accuracy: 0.9615\n",
      "Epoch 9/30\n",
      "788/788 [==============================] - 142s 180ms/step - loss: 0.3201 - accuracy: 0.8680\n",
      "Epoch 10/30\n",
      "788/788 [==============================] - 142s 180ms/step - loss: 0.0646 - accuracy: 0.9844\n",
      "Epoch 11/30\n",
      "788/788 [==============================] - 143s 181ms/step - loss: 0.3461 - accuracy: 0.8465\n",
      "Epoch 12/30\n",
      "788/788 [==============================] - 143s 181ms/step - loss: 0.2479 - accuracy: 0.9022\n",
      "Epoch 13/30\n",
      "788/788 [==============================] - 143s 181ms/step - loss: 0.1476 - accuracy: 0.9479\n",
      "Epoch 14/30\n",
      "788/788 [==============================] - 144s 182ms/step - loss: 0.1397 - accuracy: 0.9386\n",
      "Epoch 15/30\n",
      "788/788 [==============================] - 144s 183ms/step - loss: 0.0707 - accuracy: 0.9851\n",
      "Epoch 16/30\n",
      "788/788 [==============================] - 145s 184ms/step - loss: 0.3758 - accuracy: 0.8340\n",
      "Epoch 17/30\n",
      "788/788 [==============================] - 145s 184ms/step - loss: 0.0927 - accuracy: 0.9835\n",
      "Epoch 18/30\n",
      "788/788 [==============================] - 146s 185ms/step - loss: 0.1762 - accuracy: 0.9555\n",
      "Epoch 19/30\n",
      "788/788 [==============================] - 148s 187ms/step - loss: 0.0866 - accuracy: 0.9792\n",
      "Epoch 20/30\n",
      "788/788 [==============================] - 146s 186ms/step - loss: 0.1745 - accuracy: 0.9379\n",
      "Epoch 21/30\n",
      "788/788 [==============================] - 147s 186ms/step - loss: 0.1734 - accuracy: 0.9566\n",
      "Epoch 22/30\n",
      "788/788 [==============================] - 145s 184ms/step - loss: 0.0756 - accuracy: 0.9848\n",
      "Epoch 23/30\n",
      "788/788 [==============================] - 145s 185ms/step - loss: 0.0870 - accuracy: 0.9806\n",
      "Epoch 24/30\n",
      "788/788 [==============================] - 145s 184ms/step - loss: 0.0889 - accuracy: 0.9762\n",
      "Epoch 25/30\n",
      "788/788 [==============================] - 145s 183ms/step - loss: 0.1300 - accuracy: 0.9571\n",
      "Epoch 26/30\n",
      "788/788 [==============================] - 146s 185ms/step - loss: 0.0892 - accuracy: 0.9760\n",
      "Epoch 27/30\n",
      "788/788 [==============================] - 145s 184ms/step - loss: 0.0732 - accuracy: 0.9821\n",
      "Epoch 28/30\n",
      "788/788 [==============================] - 145s 184ms/step - loss: 0.0506 - accuracy: 0.9866\n",
      "Epoch 29/30\n",
      "788/788 [==============================] - 144s 183ms/step - loss: 0.0561 - accuracy: 0.9859\n",
      "Epoch 30/30\n",
      "788/788 [==============================] - 146s 185ms/step - loss: 0.0421 - accuracy: 0.9888\n"
     ]
    },
    {
     "data": {
      "text/plain": [
       "<keras.callbacks.History at 0x283871a30>"
      ]
     },
     "execution_count": 10,
     "metadata": {},
     "output_type": "execute_result"
    }
   ],
   "source": [
    "signalmodel.compile(loss = 'binary_crossentropy', optimizer = \"adam\", metrics = ['accuracy'])\n",
    "signalmodel.fit(X_train_sig, y_train_sig, epochs = 30)"
   ]
  },
  {
   "cell_type": "code",
   "execution_count": 11,
   "id": "5ef874d6-3d0b-4d05-9c33-9e1f819a79b7",
   "metadata": {},
   "outputs": [
    {
     "name": "stderr",
     "output_type": "stream",
     "text": [
      "2022-03-10 02:36:11.207778: I tensorflow/core/grappler/optimizers/custom_graph_optimizer_registry.cc:113] Plugin optimizer for device_type GPU is enabled.\n",
      "2022-03-10 02:36:11.296201: I tensorflow/core/grappler/optimizers/custom_graph_optimizer_registry.cc:113] Plugin optimizer for device_type GPU is enabled.\n"
     ]
    },
    {
     "name": "stdout",
     "output_type": "stream",
     "text": [
      "Loss: 0.03033197671175003, Accuracy: 0.9912037253379822\n"
     ]
    }
   ],
   "source": [
    "model_loss_sig, model_accuracy_sig = signalmodel.evaluate(X_test_sig, y_test_sig, verbose = 0)\n",
    "print(f\"Loss: {model_loss_sig}, Accuracy: {model_accuracy_sig}\")"
   ]
  },
  {
   "cell_type": "code",
   "execution_count": 12,
   "id": "22072db8-c01a-451d-af16-cfacfe6c68a4",
   "metadata": {},
   "outputs": [
    {
     "name": "stderr",
     "output_type": "stream",
     "text": [
      "2022-03-10 02:36:56.146847: I tensorflow/core/grappler/optimizers/custom_graph_optimizer_registry.cc:113] Plugin optimizer for device_type GPU is enabled.\n",
      "2022-03-10 02:36:56.182435: I tensorflow/core/grappler/optimizers/custom_graph_optimizer_registry.cc:113] Plugin optimizer for device_type GPU is enabled.\n"
     ]
    }
   ],
   "source": [
    "predictions_test_sig = signalmodel.predict(X_test_sig)\n",
    "predictions_train_sig = signalmodel.predict(X_train_sig)"
   ]
  },
  {
   "cell_type": "code",
   "execution_count": 13,
   "id": "5977ad30-17e7-42fb-a30a-6a16b75e98e7",
   "metadata": {},
   "outputs": [
    {
     "name": "stdout",
     "output_type": "stream",
     "text": [
      "F1 Score: 0.9841934869548657\n"
     ]
    }
   ],
   "source": [
    "class_test_sig = predictions_test_sig > 0.2\n",
    "f1_score_test_sig = sklearn.metrics.f1_score(y_test_sig, class_test_sig)\n",
    "print(f\"F1 Score: {f1_score_test_sig}\")"
   ]
  },
  {
   "cell_type": "code",
   "execution_count": 14,
   "id": "07cf87c3-55a1-48e8-b2e3-3b45219bfbcc",
   "metadata": {
    "tags": []
   },
   "outputs": [
    {
     "name": "stdout",
     "output_type": "stream",
     "text": [
      "F1 Score: 0.9810967036400564\n"
     ]
    }
   ],
   "source": [
    "class_train_sig = predictions_train_sig > 0.2\n",
    "f1_score_train_sig = sklearn.metrics.f1_score(y_train_sig, class_train_sig)\n",
    "print(f\"F1 Score: {f1_score_train_sig}\")"
   ]
  },
  {
   "cell_type": "code",
   "execution_count": 15,
   "id": "335da0df-1324-4bb9-9874-ffab71362c73",
   "metadata": {},
   "outputs": [
    {
     "data": {
      "text/plain": [
       "(8133, 48, 35, 2584)"
      ]
     },
     "execution_count": 15,
     "metadata": {},
     "output_type": "execute_result"
    }
   ],
   "source": [
    "tn, fp, fn, tp = sklearn.metrics.confusion_matrix(y_test_sig, class_test_sig).ravel()\n",
    "(tn, fp, fn, tp)"
   ]
  },
  {
   "cell_type": "code",
   "execution_count": 16,
   "id": "372048bf-458f-4e08-a3ba-36ece40c9485",
   "metadata": {},
   "outputs": [
    {
     "data": {
      "text/plain": [
       "'/Users/albertkong/grillochallenge/lse_challenge/data'"
      ]
     },
     "execution_count": 16,
     "metadata": {},
     "output_type": "execute_result"
    }
   ],
   "source": [
    "# Exporting Model\n",
    "os.getcwd()"
   ]
  },
  {
   "cell_type": "code",
   "execution_count": 17,
   "id": "ca83c3de-4ab9-4667-bda1-5c896a34498a",
   "metadata": {},
   "outputs": [],
   "source": [
    "# Only run if we need to get to root directory\n",
    "os.chdir('../../')"
   ]
  },
  {
   "cell_type": "code",
   "execution_count": 18,
   "id": "68252471-f2ef-41d8-866f-ed8994ce2884",
   "metadata": {},
   "outputs": [
    {
     "name": "stderr",
     "output_type": "stream",
     "text": [
      "2022-03-10 02:39:16.557449: W tensorflow/python/util/util.cc:368] Sets are not currently considered sequences, but this may change in the future, so consider avoiding using them.\n",
      "WARNING:absl:Found untraced functions such as lstm_cell_layer_call_fn, lstm_cell_layer_call_and_return_conditional_losses while saving (showing 2 of 2). These functions will not be directly callable after loading.\n"
     ]
    },
    {
     "name": "stdout",
     "output_type": "stream",
     "text": [
      "INFO:tensorflow:Assets written to: signalmodel/assets\n"
     ]
    },
    {
     "name": "stderr",
     "output_type": "stream",
     "text": [
      "INFO:tensorflow:Assets written to: signalmodel/assets\n",
      "WARNING:absl:<keras.layers.recurrent.LSTMCell object at 0x17669adf0> has the same name 'LSTMCell' as a built-in Keras object. Consider renaming <class 'keras.layers.recurrent.LSTMCell'> to avoid naming conflicts when loading with `tf.keras.models.load_model`. If renaming is not possible, pass the object in the `custom_objects` parameter of the load function.\n"
     ]
    }
   ],
   "source": [
    "# Exporting signal model\n",
    "signalmodel.save('signalmodel')"
   ]
  },
  {
   "cell_type": "markdown",
   "id": "9e448cf9-f903-4b53-978d-87c87233e094",
   "metadata": {},
   "source": [
    "## Training Neural Network for dectecting where in the trace the p-wave starts"
   ]
  },
  {
   "cell_type": "code",
   "execution_count": 19,
   "id": "767a9561-0de7-4e40-8318-dbe3fa039ce5",
   "metadata": {},
   "outputs": [],
   "source": [
    "# Features and Targets for Identifying Windows of Trace\n",
    "locfeatures = []\n",
    "loctargets = []\n",
    "\n",
    "for index, slice_df in sig_df.iterrows():\n",
    "    \n",
    "    signal = slice_df[\"signal\"]\n",
    "    \n",
    "    if signal == 1:\n",
    "        # x = slice_df[\"tr_x\"]\n",
    "        # y = slice_df[\"tr_y\"]\n",
    "        # z = slice_df[\"tr_z\"]\n",
    "        tr = slice_df[\"trace\"]\n",
    "        mag = abs(tr)\n",
    "        # mag = slice_df[\"magnitude\"]\n",
    "\n",
    "        p_arrival = slice_df[\"p_arrival\"]\n",
    "        d = {\"trace\":tr, \"magnitude\":mag}\n",
    "\n",
    "        temp_df = pd.DataFrame(data = d)\n",
    "        temp_df[\"STA\"] = temp_df[\"magnitude\"].rolling(roll_short).mean()\n",
    "        temp_df[\"LTA\"] = temp_df[\"magnitude\"].rolling(roll_long).mean()\n",
    "        temp_df[\"RAV\"] = temp_df[\"STA\"]/temp_df[\"LTA\"]\n",
    "        temp_df[\"STV\"] = temp_df[\"magnitude\"].rolling(roll_short).var()\n",
    "        temp_df[\"LTV\"] = temp_df[\"magnitude\"].rolling(roll_long).var()\n",
    "\n",
    "        temp_df.dropna(inplace = True)\n",
    "\n",
    "        start_ind = 0\n",
    "        end_ind = start_ind + window_size\n",
    "\n",
    "\n",
    "\n",
    "        while end_ind < (1000 - roll_long):\n",
    "            # xwindow = temp_df[\"x\"].iloc[start_ind:end_ind]\n",
    "            # ywindow = temp_df[\"y\"].iloc[start_ind:end_ind]\n",
    "            # zwindow = temp_df[\"z\"].iloc[start_ind:end_ind]\n",
    "            trwindow = temp_df[\"trace\"].iloc[start_ind:end_ind]\n",
    "            magwindow = temp_df[\"magnitude\"].iloc[start_ind:end_ind]\n",
    "            # stawindow = temp_df[\"STA\"].iloc[start_ind:end_ind]\n",
    "            # ltawindow = temp_df[\"LTA\"].iloc[start_ind:end_ind]\n",
    "            ravwindow = temp_df[\"RAV\"].iloc[start_ind:end_ind]\n",
    "            stvwindow = temp_df[\"STV\"].iloc[start_ind:end_ind]\n",
    "            ltvwindow = temp_df[\"LTV\"].iloc[start_ind:end_ind]\n",
    "\n",
    "            window_data = {\"trace\": trwindow, \"magnitude\": magwindow,\n",
    "                        \"RAV\": ravwindow, \"STV\": stvwindow, \"LTV\": ltvwindow}\n",
    "            window_df = pd.DataFrame(data = window_data)\n",
    "\n",
    "            locfeatures.append(window_df.values)\n",
    "\n",
    "            if ((p_arrival-roll_long) >= start_ind) and ((p_arrival-roll_long) <= end_ind):\n",
    "                loctargets.append(1)\n",
    "            else:\n",
    "                loctargets.append(0)\n",
    "\n",
    "            start_ind += window_step\n",
    "            end_ind = start_ind + window_size"
   ]
  },
  {
   "cell_type": "code",
   "execution_count": 20,
   "id": "0b5e490b-72fc-4814-a7a4-5ae9cc8deabd",
   "metadata": {},
   "outputs": [],
   "source": [
    "# For Windows of Trace\n",
    "X_train_loc, X_test_loc, y_train_loc, y_test_loc = train_test_split(locfeatures, loctargets, test_size = 0.3)"
   ]
  },
  {
   "cell_type": "code",
   "execution_count": 21,
   "id": "0a1e3788-b097-4f15-8f1a-fcaa6654a789",
   "metadata": {},
   "outputs": [
    {
     "data": {
      "text/plain": [
       "(30, 5)"
      ]
     },
     "execution_count": 21,
     "metadata": {},
     "output_type": "execute_result"
    }
   ],
   "source": [
    "X_train_loc = np.array(X_train_loc)\n",
    "X_test_loc = np.array(X_test_loc)\n",
    "y_train_loc = np.array(y_train_loc)\n",
    "y_test_loc = np.array(y_test_loc)\n",
    "feature_shape = X_train_loc[0].shape\n",
    "feature_shape"
   ]
  },
  {
   "cell_type": "code",
   "execution_count": 22,
   "id": "9ed06870-7602-490e-9379-b8c2fced4e69",
   "metadata": {},
   "outputs": [
    {
     "name": "stdout",
     "output_type": "stream",
     "text": [
      "Model: \"sequential_1\"\n",
      "_________________________________________________________________\n",
      " Layer (type)                Output Shape              Param #   \n",
      "=================================================================\n",
      " lstm_1 (LSTM)               (None, 32)                4864      \n",
      "                                                                 \n",
      " dense_1 (Dense)             (None, 1)                 33        \n",
      "                                                                 \n",
      "=================================================================\n",
      "Total params: 4,897\n",
      "Trainable params: 4,897\n",
      "Non-trainable params: 0\n",
      "_________________________________________________________________\n"
     ]
    }
   ],
   "source": [
    "locmodel = Sequential()\n",
    "locmodel.add(LSTM(32, input_shape = feature_shape))\n",
    "locmodel.add(Dense(1, activation = 'sigmoid'))\n",
    "locmodel.summary()"
   ]
  },
  {
   "cell_type": "code",
   "execution_count": 23,
   "id": "12ddc60a-9e49-496f-a55b-05bbc707eb08",
   "metadata": {
    "tags": []
   },
   "outputs": [
    {
     "name": "stdout",
     "output_type": "stream",
     "text": [
      "Epoch 1/15\n"
     ]
    },
    {
     "name": "stderr",
     "output_type": "stream",
     "text": [
      "2022-03-10 02:40:27.522054: I tensorflow/core/grappler/optimizers/custom_graph_optimizer_registry.cc:113] Plugin optimizer for device_type GPU is enabled.\n",
      "2022-03-10 02:40:27.687494: I tensorflow/core/grappler/optimizers/custom_graph_optimizer_registry.cc:113] Plugin optimizer for device_type GPU is enabled.\n"
     ]
    },
    {
     "name": "stdout",
     "output_type": "stream",
     "text": [
      "   5/6104 [..............................] - ETA: 1:34 - loss: 0.7623 - accuracy: 0.0500       "
     ]
    },
    {
     "name": "stderr",
     "output_type": "stream",
     "text": [
      "2022-03-10 02:40:27.801106: I tensorflow/core/grappler/optimizers/custom_graph_optimizer_registry.cc:113] Plugin optimizer for device_type GPU is enabled.\n"
     ]
    },
    {
     "name": "stdout",
     "output_type": "stream",
     "text": [
      "6104/6104 [==============================] - 79s 13ms/step - loss: 0.1078 - accuracy: 0.9704\n",
      "Epoch 2/15\n",
      "6104/6104 [==============================] - 78s 13ms/step - loss: 0.0957 - accuracy: 0.9747\n",
      "Epoch 3/15\n",
      "6104/6104 [==============================] - 78s 13ms/step - loss: 0.0917 - accuracy: 0.9759\n",
      "Epoch 4/15\n",
      "6104/6104 [==============================] - 79s 13ms/step - loss: 0.0890 - accuracy: 0.9765\n",
      "Epoch 5/15\n",
      "6104/6104 [==============================] - 79s 13ms/step - loss: 0.0876 - accuracy: 0.9770\n",
      "Epoch 6/15\n",
      "6104/6104 [==============================] - 78s 13ms/step - loss: 0.0862 - accuracy: 0.9775\n",
      "Epoch 7/15\n",
      "6104/6104 [==============================] - 78s 13ms/step - loss: 0.0852 - accuracy: 0.9779\n",
      "Epoch 8/15\n",
      "6104/6104 [==============================] - 78s 13ms/step - loss: 0.0841 - accuracy: 0.9781\n",
      "Epoch 9/15\n",
      "6104/6104 [==============================] - 78s 13ms/step - loss: 0.0834 - accuracy: 0.9785\n",
      "Epoch 10/15\n",
      "6104/6104 [==============================] - 78s 13ms/step - loss: 0.0826 - accuracy: 0.9789\n",
      "Epoch 11/15\n",
      "6104/6104 [==============================] - 78s 13ms/step - loss: 0.0817 - accuracy: 0.9789\n",
      "Epoch 12/15\n",
      "6104/6104 [==============================] - 77s 13ms/step - loss: 0.0813 - accuracy: 0.9791\n",
      "Epoch 13/15\n",
      "6104/6104 [==============================] - 78s 13ms/step - loss: 0.0805 - accuracy: 0.9794\n",
      "Epoch 14/15\n",
      "6104/6104 [==============================] - 78s 13ms/step - loss: 0.0801 - accuracy: 0.9794\n",
      "Epoch 15/15\n",
      "6104/6104 [==============================] - 78s 13ms/step - loss: 0.0794 - accuracy: 0.9798\n"
     ]
    },
    {
     "data": {
      "text/plain": [
       "<keras.callbacks.History at 0x3e37f6730>"
      ]
     },
     "execution_count": 23,
     "metadata": {},
     "output_type": "execute_result"
    }
   ],
   "source": [
    "locmodel.compile(loss = 'binary_crossentropy', optimizer = \"adam\", metrics = ['accuracy'])\n",
    "locmodel.fit(X_train_loc, y_train_loc, epochs = 15)"
   ]
  },
  {
   "cell_type": "code",
   "execution_count": 24,
   "id": "c11df07e-d09f-45cc-b16b-e78fad661b12",
   "metadata": {},
   "outputs": [
    {
     "name": "stderr",
     "output_type": "stream",
     "text": [
      "2022-03-10 03:00:02.160294: I tensorflow/core/grappler/optimizers/custom_graph_optimizer_registry.cc:113] Plugin optimizer for device_type GPU is enabled.\n",
      "2022-03-10 03:00:02.248086: I tensorflow/core/grappler/optimizers/custom_graph_optimizer_registry.cc:113] Plugin optimizer for device_type GPU is enabled.\n"
     ]
    },
    {
     "name": "stdout",
     "output_type": "stream",
     "text": [
      "Loss: 0.07991056889295578, Accuracy: 0.9800597429275513\n"
     ]
    }
   ],
   "source": [
    "model_loss_loc, model_accuracy_loc = locmodel.evaluate(X_test_loc, y_test_loc, verbose = 0)\n",
    "print(f\"Loss: {model_loss_loc}, Accuracy: {model_accuracy_loc}\")"
   ]
  },
  {
   "cell_type": "code",
   "execution_count": 25,
   "id": "c3980d52-f611-4829-b379-2283eddc104c",
   "metadata": {},
   "outputs": [
    {
     "name": "stderr",
     "output_type": "stream",
     "text": [
      "2022-03-10 03:00:19.388858: I tensorflow/core/grappler/optimizers/custom_graph_optimizer_registry.cc:113] Plugin optimizer for device_type GPU is enabled.\n",
      "2022-03-10 03:00:19.423712: I tensorflow/core/grappler/optimizers/custom_graph_optimizer_registry.cc:113] Plugin optimizer for device_type GPU is enabled.\n"
     ]
    }
   ],
   "source": [
    "predictions_test_loc = locmodel.predict(X_test_loc)\n",
    "predictions_train_loc = locmodel.predict(X_train_loc)"
   ]
  },
  {
   "cell_type": "code",
   "execution_count": 26,
   "id": "224218b3-397a-454c-8f5b-5dd98186454e",
   "metadata": {},
   "outputs": [
    {
     "name": "stdout",
     "output_type": "stream",
     "text": [
      "F1 Score: 0.6390111041273832\n"
     ]
    }
   ],
   "source": [
    "class_test_loc = predictions_test_loc > 0.25\n",
    "f1_score_test_loc = sklearn.metrics.f1_score(y_test_loc, class_test_loc)\n",
    "print(f\"F1 Score: {f1_score_test_loc}\")"
   ]
  },
  {
   "cell_type": "code",
   "execution_count": 27,
   "id": "3b88990d-3b7d-4386-bc2b-0c052d144a4b",
   "metadata": {},
   "outputs": [
    {
     "name": "stdout",
     "output_type": "stream",
     "text": [
      "F1 Score: 0.6324833196234346\n"
     ]
    }
   ],
   "source": [
    "class_train_loc = predictions_train_loc > 0.25\n",
    "f1_score_train_loc = sklearn.metrics.f1_score(y_train_loc, class_train_loc)\n",
    "print(f\"F1 Score: {f1_score_train_loc}\")"
   ]
  },
  {
   "cell_type": "code",
   "execution_count": 28,
   "id": "e96e05e1-772d-4545-9459-f404e784caa2",
   "metadata": {},
   "outputs": [
    {
     "data": {
      "text/plain": [
       "(80452, 508, 1215, 1525)"
      ]
     },
     "execution_count": 28,
     "metadata": {},
     "output_type": "execute_result"
    }
   ],
   "source": [
    "tn, fp, fn, tp = sklearn.metrics.confusion_matrix(y_test_loc, class_test_loc).ravel()\n",
    "(tn, fp, fn, tp)"
   ]
  },
  {
   "cell_type": "code",
   "execution_count": 29,
   "id": "b88e497d-2109-4aab-92c0-b460c6b92cc7",
   "metadata": {},
   "outputs": [
    {
     "name": "stderr",
     "output_type": "stream",
     "text": [
      "WARNING:absl:Found untraced functions such as lstm_cell_1_layer_call_fn, lstm_cell_1_layer_call_and_return_conditional_losses while saving (showing 2 of 2). These functions will not be directly callable after loading.\n"
     ]
    },
    {
     "name": "stdout",
     "output_type": "stream",
     "text": [
      "INFO:tensorflow:Assets written to: locmodel/assets\n"
     ]
    },
    {
     "name": "stderr",
     "output_type": "stream",
     "text": [
      "INFO:tensorflow:Assets written to: locmodel/assets\n",
      "WARNING:absl:<keras.layers.recurrent.LSTMCell object at 0x1625f2b50> has the same name 'LSTMCell' as a built-in Keras object. Consider renaming <class 'keras.layers.recurrent.LSTMCell'> to avoid naming conflicts when loading with `tf.keras.models.load_model`. If renaming is not possible, pass the object in the `custom_objects` parameter of the load function.\n"
     ]
    }
   ],
   "source": [
    "# Exporting location model\n",
    "locmodel.save('locmodel')"
   ]
  },
  {
   "cell_type": "markdown",
   "id": "e0a576e2-c3c7-4e11-96b6-1b0ffcae0aa8",
   "metadata": {},
   "source": [
    "## Spot checking results"
   ]
  },
  {
   "cell_type": "code",
   "execution_count": 30,
   "id": "0dd2a59e-ae8b-47a7-9211-0e16d393214a",
   "metadata": {},
   "outputs": [],
   "source": [
    "loaded_signalmodel = load_model('signalmodel')"
   ]
  },
  {
   "cell_type": "code",
   "execution_count": 31,
   "id": "fd85cee2-80fc-4e08-824a-d639e84bc16d",
   "metadata": {},
   "outputs": [],
   "source": [
    "loaded_locmodel = load_model('locmodel')"
   ]
  },
  {
   "cell_type": "code",
   "execution_count": 32,
   "id": "f54da34d-bde9-4346-add9-e5f100bf40d3",
   "metadata": {},
   "outputs": [],
   "source": [
    "slice_df = sig_df.iloc[29]"
   ]
  },
  {
   "cell_type": "code",
   "execution_count": 33,
   "id": "acc948d8-b620-4c92-a458-0747edac9f45",
   "metadata": {},
   "outputs": [],
   "source": [
    "sigfeatures = []\n",
    "sigtargets = []\n",
    "locfeatures = []\n",
    "loctargets = []\n",
    "\n",
    "# x = slice_df[\"tr_x\"]\n",
    "# y = slice_df[\"tr_y\"]\n",
    "# z = slice_df[\"tr_z\"]\n",
    "tr = slice_df[\"trace\"]\n",
    "mag = abs(tr)\n",
    "# mag = slice_df[\"magnitude\"]\n",
    "signal = slice_df[\"signal\"]\n",
    "p_arrival = slice_df[\"p_arrival\"]\n",
    "#d = {\"x\": x, \"y\":y, \"z\":z, \"magnitude\":mag}\n",
    "d = {\"trace\": tr, \"magnitude\":mag}\n",
    "temp_df = pd.DataFrame(data = d)"
   ]
  },
  {
   "cell_type": "code",
   "execution_count": 34,
   "id": "c46c4710-a669-4dfe-a1f3-1280100b14c9",
   "metadata": {},
   "outputs": [],
   "source": [
    "temp_df[\"STA\"] = temp_df[\"magnitude\"].rolling(roll_short).mean()\n",
    "temp_df[\"LTA\"] = temp_df[\"magnitude\"].rolling(roll_long).mean()\n",
    "temp_df[\"RAV\"] = temp_df[\"STA\"]/temp_df[\"LTA\"]\n",
    "temp_df[\"STV\"] = temp_df[\"magnitude\"].rolling(roll_short).var()\n",
    "temp_df[\"LTV\"] = temp_df[\"magnitude\"].rolling(roll_long).var()\n",
    "    \n",
    "temp_df.dropna(inplace = True)\n",
    "sigfeatures.append(temp_df.values)\n",
    "sigtargets.append(signal)"
   ]
  },
  {
   "cell_type": "code",
   "execution_count": 35,
   "id": "b96eeaf8-4bc0-4a1b-ac9d-66c21ff1c9fd",
   "metadata": {},
   "outputs": [
    {
     "name": "stderr",
     "output_type": "stream",
     "text": [
      "2022-03-10 03:01:20.719455: I tensorflow/core/grappler/optimizers/custom_graph_optimizer_registry.cc:113] Plugin optimizer for device_type GPU is enabled.\n",
      "2022-03-10 03:01:20.766065: I tensorflow/core/grappler/optimizers/custom_graph_optimizer_registry.cc:113] Plugin optimizer for device_type GPU is enabled.\n"
     ]
    },
    {
     "data": {
      "text/plain": [
       "array([[ 0.9884533]], dtype=float32)"
      ]
     },
     "execution_count": 35,
     "metadata": {},
     "output_type": "execute_result"
    }
   ],
   "source": [
    "loaded_signalmodel.predict(np.array(sigfeatures))"
   ]
  },
  {
   "cell_type": "code",
   "execution_count": 36,
   "id": "87da8ba6-bda5-44eb-b99b-eb1a26c3d508",
   "metadata": {},
   "outputs": [
    {
     "data": {
      "text/plain": [
       "[1]"
      ]
     },
     "execution_count": 36,
     "metadata": {},
     "output_type": "execute_result"
    }
   ],
   "source": [
    "sigtargets"
   ]
  },
  {
   "cell_type": "code",
   "execution_count": 37,
   "id": "2da48180-379a-47d0-83ba-945e8b9bece4",
   "metadata": {},
   "outputs": [],
   "source": [
    "start_ind = 0\n",
    "end_ind = start_ind + window_size\n",
    "    \n",
    "while end_ind < (1000 - roll_long):\n",
    "    # xwindow = temp_df[\"x\"].iloc[start_ind:end_ind]\n",
    "    # ywindow = temp_df[\"y\"].iloc[start_ind:end_ind]\n",
    "    # zwindow = temp_df[\"z\"].iloc[start_ind:end_ind]\n",
    "    magwindow = temp_df[\"magnitude\"].iloc[start_ind:end_ind]\n",
    "    trwindow = temp_df[\"trace\"].iloc[start_ind:end_ind]\n",
    "    ravwindow = temp_df[\"RAV\"].iloc[start_ind:end_ind]\n",
    "    stvwindow = temp_df[\"STV\"].iloc[start_ind:end_ind]\n",
    "    ltvwindow = temp_df[\"LTV\"].iloc[start_ind:end_ind]\n",
    "\n",
    "    window_data = {\"trace\":trwindow, \"magnitude\": magwindow,\n",
    "                    \"RAV\": ravwindow, \"STV\": stvwindow, \"LTV\": ltvwindow}\n",
    "        \n",
    "    window_df = pd.DataFrame(data = window_data)\n",
    "\n",
    "    locfeatures.append(window_df.values)\n",
    "\n",
    "    if ((p_arrival-roll_long) >= start_ind) and ((p_arrival-roll_long) <= end_ind):\n",
    "        loctargets.append(1)\n",
    "    else:\n",
    "        loctargets.append(0)\n",
    "\n",
    "    start_ind += window_step\n",
    "    end_ind = start_ind + window_size"
   ]
  },
  {
   "cell_type": "code",
   "execution_count": 38,
   "id": "f4f15ce4-958a-477c-b071-8ec709305665",
   "metadata": {},
   "outputs": [
    {
     "name": "stderr",
     "output_type": "stream",
     "text": [
      "2022-03-10 03:01:23.093892: I tensorflow/core/grappler/optimizers/custom_graph_optimizer_registry.cc:113] Plugin optimizer for device_type GPU is enabled.\n",
      "2022-03-10 03:01:23.128385: I tensorflow/core/grappler/optimizers/custom_graph_optimizer_registry.cc:113] Plugin optimizer for device_type GPU is enabled.\n"
     ]
    },
    {
     "data": {
      "text/plain": [
       "array([[ 0.00321005],\n",
       "       [ 0.00411626],\n",
       "       [ 0.00354665],\n",
       "       [ 0.01044728],\n",
       "       [ 0.00430495],\n",
       "       [ 0.00658699],\n",
       "       [ 0.0050662 ],\n",
       "       [ 0.00785536],\n",
       "       [ 0.00833599],\n",
       "       [ 0.00902405],\n",
       "       [ 0.01379773],\n",
       "       [ 0.00484164],\n",
       "       [ 0.00517317],\n",
       "       [ 0.00700498],\n",
       "       [ 0.00300005],\n",
       "       [ 0.0231615 ],\n",
       "       [ 0.00489531],\n",
       "       [ 0.00685779],\n",
       "       [ 0.00239614],\n",
       "       [ 0.00927619],\n",
       "       [ 0.00294006],\n",
       "       [ 0.0048273 ],\n",
       "       [ 0.00748014],\n",
       "       [ 0.00328153],\n",
       "       [ 0.01095366],\n",
       "       [ 0.00196791],\n",
       "       [ 0.0112697 ],\n",
       "       [ 0.00306058],\n",
       "       [ 0.00566681],\n",
       "       [ 0.4612412 ],\n",
       "       [ 0.00176737]], dtype=float32)"
      ]
     },
     "execution_count": 38,
     "metadata": {},
     "output_type": "execute_result"
    }
   ],
   "source": [
    "loaded_locmodel.predict(np.array(locfeatures))"
   ]
  },
  {
   "cell_type": "code",
   "execution_count": 39,
   "id": "4af9ffb0-4f73-4376-9ede-beee58aac06f",
   "metadata": {},
   "outputs": [
    {
     "data": {
      "text/plain": [
       "[0,\n",
       " 0,\n",
       " 0,\n",
       " 0,\n",
       " 0,\n",
       " 0,\n",
       " 0,\n",
       " 0,\n",
       " 0,\n",
       " 0,\n",
       " 0,\n",
       " 0,\n",
       " 0,\n",
       " 0,\n",
       " 0,\n",
       " 0,\n",
       " 0,\n",
       " 0,\n",
       " 0,\n",
       " 0,\n",
       " 0,\n",
       " 0,\n",
       " 0,\n",
       " 0,\n",
       " 0,\n",
       " 0,\n",
       " 0,\n",
       " 0,\n",
       " 0,\n",
       " 1,\n",
       " 0]"
      ]
     },
     "execution_count": 39,
     "metadata": {},
     "output_type": "execute_result"
    }
   ],
   "source": [
    "loctargets"
   ]
  },
  {
   "cell_type": "code",
   "execution_count": 40,
   "id": "f217fc42-514b-482b-81b3-02b47e56b37b",
   "metadata": {},
   "outputs": [
    {
     "data": {
      "text/plain": [
       "'\\n1) Take in trace file\\n2) Normalize data\\n3) Calculate Fields for signalmodel\\n4) Predict whether or not the trace contains a signal\\n\\nIf YES:\\n5) Calculate Fields for locmodel\\n6) Predict where the pwave is\\n7) Take the max probability\\n8) Convert to a UTC timestamp\\n9) Return UTC timestamp\\n\\nIf NO:\\n5) Return None\\n'"
      ]
     },
     "execution_count": 40,
     "metadata": {},
     "output_type": "execute_result"
    }
   ],
   "source": [
    "## Pseudo Coding Test Script\n",
    "\"\"\"\n",
    "1) Take in trace file\n",
    "2) Normalize data\n",
    "3) Calculate Fields for signalmodel\n",
    "4) Predict whether or not the trace contains a signal\n",
    "\n",
    "If YES:\n",
    "5) Calculate Fields for locmodel\n",
    "6) Predict where the pwave is\n",
    "7) Take the max probability\n",
    "8) Convert to a UTC timestamp\n",
    "9) Return UTC timestamp\n",
    "\n",
    "If NO:\n",
    "5) Return None\n",
    "\"\"\""
   ]
  },
  {
   "cell_type": "code",
   "execution_count": null,
   "id": "8f1f5a28-3e94-4b92-9659-3f13dd6860fc",
   "metadata": {},
   "outputs": [],
   "source": []
  },
  {
   "cell_type": "code",
   "execution_count": null,
   "id": "1d26aa59-165b-4eb5-9cdc-7462d2cd72d8",
   "metadata": {},
   "outputs": [],
   "source": []
  },
  {
   "cell_type": "code",
   "execution_count": null,
   "id": "61f293e8-fede-414b-82c5-423b44636f25",
   "metadata": {},
   "outputs": [],
   "source": []
  },
  {
   "cell_type": "code",
   "execution_count": null,
   "id": "f6f31f1f-0ef4-424d-a00c-0013b2452042",
   "metadata": {},
   "outputs": [],
   "source": []
  }
 ],
 "metadata": {
  "kernelspec": {
   "display_name": "Python 3 (ipykernel)",
   "language": "python",
   "name": "python3"
  },
  "language_info": {
   "codemirror_mode": {
    "name": "ipython",
    "version": 3
   },
   "file_extension": ".py",
   "mimetype": "text/x-python",
   "name": "python",
   "nbconvert_exporter": "python",
   "pygments_lexer": "ipython3",
   "version": "3.8.12"
  }
 },
 "nbformat": 4,
 "nbformat_minor": 5
}
