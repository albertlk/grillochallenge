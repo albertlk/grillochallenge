{
 "cells": [
  {
   "cell_type": "code",
   "execution_count": 1,
   "id": "a77e8cf1-e351-4be3-9e2a-68740b40c67a",
   "metadata": {},
   "outputs": [
    {
     "data": {
      "text/plain": [
       "'/Users/albertkong/grillochallenge'"
      ]
     },
     "execution_count": 1,
     "metadata": {},
     "output_type": "execute_result"
    }
   ],
   "source": [
    "import os\n",
    "import obspy\n",
    "from tensorflow.keras.models import Sequential, load_model\n",
    "from tensorflow.keras.layers import LSTM, Dense\n",
    "from pathlib import Path\n",
    "%matplotlib inline\n",
    "%run helperfunctions.ipynb\n",
    "os.getcwd()"
   ]
  },
  {
   "cell_type": "code",
   "execution_count": 2,
   "id": "4189c97c-e78c-4d7a-8ae6-8ca982b23ed3",
   "metadata": {},
   "outputs": [],
   "source": [
    "import warnings\n",
    "warnings.filterwarnings(\"ignore\")"
   ]
  },
  {
   "cell_type": "code",
   "execution_count": 3,
   "id": "0e5f2bd4-d9b1-4495-90fc-379b1f70244c",
   "metadata": {},
   "outputs": [],
   "source": [
    "os.chdir('lse_challenge/data')"
   ]
  },
  {
   "cell_type": "code",
   "execution_count": 4,
   "id": "41d92062-c060-45d9-b94c-f2eea34effeb",
   "metadata": {},
   "outputs": [],
   "source": [
    "# Signal List\n",
    "os.chdir('signal')\n",
    "signals = []\n",
    "signal_files = os.listdir()\n",
    "for sigfile in signal_files[0:300]: #Need to remove index for actual dataset\n",
    "    tmp_trace = obspy.read(sigfile)\n",
    "    tmp_trace = tmp_trace.normalize()\n",
    "    cutlength = np.random.randint(900)\n",
    "    trace_mat = [tmp_trace[0].data[cutlength:1000+cutlength], tmp_trace[1].data[cutlength:1000+cutlength], tmp_trace[2].data[cutlength:1000+cutlength]]\n",
    "    mag = np.sqrt(trace_mat[0]**2 + trace_mat[1]**2 + trace_mat[2]**2)\n",
    "    signals.append([trace_mat[0], trace_mat[1], trace_mat[2], mag, cutlength, 1])\n",
    "    \n",
    "    # Negative Transformations\n",
    "    neg_mat = rot_xyz(trace_mat, 0, -np.pi, 0)\n",
    "    signals.append([neg_mat[0], neg_mat[1], neg_mat[2], mag, cutlength, 1])\n",
    "    \n",
    "    # X, Y, and Z Rotations by Theta\n",
    "    theta = np.random.uniform()*2*np.pi\n",
    "    x_mat = rot_x(trace_mat, theta)\n",
    "    signals.append([x_mat[0], x_mat[1], x_mat[2], mag, cutlength, 1])\n",
    "    y_mat = rot_y(trace_mat, theta)\n",
    "    signals.append([y_mat[0], y_mat[1], y_mat[2], mag, cutlength, 1])\n",
    "    z_mat = rot_z(trace_mat, theta)\n",
    "    signals.append([z_mat[0], z_mat[1], z_mat[2], mag, cutlength, 1])\n",
    "    \n",
    "    # General Rotation by alpha, beta, gamma\n",
    "    alpha = np.random.uniform()*2*np.pi\n",
    "    beta = np.random.uniform()*2*np.pi\n",
    "    gamma = np.random.uniform()*2*np.pi\n",
    "    rot_mat = rot_xyz(trace_mat, alpha, beta, gamma)\n",
    "    signals.append([rot_mat[0], rot_mat[1], rot_mat[2], mag, cutlength, 1])\n",
    "    \n",
    "\n",
    "# Noise List\n",
    "os.chdir('../noise')\n",
    "noise_files = os.listdir()\n",
    "for noisefile in noise_files[0:300]: #Need to remove index for actual dataset\n",
    "    tmp_trace = obspy.read(noisefile)\n",
    "    tmp_trace = tmp_trace.normalize()\n",
    "    cutlength = np.random.randint(900)\n",
    "    trace_mat = [tmp_trace[0].data[cutlength:1000+cutlength], tmp_trace[1].data[cutlength:1000+cutlength], tmp_trace[2].data[cutlength:1000+cutlength]]\n",
    "    mag = np.sqrt(trace_mat[0]**2 + trace_mat[1]**2 + trace_mat[2]**2)\n",
    "    signals.append([trace_mat[0], trace_mat[1], trace_mat[2], mag, cutlength, 0])\n",
    "    \n",
    "    # Negative Transformations\n",
    "    neg_mat = rot_xyz(trace_mat, 0, -np.pi, 0)\n",
    "    signals.append([neg_mat[0], neg_mat[1], neg_mat[2], mag, cutlength, 0])\n",
    "    \n",
    "    # X, Y, and Z Rotations by Theta\n",
    "    theta = np.random.uniform()*2*np.pi\n",
    "    x_mat = rot_x(trace_mat, theta)\n",
    "    signals.append([x_mat[0], x_mat[1], x_mat[2], mag, cutlength, 0])\n",
    "    y_mat = rot_y(trace_mat, theta)\n",
    "    signals.append([y_mat[0], y_mat[1], y_mat[2], mag, cutlength, 0])\n",
    "    z_mat = rot_z(trace_mat, theta)\n",
    "    signals.append([z_mat[0], z_mat[1], z_mat[2], mag, cutlength, 0])\n",
    "    \n",
    "    # General Rotation by alpha, beta, gamma\n",
    "    alpha = np.random.uniform()*2*np.pi\n",
    "    beta = np.random.uniform()*2*np.pi\n",
    "    gamma = np.random.uniform()*2*np.pi\n",
    "    rot_mat = rot_xyz(trace_mat, alpha, beta, gamma)\n",
    "    signals.append([rot_mat[0], rot_mat[1], rot_mat[2], mag, cutlength, 0])\n",
    "    \n",
    "os.chdir('../')\n",
    "\n",
    "sig_df = pd.DataFrame(signals, columns = [\"tr_x\", \"tr_y\", \"tr_z\", \"magnitude\", \"cutlength\", \"signal\"])\n",
    "sig_df['p_arrival'] = 1000 - sig_df['cutlength']"
   ]
  },
  {
   "cell_type": "markdown",
   "id": "78506b6d-3e1f-457d-b993-ffe6e073bf9c",
   "metadata": {},
   "source": [
    "## Training Neural Network for dectecting whether or not the trace has a signal"
   ]
  },
  {
   "cell_type": "code",
   "execution_count": 5,
   "id": "d78167cb-0342-4252-8065-768d8f5d321a",
   "metadata": {},
   "outputs": [],
   "source": [
    "# Features and Targets for Identifying the Entire Trace\n",
    "\n",
    "features = []\n",
    "targets = []\n",
    "\n",
    "for index, slice_df in sig_df.iterrows():\n",
    "    x = slice_df[\"tr_x\"]\n",
    "    y = slice_df[\"tr_y\"]\n",
    "    z = slice_df[\"tr_z\"]\n",
    "    mag = slice_df[\"magnitude\"]\n",
    "    signal = slice_df[\"signal\"]\n",
    "    p_arrival = slice_df[\"p_arrival\"]\n",
    "    d = {\"x\": x, \"y\":y, \"z\":z, \"magnitude\":mag}\n",
    "    \n",
    "    temp_df = pd.DataFrame(data = d)\n",
    "    temp_df[\"STA\"] = temp_df[\"magnitude\"].rolling(25).mean()\n",
    "    temp_df[\"LTA\"] = temp_df[\"magnitude\"].rolling(50).mean()\n",
    "    temp_df[\"RAV\"] = temp_df[\"STA\"]/temp_df[\"LTA\"]\n",
    "    temp_df[\"STV\"] = temp_df[\"magnitude\"].rolling(25).var()\n",
    "    temp_df[\"LTV\"] = temp_df[\"magnitude\"].rolling(50).var()\n",
    "    \n",
    "    temp_df.dropna(inplace = True)\n",
    "    \n",
    "    features.append(temp_df.values)\n",
    "    targets.append(signal)"
   ]
  },
  {
   "cell_type": "code",
   "execution_count": 6,
   "id": "ac7ee267-ce0f-4cad-b20e-946da911eeca",
   "metadata": {},
   "outputs": [],
   "source": [
    "X_train, X_test, y_train, y_test = train_test_split(features, targets, test_size = 0.3)"
   ]
  },
  {
   "cell_type": "code",
   "execution_count": 7,
   "id": "d38fafac-6414-4e14-8cdd-50bcb5c54a99",
   "metadata": {},
   "outputs": [
    {
     "data": {
      "text/plain": [
       "(951, 9)"
      ]
     },
     "execution_count": 7,
     "metadata": {},
     "output_type": "execute_result"
    }
   ],
   "source": [
    "X_train = np.array(X_train)\n",
    "X_test = np.array(X_test)\n",
    "y_train = np.array(y_train)\n",
    "y_test = np.array(y_test)\n",
    "feature_shape = X_train[0].shape\n",
    "feature_shape"
   ]
  },
  {
   "cell_type": "code",
   "execution_count": 8,
   "id": "dadb6968-d513-4a2a-8d5e-4d3e9d97e11c",
   "metadata": {},
   "outputs": [
    {
     "name": "stdout",
     "output_type": "stream",
     "text": [
      "Metal device set to: Apple M1\n"
     ]
    },
    {
     "name": "stderr",
     "output_type": "stream",
     "text": [
      "2022-03-09 17:53:35.496439: I tensorflow/core/common_runtime/pluggable_device/pluggable_device_factory.cc:305] Could not identify NUMA node of platform GPU ID 0, defaulting to 0. Your kernel may not have been built with NUMA support.\n",
      "2022-03-09 17:53:35.496652: I tensorflow/core/common_runtime/pluggable_device/pluggable_device_factory.cc:271] Created TensorFlow device (/job:localhost/replica:0/task:0/device:GPU:0 with 0 MB memory) -> physical PluggableDevice (device: 0, name: METAL, pci bus id: <undefined>)\n"
     ]
    },
    {
     "name": "stdout",
     "output_type": "stream",
     "text": [
      "Model: \"sequential\"\n",
      "_________________________________________________________________\n",
      " Layer (type)                Output Shape              Param #   \n",
      "=================================================================\n",
      " lstm (LSTM)                 (None, 32)                5376      \n",
      "                                                                 \n",
      " dense (Dense)               (None, 1)                 33        \n",
      "                                                                 \n",
      "=================================================================\n",
      "Total params: 5,409\n",
      "Trainable params: 5,409\n",
      "Non-trainable params: 0\n",
      "_________________________________________________________________\n"
     ]
    }
   ],
   "source": [
    "signalmodel = Sequential()\n",
    "signalmodel.add(LSTM(32, input_shape = feature_shape))\n",
    "signalmodel.add(Dense(1, activation = 'sigmoid'))\n",
    "signalmodel.summary()"
   ]
  },
  {
   "cell_type": "code",
   "execution_count": 9,
   "id": "4832ed96-d723-4733-b604-9d24fa5c0a24",
   "metadata": {},
   "outputs": [
    {
     "name": "stdout",
     "output_type": "stream",
     "text": [
      "Epoch 1/40\n"
     ]
    },
    {
     "name": "stderr",
     "output_type": "stream",
     "text": [
      "2022-03-09 17:53:35.901203: W tensorflow/core/platform/profile_utils/cpu_utils.cc:128] Failed to get CPU frequency: 0 Hz\n",
      "2022-03-09 17:53:36.608118: I tensorflow/core/grappler/optimizers/custom_graph_optimizer_registry.cc:113] Plugin optimizer for device_type GPU is enabled.\n",
      "2022-03-09 17:53:36.751579: I tensorflow/core/grappler/optimizers/custom_graph_optimizer_registry.cc:113] Plugin optimizer for device_type GPU is enabled.\n",
      "2022-03-09 17:53:38.912160: I tensorflow/core/grappler/optimizers/custom_graph_optimizer_registry.cc:113] Plugin optimizer for device_type GPU is enabled.\n"
     ]
    },
    {
     "name": "stdout",
     "output_type": "stream",
     "text": [
      "79/79 [==============================] - 32s 289ms/step - loss: 0.3518 - accuracy: 0.8496\n",
      "Epoch 2/40\n",
      "79/79 [==============================] - 14s 176ms/step - loss: 0.0340 - accuracy: 0.9956\n",
      "Epoch 3/40\n",
      "79/79 [==============================] - 14s 176ms/step - loss: 0.0288 - accuracy: 0.9956\n",
      "Epoch 4/40\n",
      "79/79 [==============================] - 14s 176ms/step - loss: 0.0356 - accuracy: 0.9940\n",
      "Epoch 5/40\n",
      "79/79 [==============================] - 14s 179ms/step - loss: 0.0385 - accuracy: 0.9933\n",
      "Epoch 6/40\n",
      "79/79 [==============================] - 14s 177ms/step - loss: 0.9671 - accuracy: 0.5278\n",
      "Epoch 7/40\n",
      "79/79 [==============================] - 14s 182ms/step - loss: 0.5926 - accuracy: 0.7774\n",
      "Epoch 8/40\n",
      "79/79 [==============================] - 14s 179ms/step - loss: 0.5412 - accuracy: 0.8933\n",
      "Epoch 9/40\n",
      "79/79 [==============================] - 14s 177ms/step - loss: 0.4478 - accuracy: 0.8960\n",
      "Epoch 10/40\n",
      "79/79 [==============================] - 14s 179ms/step - loss: 0.2660 - accuracy: 0.9381\n",
      "Epoch 11/40\n",
      "79/79 [==============================] - 14s 177ms/step - loss: 0.2278 - accuracy: 0.9250\n",
      "Epoch 12/40\n",
      "79/79 [==============================] - 14s 176ms/step - loss: 0.1693 - accuracy: 0.9504\n",
      "Epoch 13/40\n",
      "79/79 [==============================] - 14s 177ms/step - loss: 0.1530 - accuracy: 0.9579\n",
      "Epoch 14/40\n",
      "79/79 [==============================] - 14s 180ms/step - loss: 0.1389 - accuracy: 0.9627\n",
      "Epoch 15/40\n",
      "79/79 [==============================] - 15s 184ms/step - loss: 0.1396 - accuracy: 0.9603\n",
      "Epoch 16/40\n",
      "79/79 [==============================] - 14s 178ms/step - loss: 0.5441 - accuracy: 0.7778\n",
      "Epoch 17/40\n",
      "79/79 [==============================] - 14s 179ms/step - loss: 0.3293 - accuracy: 0.9250\n",
      "Epoch 18/40\n",
      "79/79 [==============================] - 14s 180ms/step - loss: 0.1881 - accuracy: 0.9393\n",
      "Epoch 19/40\n",
      "79/79 [==============================] - 14s 180ms/step - loss: 0.6706 - accuracy: 0.7079\n",
      "Epoch 20/40\n",
      "79/79 [==============================] - 15s 190ms/step - loss: 0.5232 - accuracy: 0.9266\n",
      "Epoch 21/40\n",
      "79/79 [==============================] - 14s 180ms/step - loss: 0.2527 - accuracy: 0.9468\n",
      "Epoch 22/40\n",
      "79/79 [==============================] - 14s 179ms/step - loss: 0.2050 - accuracy: 0.9349\n",
      "Epoch 23/40\n",
      "79/79 [==============================] - 14s 178ms/step - loss: 0.1546 - accuracy: 0.9563\n",
      "Epoch 24/40\n",
      "79/79 [==============================] - 14s 179ms/step - loss: 0.1622 - accuracy: 0.9516\n",
      "Epoch 25/40\n",
      "79/79 [==============================] - 14s 179ms/step - loss: 0.1155 - accuracy: 0.9651\n",
      "Epoch 26/40\n",
      "79/79 [==============================] - 14s 181ms/step - loss: 0.1146 - accuracy: 0.9687\n",
      "Epoch 27/40\n",
      "79/79 [==============================] - 14s 178ms/step - loss: 0.1465 - accuracy: 0.9631\n",
      "Epoch 28/40\n",
      "79/79 [==============================] - 14s 179ms/step - loss: 0.0850 - accuracy: 0.9813\n",
      "Epoch 29/40\n",
      "79/79 [==============================] - 14s 179ms/step - loss: 0.1155 - accuracy: 0.9718\n",
      "Epoch 30/40\n",
      "79/79 [==============================] - 14s 178ms/step - loss: 0.0359 - accuracy: 0.9956\n",
      "Epoch 31/40\n",
      "79/79 [==============================] - 14s 178ms/step - loss: 0.0395 - accuracy: 0.9925\n",
      "Epoch 32/40\n",
      "79/79 [==============================] - 14s 178ms/step - loss: 0.0249 - accuracy: 0.9964\n",
      "Epoch 33/40\n",
      "79/79 [==============================] - 14s 179ms/step - loss: 0.0221 - accuracy: 0.9968\n",
      "Epoch 34/40\n",
      "79/79 [==============================] - 14s 179ms/step - loss: 0.0157 - accuracy: 0.9984\n",
      "Epoch 35/40\n",
      "79/79 [==============================] - 14s 178ms/step - loss: 0.0181 - accuracy: 0.9976\n",
      "Epoch 36/40\n",
      "79/79 [==============================] - 14s 179ms/step - loss: 0.0214 - accuracy: 0.9968\n",
      "Epoch 37/40\n",
      "79/79 [==============================] - 14s 181ms/step - loss: 0.0154 - accuracy: 0.9980\n",
      "Epoch 38/40\n",
      "79/79 [==============================] - 14s 180ms/step - loss: 0.0168 - accuracy: 0.9976\n",
      "Epoch 39/40\n",
      "79/79 [==============================] - 14s 183ms/step - loss: 0.0165 - accuracy: 0.9976\n",
      "Epoch 40/40\n",
      "79/79 [==============================] - 15s 185ms/step - loss: 0.0184 - accuracy: 0.9972\n"
     ]
    },
    {
     "data": {
      "text/plain": [
       "<keras.callbacks.History at 0x1766bfdf0>"
      ]
     },
     "execution_count": 9,
     "metadata": {},
     "output_type": "execute_result"
    }
   ],
   "source": [
    "signalmodel.compile(loss = 'binary_crossentropy', optimizer = \"adam\", metrics = ['accuracy'])\n",
    "signalmodel.fit(X_train, y_train, epochs = 40)"
   ]
  },
  {
   "cell_type": "code",
   "execution_count": 10,
   "id": "5ef874d6-3d0b-4d05-9c33-9e1f819a79b7",
   "metadata": {},
   "outputs": [
    {
     "name": "stderr",
     "output_type": "stream",
     "text": [
      "2022-03-09 18:03:21.319136: I tensorflow/core/grappler/optimizers/custom_graph_optimizer_registry.cc:113] Plugin optimizer for device_type GPU is enabled.\n",
      "2022-03-09 18:03:21.397592: I tensorflow/core/grappler/optimizers/custom_graph_optimizer_registry.cc:113] Plugin optimizer for device_type GPU is enabled.\n"
     ]
    },
    {
     "name": "stdout",
     "output_type": "stream",
     "text": [
      "Loss: 0.018332095816731453, Accuracy: 0.9972221851348877\n"
     ]
    }
   ],
   "source": [
    "model_loss, model_accuracy = signalmodel.evaluate(X_test, y_test, verbose = 0)\n",
    "print(f\"Loss: {model_loss}, Accuracy: {model_accuracy}\")"
   ]
  },
  {
   "cell_type": "code",
   "execution_count": 11,
   "id": "4006f796-ea1d-471f-aa1a-bfefb250c04f",
   "metadata": {},
   "outputs": [
    {
     "name": "stderr",
     "output_type": "stream",
     "text": [
      "2022-03-09 18:03:29.462830: I tensorflow/core/grappler/optimizers/custom_graph_optimizer_registry.cc:113] Plugin optimizer for device_type GPU is enabled.\n",
      "2022-03-09 18:03:29.497152: I tensorflow/core/grappler/optimizers/custom_graph_optimizer_registry.cc:113] Plugin optimizer for device_type GPU is enabled.\n"
     ]
    },
    {
     "name": "stdout",
     "output_type": "stream",
     "text": [
      "F1 Score: 0.9971777986829727\n"
     ]
    }
   ],
   "source": [
    "predictions_test = signalmodel.predict(X_test)\n",
    "class_test = predictions_test > 0.50\n",
    "f1_score_test = sklearn.metrics.f1_score(y_test, class_test)\n",
    "print(f\"F1 Score: {f1_score_test}\")"
   ]
  },
  {
   "cell_type": "code",
   "execution_count": 12,
   "id": "07cf87c3-55a1-48e8-b2e3-3b45219bfbcc",
   "metadata": {},
   "outputs": [
    {
     "name": "stdout",
     "output_type": "stream",
     "text": [
      "F1 Score: 0.9968479117415288\n"
     ]
    }
   ],
   "source": [
    "predictions_train = signalmodel.predict(X_train)\n",
    "class_train = predictions_train > 0.50\n",
    "f1_score_train = sklearn.metrics.f1_score(y_train, class_train)\n",
    "print(f\"F1 Score: {f1_score_train}\")"
   ]
  },
  {
   "cell_type": "code",
   "execution_count": 13,
   "id": "4aee1e33-918d-4252-8ba7-a6a6c349cf81",
   "metadata": {},
   "outputs": [
    {
     "data": {
      "text/plain": [
       "(547, 2, 1, 530)"
      ]
     },
     "execution_count": 13,
     "metadata": {},
     "output_type": "execute_result"
    }
   ],
   "source": [
    "tn, fp, fn, tp = sklearn.metrics.confusion_matrix(y_test, class_test).ravel()\n",
    "(tn, fp, fn, tp)"
   ]
  },
  {
   "cell_type": "markdown",
   "id": "9e448cf9-f903-4b53-978d-87c87233e094",
   "metadata": {},
   "source": [
    "## Training Neural Network for dectecting where in the trace the p-wave starts"
   ]
  },
  {
   "cell_type": "code",
   "execution_count": 14,
   "id": "767a9561-0de7-4e40-8318-dbe3fa039ce5",
   "metadata": {},
   "outputs": [],
   "source": [
    "# Features and Targets for Identifying Windows of Trace\n",
    "features = []\n",
    "targets = []\n",
    "window_step = 40\n",
    "window_size = 40\n",
    "\n",
    "for index, slice_df in sig_df.iterrows():\n",
    "    x = slice_df[\"tr_x\"]\n",
    "    y = slice_df[\"tr_y\"]\n",
    "    z = slice_df[\"tr_z\"]\n",
    "    mag = slice_df[\"magnitude\"]\n",
    "    signal = slice_df[\"signal\"]\n",
    "    p_arrival = slice_df[\"p_arrival\"]\n",
    "    d = {\"x\": x, \"y\":y, \"z\":z, \"magnitude\":mag}\n",
    "    \n",
    "    temp_df = pd.DataFrame(data = d)\n",
    "    temp_df[\"STA\"] = temp_df[\"magnitude\"].rolling(25).mean()\n",
    "    temp_df[\"LTA\"] = temp_df[\"magnitude\"].rolling(50).mean()\n",
    "    temp_df[\"RAV\"] = temp_df[\"STA\"]/temp_df[\"LTA\"]\n",
    "    temp_df[\"STV\"] = temp_df[\"magnitude\"].rolling(25).var()\n",
    "    temp_df[\"LTV\"] = temp_df[\"magnitude\"].rolling(50).var()\n",
    "    \n",
    "    temp_df.dropna(inplace = True)\n",
    "    \n",
    "    start_ind = 0\n",
    "    end_ind = start_ind + window_size\n",
    "    \n",
    "    if signal == 1:\n",
    "\n",
    "        while end_ind < 950:\n",
    "            xwindow = temp_df[\"x\"].iloc[start_ind:end_ind]\n",
    "            ywindow = temp_df[\"y\"].iloc[start_ind:end_ind]\n",
    "            zwindow = temp_df[\"z\"].iloc[start_ind:end_ind]\n",
    "            magwindow = temp_df[\"magnitude\"].iloc[start_ind:end_ind]\n",
    "            #stawindow = temp_df[\"STA\"].iloc[start_ind:end_ind]\n",
    "            #ltawindow = temp_df[\"LTA\"].iloc[start_ind:end_ind]\n",
    "            ravwindow = temp_df[\"RAV\"].iloc[start_ind:end_ind]\n",
    "            stvwindow = temp_df[\"STV\"].iloc[start_ind:end_ind]\n",
    "            ltvwindow = temp_df[\"LTV\"].iloc[start_ind:end_ind]\n",
    "\n",
    "            window_data = {\"x\": xwindow, \"y\": ywindow, \"z\": zwindow, \"magnitude\": magwindow,\n",
    "                        \"RAV\": ravwindow, \"STV\": stvwindow, \"LTV\": ltvwindow}\n",
    "            window_df = pd.DataFrame(data = window_data)\n",
    "\n",
    "            features.append(window_df.values)\n",
    "\n",
    "            if (p_arrival >= start_ind) and (p_arrival <= end_ind):\n",
    "                targets.append(1)\n",
    "            else:\n",
    "                targets.append(0)\n",
    "\n",
    "            start_ind += window_step\n",
    "            end_ind = start_ind + window_size"
   ]
  },
  {
   "cell_type": "code",
   "execution_count": 15,
   "id": "0b5e490b-72fc-4814-a7a4-5ae9cc8deabd",
   "metadata": {},
   "outputs": [],
   "source": [
    "# For Windows of Trace\n",
    "X_train, X_test, y_train, y_test = train_test_split(features, targets, test_size = 0.3)"
   ]
  },
  {
   "cell_type": "code",
   "execution_count": 16,
   "id": "0a1e3788-b097-4f15-8f1a-fcaa6654a789",
   "metadata": {},
   "outputs": [
    {
     "data": {
      "text/plain": [
       "(40, 7)"
      ]
     },
     "execution_count": 16,
     "metadata": {},
     "output_type": "execute_result"
    }
   ],
   "source": [
    "X_train = np.array(X_train)\n",
    "X_test = np.array(X_test)\n",
    "y_train = np.array(y_train)\n",
    "y_test = np.array(y_test)\n",
    "feature_shape = X_train[0].shape\n",
    "feature_shape"
   ]
  },
  {
   "cell_type": "code",
   "execution_count": 17,
   "id": "9ed06870-7602-490e-9379-b8c2fced4e69",
   "metadata": {},
   "outputs": [
    {
     "name": "stdout",
     "output_type": "stream",
     "text": [
      "Model: \"sequential_1\"\n",
      "_________________________________________________________________\n",
      " Layer (type)                Output Shape              Param #   \n",
      "=================================================================\n",
      " lstm_1 (LSTM)               (None, 32)                5120      \n",
      "                                                                 \n",
      " dense_1 (Dense)             (None, 1)                 33        \n",
      "                                                                 \n",
      "=================================================================\n",
      "Total params: 5,153\n",
      "Trainable params: 5,153\n",
      "Non-trainable params: 0\n",
      "_________________________________________________________________\n"
     ]
    }
   ],
   "source": [
    "locmodel = Sequential()\n",
    "locmodel.add(LSTM(32, input_shape = feature_shape))\n",
    "locmodel.add(Dense(1, activation = 'sigmoid'))\n",
    "locmodel.summary()"
   ]
  },
  {
   "cell_type": "code",
   "execution_count": 18,
   "id": "12ddc60a-9e49-496f-a55b-05bbc707eb08",
   "metadata": {
    "tags": []
   },
   "outputs": [
    {
     "name": "stdout",
     "output_type": "stream",
     "text": [
      "Epoch 1/20\n"
     ]
    },
    {
     "name": "stderr",
     "output_type": "stream",
     "text": [
      "2022-03-09 18:04:03.117446: I tensorflow/core/grappler/optimizers/custom_graph_optimizer_registry.cc:113] Plugin optimizer for device_type GPU is enabled.\n",
      "2022-03-09 18:04:03.239173: I tensorflow/core/grappler/optimizers/custom_graph_optimizer_registry.cc:113] Plugin optimizer for device_type GPU is enabled.\n"
     ]
    },
    {
     "name": "stdout",
     "output_type": "stream",
     "text": [
      "  5/906 [..............................] - ETA: 12s - loss: 0.5990 - accuracy: 0.9313  "
     ]
    },
    {
     "name": "stderr",
     "output_type": "stream",
     "text": [
      "2022-03-09 18:04:03.321070: I tensorflow/core/grappler/optimizers/custom_graph_optimizer_registry.cc:113] Plugin optimizer for device_type GPU is enabled.\n"
     ]
    },
    {
     "name": "stdout",
     "output_type": "stream",
     "text": [
      "906/906 [==============================] - 13s 14ms/step - loss: 0.1778 - accuracy: 0.9585\n",
      "Epoch 2/20\n",
      "906/906 [==============================] - 12s 14ms/step - loss: 0.1506 - accuracy: 0.9604\n",
      "Epoch 3/20\n",
      "906/906 [==============================] - 12s 13ms/step - loss: 0.1108 - accuracy: 0.9690\n",
      "Epoch 4/20\n",
      "906/906 [==============================] - 12s 14ms/step - loss: 0.0997 - accuracy: 0.9713\n",
      "Epoch 5/20\n",
      "906/906 [==============================] - 12s 14ms/step - loss: 0.0940 - accuracy: 0.9729\n",
      "Epoch 6/20\n",
      "906/906 [==============================] - 12s 14ms/step - loss: 0.0913 - accuracy: 0.9740\n",
      "Epoch 7/20\n",
      "906/906 [==============================] - 12s 13ms/step - loss: 0.0860 - accuracy: 0.9756\n",
      "Epoch 8/20\n",
      "906/906 [==============================] - 12s 13ms/step - loss: 0.0880 - accuracy: 0.9744\n",
      "Epoch 9/20\n",
      "906/906 [==============================] - 12s 13ms/step - loss: 0.0814 - accuracy: 0.9767\n",
      "Epoch 10/20\n",
      "906/906 [==============================] - 13s 14ms/step - loss: 0.0821 - accuracy: 0.9762\n",
      "Epoch 11/20\n",
      "906/906 [==============================] - 12s 13ms/step - loss: 0.0815 - accuracy: 0.9766\n",
      "Epoch 12/20\n",
      "906/906 [==============================] - 12s 13ms/step - loss: 0.0799 - accuracy: 0.9778\n",
      "Epoch 13/20\n",
      "906/906 [==============================] - 12s 14ms/step - loss: 0.0860 - accuracy: 0.9749\n",
      "Epoch 14/20\n",
      "906/906 [==============================] - 12s 13ms/step - loss: 0.0849 - accuracy: 0.9761\n",
      "Epoch 15/20\n",
      "906/906 [==============================] - 12s 13ms/step - loss: 0.0765 - accuracy: 0.9771\n",
      "Epoch 16/20\n",
      "906/906 [==============================] - 12s 13ms/step - loss: 0.0800 - accuracy: 0.9770\n",
      "Epoch 17/20\n",
      "906/906 [==============================] - 12s 14ms/step - loss: 0.0763 - accuracy: 0.9781\n",
      "Epoch 18/20\n",
      "906/906 [==============================] - 12s 14ms/step - loss: 0.0846 - accuracy: 0.9753\n",
      "Epoch 19/20\n",
      "906/906 [==============================] - 12s 14ms/step - loss: 0.0851 - accuracy: 0.9747\n",
      "Epoch 20/20\n",
      "906/906 [==============================] - 12s 14ms/step - loss: 0.0724 - accuracy: 0.9779\n"
     ]
    },
    {
     "data": {
      "text/plain": [
       "<keras.callbacks.History at 0x17bba77f0>"
      ]
     },
     "execution_count": 18,
     "metadata": {},
     "output_type": "execute_result"
    }
   ],
   "source": [
    "locmodel.compile(loss = 'binary_crossentropy', optimizer = \"adam\", metrics = ['accuracy'])\n",
    "locmodel.fit(X_train, y_train, epochs = 20)"
   ]
  },
  {
   "cell_type": "code",
   "execution_count": 19,
   "id": "c11df07e-d09f-45cc-b16b-e78fad661b12",
   "metadata": {},
   "outputs": [
    {
     "name": "stderr",
     "output_type": "stream",
     "text": [
      "2022-03-09 18:08:08.867636: I tensorflow/core/grappler/optimizers/custom_graph_optimizer_registry.cc:113] Plugin optimizer for device_type GPU is enabled.\n",
      "2022-03-09 18:08:08.920990: I tensorflow/core/grappler/optimizers/custom_graph_optimizer_registry.cc:113] Plugin optimizer for device_type GPU is enabled.\n"
     ]
    },
    {
     "name": "stdout",
     "output_type": "stream",
     "text": [
      "Loss: 0.07124786078929901, Accuracy: 0.9781803488731384\n"
     ]
    }
   ],
   "source": [
    "model_loss, model_accuracy = locmodel.evaluate(X_test, y_test, verbose = 0)\n",
    "print(f\"Loss: {model_loss}, Accuracy: {model_accuracy}\")"
   ]
  },
  {
   "cell_type": "code",
   "execution_count": 20,
   "id": "3cee6a12-5168-416c-abc1-42e0fae4a0ba",
   "metadata": {},
   "outputs": [
    {
     "name": "stderr",
     "output_type": "stream",
     "text": [
      "2022-03-09 18:08:11.673357: I tensorflow/core/grappler/optimizers/custom_graph_optimizer_registry.cc:113] Plugin optimizer for device_type GPU is enabled.\n",
      "2022-03-09 18:08:11.707030: I tensorflow/core/grappler/optimizers/custom_graph_optimizer_registry.cc:113] Plugin optimizer for device_type GPU is enabled.\n"
     ]
    },
    {
     "name": "stdout",
     "output_type": "stream",
     "text": [
      "F1 Score: 0.6425925925925926\n"
     ]
    }
   ],
   "source": [
    "predictions_test = locmodel.predict(X_test)\n",
    "class_test = predictions_test > 0.25\n",
    "f1_score_test = sklearn.metrics.f1_score(y_test, class_test)\n",
    "print(f\"F1 Score: {f1_score_test}\")"
   ]
  },
  {
   "cell_type": "code",
   "execution_count": 21,
   "id": "3b88990d-3b7d-4386-bc2b-0c052d144a4b",
   "metadata": {},
   "outputs": [
    {
     "name": "stdout",
     "output_type": "stream",
     "text": [
      "F1 Score: 0.6674098848011891\n"
     ]
    }
   ],
   "source": [
    "predictions_train = locmodel.predict(X_train)\n",
    "class_train = predictions_train > 0.25\n",
    "f1_score_train = sklearn.metrics.f1_score(y_train, class_train)\n",
    "print(f\"F1 Score: {f1_score_train}\")"
   ]
  },
  {
   "cell_type": "code",
   "execution_count": 35,
   "id": "e96e05e1-772d-4545-9459-f404e784caa2",
   "metadata": {},
   "outputs": [
    {
     "data": {
      "text/plain": [
       "(11687, 250, 136, 347)"
      ]
     },
     "execution_count": 35,
     "metadata": {},
     "output_type": "execute_result"
    }
   ],
   "source": [
    "tn, fp, fn, tp = sklearn.metrics.confusion_matrix(y_test, class_test).ravel()\n",
    "(tn, fp, fn, tp)"
   ]
  },
  {
   "cell_type": "markdown",
   "id": "4964580b-f483-476e-bfec-3820f08b7d5d",
   "metadata": {},
   "source": [
    "## Exporting Models"
   ]
  },
  {
   "cell_type": "code",
   "execution_count": 42,
   "id": "fffe42f3-8dcb-4025-b930-23014c6dfaa1",
   "metadata": {},
   "outputs": [
    {
     "data": {
      "text/plain": [
       "'/Users/albertkong/grillochallenge/lse_challenge/data'"
      ]
     },
     "execution_count": 42,
     "metadata": {},
     "output_type": "execute_result"
    }
   ],
   "source": [
    "os.getcwd()"
   ]
  },
  {
   "cell_type": "code",
   "execution_count": 44,
   "id": "4afa5b2e-6ed5-404c-804b-e1c74d9cd028",
   "metadata": {},
   "outputs": [],
   "source": [
    "# Only run if we need to get to root directory\n",
    "os.chdir('../../')"
   ]
  },
  {
   "cell_type": "code",
   "execution_count": 45,
   "id": "966addd4-de09-48eb-9b2e-3f245790c484",
   "metadata": {},
   "outputs": [],
   "source": [
    "# Exporting signal model\n",
    "signalmodel.save('signalmodel')"
   ]
  },
  {
   "cell_type": "code",
   "execution_count": 46,
   "id": "b88e497d-2109-4aab-92c0-b460c6b92cc7",
   "metadata": {},
   "outputs": [
    {
     "name": "stderr",
     "output_type": "stream",
     "text": [
      "WARNING:absl:Found untraced functions such as lstm_cell_1_layer_call_fn, lstm_cell_1_layer_call_and_return_conditional_losses while saving (showing 2 of 2). These functions will not be directly callable after loading.\n"
     ]
    },
    {
     "name": "stdout",
     "output_type": "stream",
     "text": [
      "INFO:tensorflow:Assets written to: locmodel/assets\n"
     ]
    },
    {
     "name": "stderr",
     "output_type": "stream",
     "text": [
      "INFO:tensorflow:Assets written to: locmodel/assets\n",
      "WARNING:absl:<keras.layers.recurrent.LSTMCell object at 0x1732ea3d0> has the same name 'LSTMCell' as a built-in Keras object. Consider renaming <class 'keras.layers.recurrent.LSTMCell'> to avoid naming conflicts when loading with `tf.keras.models.load_model`. If renaming is not possible, pass the object in the `custom_objects` parameter of the load function.\n"
     ]
    }
   ],
   "source": [
    "# Exporting location model\n",
    "locmodel.save('locmodel')"
   ]
  },
  {
   "cell_type": "markdown",
   "id": "e0a576e2-c3c7-4e11-96b6-1b0ffcae0aa8",
   "metadata": {},
   "source": [
    "## Spot checking results"
   ]
  },
  {
   "cell_type": "code",
   "execution_count": 50,
   "id": "0dd2a59e-ae8b-47a7-9211-0e16d393214a",
   "metadata": {},
   "outputs": [],
   "source": [
    "loaded_signalmodel = load_model('signalmodel')"
   ]
  },
  {
   "cell_type": "code",
   "execution_count": 51,
   "id": "fd85cee2-80fc-4e08-824a-d639e84bc16d",
   "metadata": {},
   "outputs": [],
   "source": [
    "loaded_locmodel = load_model('locmodel')"
   ]
  },
  {
   "cell_type": "code",
   "execution_count": 27,
   "id": "f54da34d-bde9-4346-add9-e5f100bf40d3",
   "metadata": {},
   "outputs": [],
   "source": [
    "slice_df = sig_df.iloc[29]"
   ]
  },
  {
   "cell_type": "code",
   "execution_count": 28,
   "id": "acc948d8-b620-4c92-a458-0747edac9f45",
   "metadata": {},
   "outputs": [],
   "source": [
    "sigfeatures = []\n",
    "sigtargets = []\n",
    "locfeatures = []\n",
    "loctargets = []\n",
    "window_step = 40\n",
    "window_size = 40\n",
    "x = slice_df[\"tr_x\"]\n",
    "y = slice_df[\"tr_y\"]\n",
    "z = slice_df[\"tr_z\"]\n",
    "mag = slice_df[\"magnitude\"]\n",
    "signal = slice_df[\"signal\"]\n",
    "p_arrival = slice_df[\"p_arrival\"]\n",
    "d = {\"x\": x, \"y\":y, \"z\":z, \"magnitude\":mag}\n",
    "temp_df = pd.DataFrame(data = d)"
   ]
  },
  {
   "cell_type": "code",
   "execution_count": 29,
   "id": "c46c4710-a669-4dfe-a1f3-1280100b14c9",
   "metadata": {},
   "outputs": [],
   "source": [
    "temp_df[\"STA\"] = temp_df[\"magnitude\"].rolling(25).mean()\n",
    "temp_df[\"LTA\"] = temp_df[\"magnitude\"].rolling(50).mean()\n",
    "temp_df[\"RAV\"] = temp_df[\"STA\"]/temp_df[\"LTA\"]\n",
    "temp_df[\"STV\"] = temp_df[\"magnitude\"].rolling(25).var()\n",
    "temp_df[\"LTV\"] = temp_df[\"magnitude\"].rolling(50).var()\n",
    "    \n",
    "temp_df.dropna(inplace = True)\n",
    "sigfeatures.append(temp_df.values)\n",
    "sigtargets.append(signal)"
   ]
  },
  {
   "cell_type": "code",
   "execution_count": 52,
   "id": "b96eeaf8-4bc0-4a1b-ac9d-66c21ff1c9fd",
   "metadata": {},
   "outputs": [
    {
     "name": "stderr",
     "output_type": "stream",
     "text": [
      "2022-03-09 18:34:11.938515: I tensorflow/core/grappler/optimizers/custom_graph_optimizer_registry.cc:113] Plugin optimizer for device_type GPU is enabled.\n",
      "2022-03-09 18:34:11.992965: I tensorflow/core/grappler/optimizers/custom_graph_optimizer_registry.cc:113] Plugin optimizer for device_type GPU is enabled.\n"
     ]
    },
    {
     "data": {
      "text/plain": [
       "array([[ 0.9943389]], dtype=float32)"
      ]
     },
     "execution_count": 52,
     "metadata": {},
     "output_type": "execute_result"
    }
   ],
   "source": [
    "loaded_signalmodel.predict(np.array(sigfeatures))"
   ]
  },
  {
   "cell_type": "code",
   "execution_count": 31,
   "id": "87da8ba6-bda5-44eb-b99b-eb1a26c3d508",
   "metadata": {},
   "outputs": [
    {
     "data": {
      "text/plain": [
       "[1]"
      ]
     },
     "execution_count": 31,
     "metadata": {},
     "output_type": "execute_result"
    }
   ],
   "source": [
    "sigtargets"
   ]
  },
  {
   "cell_type": "code",
   "execution_count": 32,
   "id": "2da48180-379a-47d0-83ba-945e8b9bece4",
   "metadata": {},
   "outputs": [],
   "source": [
    "start_ind = 0\n",
    "end_ind = start_ind + window_size\n",
    "    \n",
    "\n",
    "while end_ind < 950:\n",
    "    xwindow = temp_df[\"x\"].iloc[start_ind:end_ind]\n",
    "    ywindow = temp_df[\"y\"].iloc[start_ind:end_ind]\n",
    "    zwindow = temp_df[\"z\"].iloc[start_ind:end_ind]\n",
    "    magwindow = temp_df[\"magnitude\"].iloc[start_ind:end_ind]\n",
    "    ravwindow = temp_df[\"RAV\"].iloc[start_ind:end_ind]\n",
    "    stvwindow = temp_df[\"STV\"].iloc[start_ind:end_ind]\n",
    "    ltvwindow = temp_df[\"LTV\"].iloc[start_ind:end_ind]\n",
    "\n",
    "    window_data = {\"x\": xwindow, \"y\": ywindow, \"z\": zwindow, \"magnitude\": magwindow,\n",
    "                    \"RAV\": ravwindow, \"STV\": stvwindow, \"LTV\": ltvwindow}\n",
    "        \n",
    "    window_df = pd.DataFrame(data = window_data)\n",
    "\n",
    "    locfeatures.append(window_df.values)\n",
    "\n",
    "    if (p_arrival >= start_ind) and (p_arrival <= end_ind):\n",
    "        loctargets.append(1)\n",
    "    else:\n",
    "        loctargets.append(0)\n",
    "\n",
    "    start_ind += window_step\n",
    "    end_ind = start_ind + window_size"
   ]
  },
  {
   "cell_type": "code",
   "execution_count": 53,
   "id": "f4f15ce4-958a-477c-b071-8ec709305665",
   "metadata": {},
   "outputs": [
    {
     "name": "stderr",
     "output_type": "stream",
     "text": [
      "2022-03-09 18:34:16.942859: I tensorflow/core/grappler/optimizers/custom_graph_optimizer_registry.cc:113] Plugin optimizer for device_type GPU is enabled.\n",
      "2022-03-09 18:34:16.977427: I tensorflow/core/grappler/optimizers/custom_graph_optimizer_registry.cc:113] Plugin optimizer for device_type GPU is enabled.\n"
     ]
    },
    {
     "data": {
      "text/plain": [
       "array([[ 0.00166442],\n",
       "       [ 0.00244572],\n",
       "       [ 0.00734585],\n",
       "       [ 0.02321231],\n",
       "       [ 0.9868595 ],\n",
       "       [ 0.02351769],\n",
       "       [ 0.06364629],\n",
       "       [ 0.05422267],\n",
       "       [ 0.13535184],\n",
       "       [ 0.02546414],\n",
       "       [ 0.00627017],\n",
       "       [ 0.00219755],\n",
       "       [ 0.00206448],\n",
       "       [ 0.00352113],\n",
       "       [ 0.00327192],\n",
       "       [ 0.00239588],\n",
       "       [ 0.0017788 ],\n",
       "       [ 0.00211299],\n",
       "       [ 0.00183   ],\n",
       "       [ 0.00209795],\n",
       "       [ 0.0019537 ],\n",
       "       [ 0.00187928],\n",
       "       [ 0.0014608 ]], dtype=float32)"
      ]
     },
     "execution_count": 53,
     "metadata": {},
     "output_type": "execute_result"
    }
   ],
   "source": [
    "loaded_locmodel.predict(np.array(locfeatures))"
   ]
  },
  {
   "cell_type": "code",
   "execution_count": 34,
   "id": "4af9ffb0-4f73-4376-9ede-beee58aac06f",
   "metadata": {},
   "outputs": [
    {
     "data": {
      "text/plain": [
       "[0, 0, 0, 0, 1, 0, 0, 0, 0, 0, 0, 0, 0, 0, 0, 0, 0, 0, 0, 0, 0, 0, 0]"
      ]
     },
     "execution_count": 34,
     "metadata": {},
     "output_type": "execute_result"
    }
   ],
   "source": [
    "loctargets"
   ]
  },
  {
   "cell_type": "code",
   "execution_count": null,
   "id": "f217fc42-514b-482b-81b3-02b47e56b37b",
   "metadata": {},
   "outputs": [],
   "source": [
    "## Pseudo Coding Test Script\n",
    "\"\"\"\n",
    "1) Take in trace file\n",
    "2) Normalize data\n",
    "3) Calculate Fields for signalmodel\n",
    "4) Predict whether or not the trace contains a signal\n",
    "\n",
    "If YES:\n",
    "5) Calculate Fields for locmodel\n",
    "6) Predict where the pwave is\n",
    "7) Take the max probability\n",
    "8) Convert to a UTC timestamp\n",
    "9) Return UTC timestamp\n",
    "\n",
    "If NO:\n",
    "5) Return None\n",
    "\"\"\""
   ]
  },
  {
   "cell_type": "code",
   "execution_count": null,
   "id": "8f1f5a28-3e94-4b92-9659-3f13dd6860fc",
   "metadata": {},
   "outputs": [],
   "source": []
  },
  {
   "cell_type": "code",
   "execution_count": null,
   "id": "1d26aa59-165b-4eb5-9cdc-7462d2cd72d8",
   "metadata": {},
   "outputs": [],
   "source": []
  },
  {
   "cell_type": "code",
   "execution_count": null,
   "id": "61f293e8-fede-414b-82c5-423b44636f25",
   "metadata": {},
   "outputs": [],
   "source": []
  },
  {
   "cell_type": "code",
   "execution_count": null,
   "id": "f6f31f1f-0ef4-424d-a00c-0013b2452042",
   "metadata": {},
   "outputs": [],
   "source": []
  }
 ],
 "metadata": {
  "kernelspec": {
   "display_name": "Python 3 (ipykernel)",
   "language": "python",
   "name": "python3"
  },
  "language_info": {
   "codemirror_mode": {
    "name": "ipython",
    "version": 3
   },
   "file_extension": ".py",
   "mimetype": "text/x-python",
   "name": "python",
   "nbconvert_exporter": "python",
   "pygments_lexer": "ipython3",
   "version": "3.8.12"
  }
 },
 "nbformat": 4,
 "nbformat_minor": 5
}
