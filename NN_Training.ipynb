{
 "cells": [
  {
   "cell_type": "code",
   "execution_count": null,
   "id": "a77e8cf1-e351-4be3-9e2a-68740b40c67a",
   "metadata": {},
   "outputs": [],
   "source": [
    "import os\n",
    "import obspy\n",
    "from tensorflow.keras.models import Sequential, load_model\n",
    "from tensorflow.keras.layers import LSTM, Dense\n",
    "from pathlib import Path\n",
    "%matplotlib inline\n",
    "%run helperfunctions.ipynb\n",
    "os.getcwd()"
   ]
  },
  {
   "cell_type": "code",
   "execution_count": null,
   "id": "4189c97c-e78c-4d7a-8ae6-8ca982b23ed3",
   "metadata": {},
   "outputs": [],
   "source": [
    "import warnings\n",
    "warnings.filterwarnings(\"ignore\")"
   ]
  },
  {
   "cell_type": "code",
   "execution_count": null,
   "id": "0e5f2bd4-d9b1-4495-90fc-379b1f70244c",
   "metadata": {},
   "outputs": [],
   "source": [
    "os.chdir('lse_challenge/data')"
   ]
  },
  {
   "cell_type": "code",
   "execution_count": null,
   "id": "41d92062-c060-45d9-b94c-f2eea34effeb",
   "metadata": {},
   "outputs": [],
   "source": [
    "# Signal List\n",
    "os.chdir('signal')\n",
    "signals = []\n",
    "signal_files = os.listdir()\n",
    "signal_files = random.sample(signal_files, 400) #Need to expand for actual dataset\n",
    "for sigfile in signal_files: \n",
    "    tmp_trace = obspy.read(sigfile)\n",
    "    tmp_trace = tmp_trace.normalize()\n",
    "    cutlength = np.random.randint(16, 150)\n",
    "    trace_mat = [tmp_trace[0].data[cutlength:1000+cutlength], tmp_trace[1].data[cutlength:1000+cutlength], tmp_trace[2].data[cutlength:1000+cutlength]]\n",
    "    #mag = np.sqrt(trace_mat[0]**2 + trace_mat[1]**2 + trace_mat[2]**2)\n",
    "    #signals.append([trace_mat[0], trace_mat[1], trace_mat[2], mag, cutlength, 1])\n",
    "    signals.append([trace_mat[0], cutlength, 1])\n",
    "    signals.append([trace_mat[1], cutlength, 1])\n",
    "    signals.append([trace_mat[2], cutlength, 1])\n",
    "    \n",
    "    # Negative Transformations\n",
    "    neg_mat = rot_xyz(trace_mat, 0, -np.pi, 0)\n",
    "    #signals.append([neg_mat[0], neg_mat[1], neg_mat[2], mag, cutlength, 1])\n",
    "    signals.append([neg_mat[0], cutlength, 1])\n",
    "    signals.append([neg_mat[1], cutlength, 1])\n",
    "    signals.append([neg_mat[2], cutlength, 1])\n",
    "    \n",
    "    # X, Y, and Z Rotations by Theta\n",
    "    theta = np.random.uniform()*2*np.pi\n",
    "    x_mat = rot_x(trace_mat, theta)\n",
    "    #signals.append([x_mat[0], x_mat[1], x_mat[2], mag, cutlength, 1])\n",
    "    signals.append([x_mat[0], cutlength, 1])\n",
    "    signals.append([x_mat[1], cutlength, 1])\n",
    "    signals.append([x_mat[2], cutlength, 1])\n",
    "    y_mat = rot_y(trace_mat, theta)\n",
    "    #signals.append([y_mat[0], y_mat[1], y_mat[2], mag, cutlength, 1])\n",
    "    signals.append([y_mat[0], cutlength, 1])\n",
    "    signals.append([y_mat[1], cutlength, 1])\n",
    "    signals.append([y_mat[2], cutlength, 1])\n",
    "    z_mat = rot_z(trace_mat, theta)\n",
    "    #signals.append([z_mat[0], z_mat[1], z_mat[2], mag, cutlength, 1])\n",
    "    signals.append([z_mat[0], cutlength, 1])\n",
    "    signals.append([z_mat[1], cutlength, 1])\n",
    "    signals.append([z_mat[2], cutlength, 1])    \n",
    "    \n",
    "    # General Rotation by alpha, beta, gamma\n",
    "    alpha = np.random.uniform()*2*np.pi\n",
    "    beta = np.random.uniform()*2*np.pi\n",
    "    gamma = np.random.uniform()*2*np.pi\n",
    "    rot_mat = rot_xyz(trace_mat, alpha, beta, gamma)\n",
    "    #signals.append([rot_mat[0], rot_mat[1], rot_mat[2], mag, cutlength, 1])\n",
    "    signals.append([rot_mat[0], cutlength, 1])\n",
    "    signals.append([rot_mat[1], cutlength, 1])\n",
    "    signals.append([rot_mat[2], cutlength, 1])\n",
    "    \n",
    "\n",
    "# Noise List\n",
    "os.chdir('../noise')\n",
    "noise_files = os.listdir()\n",
    "noise_files = random.sample(noise_files, 1200) #Need to expand for actual dataset\n",
    "for noisefile in noise_files: \n",
    "    tmp_trace = obspy.read(noisefile)\n",
    "    tmp_trace = tmp_trace.normalize()\n",
    "    cutlength = np.random.randint(16, 150)\n",
    "    trace_mat = [tmp_trace[0].data[cutlength:1000+cutlength], tmp_trace[1].data[cutlength:1000+cutlength], tmp_trace[2].data[cutlength:1000+cutlength]]\n",
    "    #mag = np.sqrt(trace_mat[0]**2 + trace_mat[1]**2 + trace_mat[2]**2)\n",
    "    #signals.append([trace_mat[0], trace_mat[1], trace_mat[2], mag, cutlength, 0])\n",
    "    signals.append([trace_mat[0], cutlength, 0])\n",
    "    signals.append([trace_mat[1], cutlength, 0])\n",
    "    signals.append([trace_mat[2], cutlength, 0])\n",
    "    \n",
    "    # Negative Transformations\n",
    "    neg_mat = rot_xyz(trace_mat, 0, -np.pi, 0)\n",
    "    #signals.append([neg_mat[0], neg_mat[1], neg_mat[2], mag, cutlength, 0])\n",
    "    signals.append([neg_mat[0], cutlength, 0])\n",
    "    signals.append([neg_mat[1], cutlength, 0])\n",
    "    signals.append([neg_mat[2], cutlength, 0])\n",
    "    \n",
    "    # X, Y, and Z Rotations by Theta\n",
    "    theta = np.random.uniform()*2*np.pi\n",
    "    x_mat = rot_x(trace_mat, theta)\n",
    "    #signals.append([x_mat[0], x_mat[1], x_mat[2], mag, cutlength, 0])\n",
    "    signals.append([x_mat[0], cutlength, 0])\n",
    "    signals.append([x_mat[1], cutlength, 0])\n",
    "    signals.append([x_mat[2], cutlength, 0])\n",
    "    y_mat = rot_y(trace_mat, theta)\n",
    "    #signals.append([y_mat[0], y_mat[1], y_mat[2], mag, cutlength, 0])\n",
    "    signals.append([y_mat[0], cutlength, 0])\n",
    "    signals.append([y_mat[1], cutlength, 0])\n",
    "    signals.append([y_mat[2], cutlength, 0])\n",
    "    z_mat = rot_z(trace_mat, theta)\n",
    "    #signals.append([z_mat[0], z_mat[1], z_mat[2], mag, cutlength, 0])\n",
    "    signals.append([z_mat[0], cutlength, 0])\n",
    "    signals.append([z_mat[1], cutlength, 0])\n",
    "    signals.append([z_mat[2], cutlength, 0])\n",
    "    \n",
    "    # General Rotation by alpha, beta, gamma\n",
    "    alpha = np.random.uniform()*2*np.pi\n",
    "    beta = np.random.uniform()*2*np.pi\n",
    "    gamma = np.random.uniform()*2*np.pi\n",
    "    rot_mat = rot_xyz(trace_mat, alpha, beta, gamma)\n",
    "    #signals.append([rot_mat[0], rot_mat[1], rot_mat[2], mag, cutlength, 0])\n",
    "    signals.append([rot_mat[0], cutlength, 0])\n",
    "    signals.append([rot_mat[1], cutlength, 0])\n",
    "    signals.append([rot_mat[2], cutlength, 0])\n",
    "    \n",
    "os.chdir('../')\n",
    "\n",
    "sig_df = pd.DataFrame(signals, columns = [\"trace\", \"cutlength\", \"signal\"])\n",
    "sig_df['p_arrival'] = 1000 - sig_df['cutlength']"
   ]
  },
  {
   "cell_type": "markdown",
   "id": "78506b6d-3e1f-457d-b993-ffe6e073bf9c",
   "metadata": {},
   "source": [
    "## Training Neural Network for dectecting whether or not the trace has a signal"
   ]
  },
  {
   "cell_type": "code",
   "execution_count": null,
   "id": "c196e089-6ea2-4909-afad-c21359874b3d",
   "metadata": {},
   "outputs": [],
   "source": [
    "# For rolling averages\n",
    "roll_short = 25\n",
    "roll_long = 50\n",
    "\n",
    "# For location segments\n",
    "window_step = 30\n",
    "window_size = 30"
   ]
  },
  {
   "cell_type": "code",
   "execution_count": null,
   "id": "b2aa2036-13c4-4850-b576-236e7fe8cd4f",
   "metadata": {},
   "outputs": [],
   "source": [
    "# Features and Targets for Identifying the Entire Trace\n",
    "\n",
    "features = []\n",
    "targets = []\n",
    "\n",
    "for index, slice_df in sig_df.iterrows():\n",
    "    # x = slice_df[\"tr_x\"]\n",
    "    # y = slice_df[\"tr_y\"]\n",
    "    # z = slice_df[\"tr_z\"]\n",
    "    tr = slice_df[\"trace\"]\n",
    "    mag = abs(tr)\n",
    "    # mag = slice_df[\"magnitude\"]\n",
    "    signal = slice_df[\"signal\"]\n",
    "    p_arrival = slice_df[\"p_arrival\"]\n",
    "    #d = {\"x\": x, \"y\":y, \"z\":z, \"magnitude\":mag}\n",
    "    d = {\"trace\": tr, \"magnitude\":mag}\n",
    "    \n",
    "    \n",
    "    temp_df = pd.DataFrame(data = d)\n",
    "    temp_df[\"STA\"] = temp_df[\"magnitude\"].rolling(roll_short).mean()\n",
    "    temp_df[\"LTA\"] = temp_df[\"magnitude\"].rolling(roll_long).mean()\n",
    "    temp_df[\"RAV\"] = temp_df[\"STA\"]/temp_df[\"LTA\"]\n",
    "    temp_df[\"STV\"] = temp_df[\"magnitude\"].rolling(roll_short).var()\n",
    "    temp_df[\"LTV\"] = temp_df[\"magnitude\"].rolling(roll_long).var()\n",
    "    \n",
    "    temp_df.dropna(inplace = True)\n",
    "    \n",
    "    features.append(temp_df.values)\n",
    "    targets.append(signal)"
   ]
  },
  {
   "cell_type": "code",
   "execution_count": null,
   "id": "ac7ee267-ce0f-4cad-b20e-946da911eeca",
   "metadata": {},
   "outputs": [],
   "source": [
    "X_train, X_test, y_train, y_test = train_test_split(features, targets, test_size = 0.3)"
   ]
  },
  {
   "cell_type": "code",
   "execution_count": null,
   "id": "d38fafac-6414-4e14-8cdd-50bcb5c54a99",
   "metadata": {},
   "outputs": [],
   "source": [
    "X_train = np.array(X_train)\n",
    "X_test = np.array(X_test)\n",
    "y_train = np.array(y_train)\n",
    "y_test = np.array(y_test)\n",
    "feature_shape = X_train[0].shape\n",
    "feature_shape"
   ]
  },
  {
   "cell_type": "code",
   "execution_count": null,
   "id": "dadb6968-d513-4a2a-8d5e-4d3e9d97e11c",
   "metadata": {},
   "outputs": [],
   "source": [
    "signalmodel = Sequential()\n",
    "signalmodel.add(LSTM(32, input_shape = feature_shape))\n",
    "signalmodel.add(Dense(1, activation = 'sigmoid'))\n",
    "signalmodel.summary()"
   ]
  },
  {
   "cell_type": "code",
   "execution_count": null,
   "id": "4832ed96-d723-4733-b604-9d24fa5c0a24",
   "metadata": {},
   "outputs": [],
   "source": [
    "signalmodel.compile(loss = 'binary_crossentropy', optimizer = \"adam\", metrics = ['accuracy'])\n",
    "signalmodel.fit(X_train, y_train, epochs = 40)"
   ]
  },
  {
   "cell_type": "code",
   "execution_count": null,
   "id": "5ef874d6-3d0b-4d05-9c33-9e1f819a79b7",
   "metadata": {},
   "outputs": [],
   "source": [
    "model_loss, model_accuracy = signalmodel.evaluate(X_test, y_test, verbose = 0)\n",
    "print(f\"Loss: {model_loss}, Accuracy: {model_accuracy}\")"
   ]
  },
  {
   "cell_type": "code",
   "execution_count": null,
   "id": "4006f796-ea1d-471f-aa1a-bfefb250c04f",
   "metadata": {},
   "outputs": [],
   "source": [
    "predictions_test = signalmodel.predict(X_test)\n",
    "class_test = predictions_test > 0.50\n",
    "f1_score_test = sklearn.metrics.f1_score(y_test, class_test)\n",
    "print(f\"F1 Score: {f1_score_test}\")"
   ]
  },
  {
   "cell_type": "code",
   "execution_count": null,
   "id": "07cf87c3-55a1-48e8-b2e3-3b45219bfbcc",
   "metadata": {},
   "outputs": [],
   "source": [
    "predictions_train = signalmodel.predict(X_train)\n",
    "class_train = predictions_train > 0.50\n",
    "f1_score_train = sklearn.metrics.f1_score(y_train, class_train)\n",
    "print(f\"F1 Score: {f1_score_train}\")"
   ]
  },
  {
   "cell_type": "code",
   "execution_count": null,
   "id": "335da0df-1324-4bb9-9874-ffab71362c73",
   "metadata": {},
   "outputs": [],
   "source": [
    "tn, fp, fn, tp = sklearn.metrics.confusion_matrix(y_test, class_test).ravel()\n",
    "(tn, fp, fn, tp)"
   ]
  },
  {
   "cell_type": "code",
   "execution_count": null,
   "id": "372048bf-458f-4e08-a3ba-36ece40c9485",
   "metadata": {},
   "outputs": [],
   "source": [
    "# Exporting Model\n",
    "os.getcwd()"
   ]
  },
  {
   "cell_type": "code",
   "execution_count": null,
   "id": "ca83c3de-4ab9-4667-bda1-5c896a34498a",
   "metadata": {},
   "outputs": [],
   "source": [
    "# Only run if we need to get to root directory\n",
    "os.chdir('../../')"
   ]
  },
  {
   "cell_type": "code",
   "execution_count": null,
   "id": "68252471-f2ef-41d8-866f-ed8994ce2884",
   "metadata": {},
   "outputs": [],
   "source": [
    "# Exporting signal model\n",
    "signalmodel.save('signalmodel')"
   ]
  },
  {
   "cell_type": "markdown",
   "id": "9e448cf9-f903-4b53-978d-87c87233e094",
   "metadata": {},
   "source": [
    "## Training Neural Network for dectecting where in the trace the p-wave starts"
   ]
  },
  {
   "cell_type": "code",
   "execution_count": null,
   "id": "767a9561-0de7-4e40-8318-dbe3fa039ce5",
   "metadata": {},
   "outputs": [],
   "source": [
    "# Features and Targets for Identifying Windows of Trace\n",
    "features = []\n",
    "targets = []\n",
    "\n",
    "for index, slice_df in sig_df.iterrows():\n",
    "    \n",
    "    signal = slice_df[\"signal\"]\n",
    "    \n",
    "    if signal == 1:\n",
    "        # x = slice_df[\"tr_x\"]\n",
    "        # y = slice_df[\"tr_y\"]\n",
    "        # z = slice_df[\"tr_z\"]\n",
    "        tr = slice_df[\"trace\"]\n",
    "        mag = abs(tr)\n",
    "        # mag = slice_df[\"magnitude\"]\n",
    "\n",
    "        p_arrival = slice_df[\"p_arrival\"]\n",
    "        d = {\"trace\":tr, \"magnitude\":mag}\n",
    "\n",
    "        temp_df = pd.DataFrame(data = d)\n",
    "        temp_df[\"STA\"] = temp_df[\"magnitude\"].rolling(roll_short).mean()\n",
    "        temp_df[\"LTA\"] = temp_df[\"magnitude\"].rolling(roll_long).mean()\n",
    "        temp_df[\"RAV\"] = temp_df[\"STA\"]/temp_df[\"LTA\"]\n",
    "        temp_df[\"STV\"] = temp_df[\"magnitude\"].rolling(roll_short).var()\n",
    "        temp_df[\"LTV\"] = temp_df[\"magnitude\"].rolling(roll_long).var()\n",
    "\n",
    "        temp_df.dropna(inplace = True)\n",
    "\n",
    "        start_ind = 0\n",
    "        end_ind = start_ind + window_size\n",
    "\n",
    "\n",
    "\n",
    "        while end_ind < (1000 - roll_long):\n",
    "            # xwindow = temp_df[\"x\"].iloc[start_ind:end_ind]\n",
    "            # ywindow = temp_df[\"y\"].iloc[start_ind:end_ind]\n",
    "            # zwindow = temp_df[\"z\"].iloc[start_ind:end_ind]\n",
    "            trwindow = temp_df[\"trace\"].iloc[start_ind:end_ind]\n",
    "            magwindow = temp_df[\"magnitude\"].iloc[start_ind:end_ind]\n",
    "            # stawindow = temp_df[\"STA\"].iloc[start_ind:end_ind]\n",
    "            # ltawindow = temp_df[\"LTA\"].iloc[start_ind:end_ind]\n",
    "            ravwindow = temp_df[\"RAV\"].iloc[start_ind:end_ind]\n",
    "            stvwindow = temp_df[\"STV\"].iloc[start_ind:end_ind]\n",
    "            ltvwindow = temp_df[\"LTV\"].iloc[start_ind:end_ind]\n",
    "\n",
    "            window_data = {\"trace\": trwindow, \"magnitude\": magwindow,\n",
    "                        \"RAV\": ravwindow, \"STV\": stvwindow, \"LTV\": ltvwindow}\n",
    "            window_df = pd.DataFrame(data = window_data)\n",
    "\n",
    "            features.append(window_df.values)\n",
    "\n",
    "            if (p_arrival >= start_ind) and (p_arrival <= end_ind):\n",
    "                targets.append(1)\n",
    "            else:\n",
    "                targets.append(0)\n",
    "\n",
    "            start_ind += window_step\n",
    "            end_ind = start_ind + window_size"
   ]
  },
  {
   "cell_type": "code",
   "execution_count": null,
   "id": "0b5e490b-72fc-4814-a7a4-5ae9cc8deabd",
   "metadata": {},
   "outputs": [],
   "source": [
    "# For Windows of Trace\n",
    "X_train, X_test, y_train, y_test = train_test_split(features, targets, test_size = 0.3)"
   ]
  },
  {
   "cell_type": "code",
   "execution_count": null,
   "id": "0a1e3788-b097-4f15-8f1a-fcaa6654a789",
   "metadata": {},
   "outputs": [],
   "source": [
    "X_train = np.array(X_train)\n",
    "X_test = np.array(X_test)\n",
    "y_train = np.array(y_train)\n",
    "y_test = np.array(y_test)\n",
    "feature_shape = X_train[0].shape\n",
    "feature_shape"
   ]
  },
  {
   "cell_type": "code",
   "execution_count": null,
   "id": "9ed06870-7602-490e-9379-b8c2fced4e69",
   "metadata": {},
   "outputs": [],
   "source": [
    "locmodel = Sequential()\n",
    "locmodel.add(LSTM(32, input_shape = feature_shape))\n",
    "locmodel.add(Dense(1, activation = 'sigmoid'))\n",
    "locmodel.summary()"
   ]
  },
  {
   "cell_type": "code",
   "execution_count": null,
   "id": "12ddc60a-9e49-496f-a55b-05bbc707eb08",
   "metadata": {
    "tags": []
   },
   "outputs": [],
   "source": [
    "locmodel.compile(loss = 'binary_crossentropy', optimizer = \"adam\", metrics = ['accuracy'])\n",
    "locmodel.fit(X_train, y_train, epochs = 20)"
   ]
  },
  {
   "cell_type": "code",
   "execution_count": null,
   "id": "c11df07e-d09f-45cc-b16b-e78fad661b12",
   "metadata": {},
   "outputs": [],
   "source": [
    "model_loss, model_accuracy = locmodel.evaluate(X_test, y_test, verbose = 0)\n",
    "print(f\"Loss: {model_loss}, Accuracy: {model_accuracy}\")"
   ]
  },
  {
   "cell_type": "code",
   "execution_count": null,
   "id": "3cee6a12-5168-416c-abc1-42e0fae4a0ba",
   "metadata": {},
   "outputs": [],
   "source": [
    "predictions_test = locmodel.predict(X_test)\n",
    "class_test = predictions_test > 0.25\n",
    "f1_score_test = sklearn.metrics.f1_score(y_test, class_test)\n",
    "print(f\"F1 Score: {f1_score_test}\")"
   ]
  },
  {
   "cell_type": "code",
   "execution_count": null,
   "id": "3b88990d-3b7d-4386-bc2b-0c052d144a4b",
   "metadata": {},
   "outputs": [],
   "source": [
    "predictions_train = locmodel.predict(X_train)\n",
    "class_train = predictions_train > 0.25\n",
    "f1_score_train = sklearn.metrics.f1_score(y_train, class_train)\n",
    "print(f\"F1 Score: {f1_score_train}\")"
   ]
  },
  {
   "cell_type": "code",
   "execution_count": null,
   "id": "e96e05e1-772d-4545-9459-f404e784caa2",
   "metadata": {},
   "outputs": [],
   "source": [
    "tn, fp, fn, tp = sklearn.metrics.confusion_matrix(y_test, class_test).ravel()\n",
    "(tn, fp, fn, tp)"
   ]
  },
  {
   "cell_type": "code",
   "execution_count": null,
   "id": "b88e497d-2109-4aab-92c0-b460c6b92cc7",
   "metadata": {},
   "outputs": [],
   "source": [
    "# Exporting location model\n",
    "locmodel.save('locmodel')"
   ]
  },
  {
   "cell_type": "markdown",
   "id": "e0a576e2-c3c7-4e11-96b6-1b0ffcae0aa8",
   "metadata": {},
   "source": [
    "## Spot checking results"
   ]
  },
  {
   "cell_type": "code",
   "execution_count": null,
   "id": "0dd2a59e-ae8b-47a7-9211-0e16d393214a",
   "metadata": {},
   "outputs": [],
   "source": [
    "loaded_signalmodel = load_model('signalmodel')"
   ]
  },
  {
   "cell_type": "code",
   "execution_count": null,
   "id": "fd85cee2-80fc-4e08-824a-d639e84bc16d",
   "metadata": {},
   "outputs": [],
   "source": [
    "loaded_locmodel = load_model('locmodel')"
   ]
  },
  {
   "cell_type": "code",
   "execution_count": null,
   "id": "f54da34d-bde9-4346-add9-e5f100bf40d3",
   "metadata": {},
   "outputs": [],
   "source": [
    "slice_df = sig_df.iloc[29]"
   ]
  },
  {
   "cell_type": "code",
   "execution_count": null,
   "id": "acc948d8-b620-4c92-a458-0747edac9f45",
   "metadata": {},
   "outputs": [],
   "source": [
    "sigfeatures = []\n",
    "sigtargets = []\n",
    "locfeatures = []\n",
    "loctargets = []\n",
    "\n",
    "# x = slice_df[\"tr_x\"]\n",
    "# y = slice_df[\"tr_y\"]\n",
    "# z = slice_df[\"tr_z\"]\n",
    "tr = slice_df[\"trace\"]\n",
    "mag = abs(tr)\n",
    "# mag = slice_df[\"magnitude\"]\n",
    "signal = slice_df[\"signal\"]\n",
    "p_arrival = slice_df[\"p_arrival\"]\n",
    "#d = {\"x\": x, \"y\":y, \"z\":z, \"magnitude\":mag}\n",
    "d = {\"trace\": tr, \"magnitude\":mag}\n",
    "temp_df = pd.DataFrame(data = d)"
   ]
  },
  {
   "cell_type": "code",
   "execution_count": null,
   "id": "c46c4710-a669-4dfe-a1f3-1280100b14c9",
   "metadata": {},
   "outputs": [],
   "source": [
    "temp_df[\"STA\"] = temp_df[\"magnitude\"].rolling(roll_short).mean()\n",
    "temp_df[\"LTA\"] = temp_df[\"magnitude\"].rolling(roll_long).mean()\n",
    "temp_df[\"RAV\"] = temp_df[\"STA\"]/temp_df[\"LTA\"]\n",
    "temp_df[\"STV\"] = temp_df[\"magnitude\"].rolling(roll_short).var()\n",
    "temp_df[\"LTV\"] = temp_df[\"magnitude\"].rolling(roll_long).var()\n",
    "    \n",
    "temp_df.dropna(inplace = True)\n",
    "sigfeatures.append(temp_df.values)\n",
    "sigtargets.append(signal)"
   ]
  },
  {
   "cell_type": "code",
   "execution_count": null,
   "id": "b96eeaf8-4bc0-4a1b-ac9d-66c21ff1c9fd",
   "metadata": {},
   "outputs": [],
   "source": [
    "loaded_signalmodel.predict(np.array(sigfeatures))"
   ]
  },
  {
   "cell_type": "code",
   "execution_count": null,
   "id": "87da8ba6-bda5-44eb-b99b-eb1a26c3d508",
   "metadata": {},
   "outputs": [],
   "source": [
    "sigtargets"
   ]
  },
  {
   "cell_type": "code",
   "execution_count": null,
   "id": "2da48180-379a-47d0-83ba-945e8b9bece4",
   "metadata": {},
   "outputs": [],
   "source": [
    "start_ind = 0\n",
    "end_ind = start_ind + window_size\n",
    "    \n",
    "while end_ind < (1000 - roll_long):\n",
    "    # xwindow = temp_df[\"x\"].iloc[start_ind:end_ind]\n",
    "    # ywindow = temp_df[\"y\"].iloc[start_ind:end_ind]\n",
    "    # zwindow = temp_df[\"z\"].iloc[start_ind:end_ind]\n",
    "    magwindow = temp_df[\"magnitude\"].iloc[start_ind:end_ind]\n",
    "    trwindow = temp_df[\"trace\"].iloc[start_ind:end_ind]\n",
    "    ravwindow = temp_df[\"RAV\"].iloc[start_ind:end_ind]\n",
    "    stvwindow = temp_df[\"STV\"].iloc[start_ind:end_ind]\n",
    "    ltvwindow = temp_df[\"LTV\"].iloc[start_ind:end_ind]\n",
    "\n",
    "    window_data = {\"trace\":trwindow, \"magnitude\": magwindow,\n",
    "                    \"RAV\": ravwindow, \"STV\": stvwindow, \"LTV\": ltvwindow}\n",
    "        \n",
    "    window_df = pd.DataFrame(data = window_data)\n",
    "\n",
    "    locfeatures.append(window_df.values)\n",
    "\n",
    "    if (p_arrival >= start_ind) and (p_arrival <= end_ind):\n",
    "        loctargets.append(1)\n",
    "    else:\n",
    "        loctargets.append(0)\n",
    "\n",
    "    start_ind += window_step\n",
    "    end_ind = start_ind + window_size"
   ]
  },
  {
   "cell_type": "code",
   "execution_count": null,
   "id": "f4f15ce4-958a-477c-b071-8ec709305665",
   "metadata": {},
   "outputs": [],
   "source": [
    "loaded_locmodel.predict(np.array(locfeatures))"
   ]
  },
  {
   "cell_type": "code",
   "execution_count": null,
   "id": "4af9ffb0-4f73-4376-9ede-beee58aac06f",
   "metadata": {},
   "outputs": [],
   "source": [
    "loctargets"
   ]
  },
  {
   "cell_type": "code",
   "execution_count": null,
   "id": "f217fc42-514b-482b-81b3-02b47e56b37b",
   "metadata": {},
   "outputs": [],
   "source": [
    "## Pseudo Coding Test Script\n",
    "\"\"\"\n",
    "1) Take in trace file\n",
    "2) Normalize data\n",
    "3) Calculate Fields for signalmodel\n",
    "4) Predict whether or not the trace contains a signal\n",
    "\n",
    "If YES:\n",
    "5) Calculate Fields for locmodel\n",
    "6) Predict where the pwave is\n",
    "7) Take the max probability\n",
    "8) Convert to a UTC timestamp\n",
    "9) Return UTC timestamp\n",
    "\n",
    "If NO:\n",
    "5) Return None\n",
    "\"\"\""
   ]
  },
  {
   "cell_type": "code",
   "execution_count": null,
   "id": "8f1f5a28-3e94-4b92-9659-3f13dd6860fc",
   "metadata": {},
   "outputs": [],
   "source": []
  },
  {
   "cell_type": "code",
   "execution_count": null,
   "id": "1d26aa59-165b-4eb5-9cdc-7462d2cd72d8",
   "metadata": {},
   "outputs": [],
   "source": []
  },
  {
   "cell_type": "code",
   "execution_count": null,
   "id": "61f293e8-fede-414b-82c5-423b44636f25",
   "metadata": {},
   "outputs": [],
   "source": []
  },
  {
   "cell_type": "code",
   "execution_count": null,
   "id": "f6f31f1f-0ef4-424d-a00c-0013b2452042",
   "metadata": {},
   "outputs": [],
   "source": []
  }
 ],
 "metadata": {
  "kernelspec": {
   "display_name": "Python 3 (ipykernel)",
   "language": "python",
   "name": "python3"
  },
  "language_info": {
   "codemirror_mode": {
    "name": "ipython",
    "version": 3
   },
   "file_extension": ".py",
   "mimetype": "text/x-python",
   "name": "python",
   "nbconvert_exporter": "python",
   "pygments_lexer": "ipython3",
   "version": "3.8.12"
  }
 },
 "nbformat": 4,
 "nbformat_minor": 5
}
